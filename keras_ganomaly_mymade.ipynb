{
  "nbformat": 4,
  "nbformat_minor": 0,
  "metadata": {
    "colab": {
      "name": "ganomaly.ipynb",
      "provenance": []
    },
    "kernelspec": {
      "name": "python3",
      "display_name": "Python 3"
    },
    "accelerator": "GPU"
  },
  "cells": [
    {
      "cell_type": "code",
      "metadata": {
        "id": "_fOFzTCbXTfi",
        "colab_type": "code",
        "colab": {
          "base_uri": "https://localhost:8080/",
          "height": 34
        },
        "outputId": "e20a0bd4-5bd8-4f45-cbf3-7115841a1e83"
      },
      "source": [
        "from keras import layers\n",
        "import keras\n",
        "import keras.backend as K\n",
        "\n",
        "import numpy as np\n",
        "import seaborn as sns"
      ],
      "execution_count": 1,
      "outputs": [
        {
          "output_type": "stream",
          "text": [
            "Using TensorFlow backend.\n"
          ],
          "name": "stderr"
        }
      ]
    },
    {
      "cell_type": "markdown",
      "metadata": {
        "id": "jAzGntqyX583",
        "colab_type": "text"
      },
      "source": [
        "# Models"
      ]
    },
    {
      "cell_type": "code",
      "metadata": {
        "id": "lj9m8quMYrtB",
        "colab_type": "code",
        "colab": {}
      },
      "source": [
        "width = 64\n",
        "height = 64\n",
        "channels = 1"
      ],
      "execution_count": 2,
      "outputs": []
    },
    {
      "cell_type": "markdown",
      "metadata": {
        "id": "9V6k5E4HX8ns",
        "colab_type": "text"
      },
      "source": [
        "## Generators Encoder\n"
      ]
    },
    {
      "cell_type": "code",
      "metadata": {
        "id": "6SSgbWtgYFge",
        "colab_type": "code",
        "colab": {
          "base_uri": "https://localhost:8080/",
          "height": 607
        },
        "outputId": "f0d06925-9eb0-41bd-cbc8-2e68831223ce"
      },
      "source": [
        "input_layer = layers.Input(name='input', shape=(height, width, channels))\n",
        "\n",
        "# Encoder\n",
        "x = layers.Conv2D(32, (5,5), strides=(1,1), padding='same', name='conv_1', kernel_regularizer = 'l2')(input_layer)\n",
        "x = layers.LeakyReLU(name='leaky_1')(x)\n",
        "\n",
        "x = layers.Conv2D(64, (3,3), strides=(2,2), padding='same', name='conv_2', kernel_regularizer = 'l2')(x)\n",
        "x = layers.BatchNormalization(name='norm_1')(x)\n",
        "x = layers.LeakyReLU(name='leaky_2')(x)\n",
        "\n",
        "\n",
        "x = layers.Conv2D(128, (3,3), strides=(2,2), padding='same', name='conv_3', kernel_regularizer = 'l2')(x)\n",
        "x = layers.BatchNormalization(name='norm_2')(x)\n",
        "x = layers.LeakyReLU(name='leaky_3')(x)\n",
        "\n",
        "\n",
        "x = layers.Conv2D(128, (3,3), strides=(2,2), padding='same', name='conv_4', kernel_regularizer = 'l2')(x)\n",
        "x = layers.BatchNormalization(name='norm_3')(x)\n",
        "x = layers.LeakyReLU(name='leaky_4')(x)\n",
        "\n",
        "x = layers.GlobalAveragePooling2D(name='g_encoder_output')(x)\n",
        "\n",
        "g_e = keras.models.Model(inputs=input_layer, outputs=x)\n",
        "\n",
        "g_e.summary()"
      ],
      "execution_count": 3,
      "outputs": [
        {
          "output_type": "stream",
          "text": [
            "Model: \"model_1\"\n",
            "_________________________________________________________________\n",
            "Layer (type)                 Output Shape              Param #   \n",
            "=================================================================\n",
            "input (InputLayer)           (None, 64, 64, 1)         0         \n",
            "_________________________________________________________________\n",
            "conv_1 (Conv2D)              (None, 64, 64, 32)        832       \n",
            "_________________________________________________________________\n",
            "leaky_1 (LeakyReLU)          (None, 64, 64, 32)        0         \n",
            "_________________________________________________________________\n",
            "conv_2 (Conv2D)              (None, 32, 32, 64)        18496     \n",
            "_________________________________________________________________\n",
            "norm_1 (BatchNormalization)  (None, 32, 32, 64)        256       \n",
            "_________________________________________________________________\n",
            "leaky_2 (LeakyReLU)          (None, 32, 32, 64)        0         \n",
            "_________________________________________________________________\n",
            "conv_3 (Conv2D)              (None, 16, 16, 128)       73856     \n",
            "_________________________________________________________________\n",
            "norm_2 (BatchNormalization)  (None, 16, 16, 128)       512       \n",
            "_________________________________________________________________\n",
            "leaky_3 (LeakyReLU)          (None, 16, 16, 128)       0         \n",
            "_________________________________________________________________\n",
            "conv_4 (Conv2D)              (None, 8, 8, 128)         147584    \n",
            "_________________________________________________________________\n",
            "norm_3 (BatchNormalization)  (None, 8, 8, 128)         512       \n",
            "_________________________________________________________________\n",
            "leaky_4 (LeakyReLU)          (None, 8, 8, 128)         0         \n",
            "_________________________________________________________________\n",
            "g_encoder_output (GlobalAver (None, 128)               0         \n",
            "=================================================================\n",
            "Total params: 242,048\n",
            "Trainable params: 241,408\n",
            "Non-trainable params: 640\n",
            "_________________________________________________________________\n"
          ],
          "name": "stdout"
        }
      ]
    },
    {
      "cell_type": "markdown",
      "metadata": {
        "id": "CsFGE97WYMts",
        "colab_type": "text"
      },
      "source": [
        "## Generator"
      ]
    },
    {
      "cell_type": "code",
      "metadata": {
        "id": "pivNg2CMYQwi",
        "colab_type": "code",
        "colab": {
          "base_uri": "https://localhost:8080/",
          "height": 538
        },
        "outputId": "eda27382-fdb4-4a79-f76e-c5c201b2b3d4"
      },
      "source": [
        "input_layer = layers.Input(name='input', shape=(height, width, channels))\n",
        "\n",
        "x = g_e(input_layer)\n",
        "\n",
        "y = layers.Dense(width * width * 2, name='dense')(x) # 2 = 128 / 8 / 8\n",
        "y = layers.Reshape((width//8, width//8, 128), name='de_reshape')(y)\n",
        "\n",
        "y = layers.Conv2DTranspose(128, (3,3), strides=(2,2), padding='same', name='deconv_1', kernel_regularizer = 'l2')(y)\n",
        "y = layers.LeakyReLU(name='de_leaky_1')(y)\n",
        "\n",
        "y = layers.Conv2DTranspose(64, (3,3), strides=(2,2), padding='same', name='deconv_2', kernel_regularizer = 'l2')(y)\n",
        "y = layers.LeakyReLU(name='de_leaky_2')(y)\n",
        "\n",
        "y = layers.Conv2DTranspose(32, (3,3), strides=(2,2), padding='same', name='deconv_3', kernel_regularizer = 'l2')(y)\n",
        "y = layers.LeakyReLU(name='de_leaky_3')(y)\n",
        "\n",
        "y = layers.Conv2DTranspose(channels, (1, 1), strides=(1,1), padding='same', name='decoder_deconv_output', kernel_regularizer = 'l2', activation='tanh')(y)\n",
        "\n",
        "g = keras.models.Model(inputs=input_layer, outputs=y)\n",
        "\n",
        "g.summary()"
      ],
      "execution_count": 4,
      "outputs": [
        {
          "output_type": "stream",
          "text": [
            "Model: \"model_2\"\n",
            "_________________________________________________________________\n",
            "Layer (type)                 Output Shape              Param #   \n",
            "=================================================================\n",
            "input (InputLayer)           (None, 64, 64, 1)         0         \n",
            "_________________________________________________________________\n",
            "model_1 (Model)              (None, 128)               242048    \n",
            "_________________________________________________________________\n",
            "dense (Dense)                (None, 8192)              1056768   \n",
            "_________________________________________________________________\n",
            "de_reshape (Reshape)         (None, 8, 8, 128)         0         \n",
            "_________________________________________________________________\n",
            "deconv_1 (Conv2DTranspose)   (None, 16, 16, 128)       147584    \n",
            "_________________________________________________________________\n",
            "de_leaky_1 (LeakyReLU)       (None, 16, 16, 128)       0         \n",
            "_________________________________________________________________\n",
            "deconv_2 (Conv2DTranspose)   (None, 32, 32, 64)        73792     \n",
            "_________________________________________________________________\n",
            "de_leaky_2 (LeakyReLU)       (None, 32, 32, 64)        0         \n",
            "_________________________________________________________________\n",
            "deconv_3 (Conv2DTranspose)   (None, 64, 64, 32)        18464     \n",
            "_________________________________________________________________\n",
            "de_leaky_3 (LeakyReLU)       (None, 64, 64, 32)        0         \n",
            "_________________________________________________________________\n",
            "decoder_deconv_output (Conv2 (None, 64, 64, 1)         33        \n",
            "=================================================================\n",
            "Total params: 1,538,689\n",
            "Trainable params: 1,538,049\n",
            "Non-trainable params: 640\n",
            "_________________________________________________________________\n"
          ],
          "name": "stdout"
        }
      ]
    },
    {
      "cell_type": "markdown",
      "metadata": {
        "id": "6xJahMZrZReX",
        "colab_type": "text"
      },
      "source": [
        "## Encoder"
      ]
    },
    {
      "cell_type": "code",
      "metadata": {
        "id": "coa6bXCRYRG9",
        "colab_type": "code",
        "colab": {
          "base_uri": "https://localhost:8080/",
          "height": 607
        },
        "outputId": "b5f5f34b-6560-40c9-e93a-5534048c334e"
      },
      "source": [
        "input_layer = layers.Input(name='input', shape=(height, width, channels))\n",
        "\n",
        "z = layers.Conv2D(32, (5,5), strides=(1,1), padding='same', name='encoder_conv_1', kernel_regularizer = 'l2')(input_layer)\n",
        "z = layers.LeakyReLU()(z)\n",
        "\n",
        "z = layers.Conv2D(64, (3,3), strides=(2,2), padding='same', name='encoder_conv_2', kernel_regularizer = 'l2')(z)\n",
        "z = layers.BatchNormalization(name='encoder_norm_1')(z)\n",
        "z = layers.LeakyReLU()(z)\n",
        "\n",
        "\n",
        "z = layers.Conv2D(128, (3,3), strides=(2,2), padding='same', name='encoder_conv_3', kernel_regularizer = 'l2')(z)\n",
        "z = layers.BatchNormalization(name='encoder_norm_2')(z)\n",
        "z = layers.LeakyReLU()(z)\n",
        "\n",
        "z = layers.Conv2D(128, (3,3), strides=(2,2), padding='same', name='conv_41', kernel_regularizer = 'l2')(z)\n",
        "z = layers.BatchNormalization(name='encoder_norm_3')(z)\n",
        "z = layers.LeakyReLU()(z)\n",
        "\n",
        "z = layers.GlobalAveragePooling2D(name='encoder_output')(z)\n",
        "\n",
        "encoder = keras.models.Model(input_layer, z)\n",
        "encoder.summary()"
      ],
      "execution_count": 5,
      "outputs": [
        {
          "output_type": "stream",
          "text": [
            "Model: \"model_3\"\n",
            "_________________________________________________________________\n",
            "Layer (type)                 Output Shape              Param #   \n",
            "=================================================================\n",
            "input (InputLayer)           (None, 64, 64, 1)         0         \n",
            "_________________________________________________________________\n",
            "encoder_conv_1 (Conv2D)      (None, 64, 64, 32)        832       \n",
            "_________________________________________________________________\n",
            "leaky_re_lu_1 (LeakyReLU)    (None, 64, 64, 32)        0         \n",
            "_________________________________________________________________\n",
            "encoder_conv_2 (Conv2D)      (None, 32, 32, 64)        18496     \n",
            "_________________________________________________________________\n",
            "encoder_norm_1 (BatchNormali (None, 32, 32, 64)        256       \n",
            "_________________________________________________________________\n",
            "leaky_re_lu_2 (LeakyReLU)    (None, 32, 32, 64)        0         \n",
            "_________________________________________________________________\n",
            "encoder_conv_3 (Conv2D)      (None, 16, 16, 128)       73856     \n",
            "_________________________________________________________________\n",
            "encoder_norm_2 (BatchNormali (None, 16, 16, 128)       512       \n",
            "_________________________________________________________________\n",
            "leaky_re_lu_3 (LeakyReLU)    (None, 16, 16, 128)       0         \n",
            "_________________________________________________________________\n",
            "conv_41 (Conv2D)             (None, 8, 8, 128)         147584    \n",
            "_________________________________________________________________\n",
            "encoder_norm_3 (BatchNormali (None, 8, 8, 128)         512       \n",
            "_________________________________________________________________\n",
            "leaky_re_lu_4 (LeakyReLU)    (None, 8, 8, 128)         0         \n",
            "_________________________________________________________________\n",
            "encoder_output (GlobalAverag (None, 128)               0         \n",
            "=================================================================\n",
            "Total params: 242,048\n",
            "Trainable params: 241,408\n",
            "Non-trainable params: 640\n",
            "_________________________________________________________________\n"
          ],
          "name": "stdout"
        }
      ]
    },
    {
      "cell_type": "markdown",
      "metadata": {
        "id": "WHU8SoiCZUCH",
        "colab_type": "text"
      },
      "source": [
        "## feature extractor"
      ]
    },
    {
      "cell_type": "code",
      "metadata": {
        "id": "tovsU-1uZXzr",
        "colab_type": "code",
        "colab": {
          "base_uri": "https://localhost:8080/",
          "height": 573
        },
        "outputId": "2980d11d-5305-4ed3-fe39-9134f86f956e"
      },
      "source": [
        "input_layer = layers.Input(name='input', shape=(height, width, channels))\n",
        "\n",
        "f = layers.Conv2D(32, (5,5), strides=(1,1), padding='same', name='f_conv_1', kernel_regularizer = 'l2')(input_layer)\n",
        "f = layers.LeakyReLU(name='f_leaky_1')(f)\n",
        "\n",
        "f = layers.Conv2D(64, (3,3), strides=(2,2), padding='same', name='f_conv_2', kernel_regularizer = 'l2')(f)\n",
        "f = layers.BatchNormalization(name='f_norm_1')(f)\n",
        "f = layers.LeakyReLU(name='f_leaky_2')(f)\n",
        "\n",
        "\n",
        "f = layers.Conv2D(128, (3,3), strides=(2,2), padding='same', name='f_conv_3', kernel_regularizer = 'l2')(f)\n",
        "f = layers.BatchNormalization(name='f_norm_2')(f)\n",
        "f = layers.LeakyReLU(name='f_leaky_3')(f)\n",
        "\n",
        "\n",
        "f = layers.Conv2D(128, (3,3), strides=(2,2), padding='same', name='f_conv_4', kernel_regularizer = 'l2')(f)\n",
        "f = layers.BatchNormalization(name='f_norm_3')(f)\n",
        "f = layers.LeakyReLU(name='feature_output')(f)\n",
        "\n",
        "feature_extractor = keras.models.Model(input_layer, f)\n",
        "\n",
        "feature_extractor.summary()"
      ],
      "execution_count": 6,
      "outputs": [
        {
          "output_type": "stream",
          "text": [
            "Model: \"model_4\"\n",
            "_________________________________________________________________\n",
            "Layer (type)                 Output Shape              Param #   \n",
            "=================================================================\n",
            "input (InputLayer)           (None, 64, 64, 1)         0         \n",
            "_________________________________________________________________\n",
            "f_conv_1 (Conv2D)            (None, 64, 64, 32)        832       \n",
            "_________________________________________________________________\n",
            "f_leaky_1 (LeakyReLU)        (None, 64, 64, 32)        0         \n",
            "_________________________________________________________________\n",
            "f_conv_2 (Conv2D)            (None, 32, 32, 64)        18496     \n",
            "_________________________________________________________________\n",
            "f_norm_1 (BatchNormalization (None, 32, 32, 64)        256       \n",
            "_________________________________________________________________\n",
            "f_leaky_2 (LeakyReLU)        (None, 32, 32, 64)        0         \n",
            "_________________________________________________________________\n",
            "f_conv_3 (Conv2D)            (None, 16, 16, 128)       73856     \n",
            "_________________________________________________________________\n",
            "f_norm_2 (BatchNormalization (None, 16, 16, 128)       512       \n",
            "_________________________________________________________________\n",
            "f_leaky_3 (LeakyReLU)        (None, 16, 16, 128)       0         \n",
            "_________________________________________________________________\n",
            "f_conv_4 (Conv2D)            (None, 8, 8, 128)         147584    \n",
            "_________________________________________________________________\n",
            "f_norm_3 (BatchNormalization (None, 8, 8, 128)         512       \n",
            "_________________________________________________________________\n",
            "feature_output (LeakyReLU)   (None, 8, 8, 128)         0         \n",
            "=================================================================\n",
            "Total params: 242,048\n",
            "Trainable params: 241,408\n",
            "Non-trainable params: 640\n",
            "_________________________________________________________________\n"
          ],
          "name": "stdout"
        }
      ]
    },
    {
      "cell_type": "markdown",
      "metadata": {
        "id": "Z7HBx1GiZhm-",
        "colab_type": "text"
      },
      "source": [
        "## gan trainer"
      ]
    },
    {
      "cell_type": "code",
      "metadata": {
        "id": "bosacIf7ZkZ4",
        "colab_type": "code",
        "colab": {}
      },
      "source": [
        "class AdvLoss(keras.layers.Layer):\n",
        "    def __init__(self, **kwargs):\n",
        "        super(AdvLoss, self).__init__(**kwargs)\n",
        "\n",
        "    def call(self, x, mask=None):\n",
        "        ori_feature = feature_extractor(x[0])\n",
        "        gan_feature = feature_extractor(x[1])\n",
        "        return K.mean(K.square(ori_feature - K.mean(gan_feature, axis=0)))\n",
        "\n",
        "    def get_output_shape_for(self, input_shape):\n",
        "        return (input_shape[0][0], 1)\n",
        "    \n",
        "class CntLoss(keras.layers.Layer):\n",
        "    def __init__(self, **kwargs):\n",
        "        super(CntLoss, self).__init__(**kwargs)\n",
        "\n",
        "    def call(self, x, mask=None):\n",
        "        ori = x[0]\n",
        "        gan = x[1]\n",
        "        return K.mean(K.abs(ori - gan))\n",
        "\n",
        "    def get_output_shape_for(self, input_shape):\n",
        "        return (input_shape[0][0], 1)\n",
        "    \n",
        "class EncLoss(keras.layers.Layer):\n",
        "    def __init__(self, **kwargs):\n",
        "        super(EncLoss, self).__init__(**kwargs)\n",
        "\n",
        "    def call(self, x, mask=None):\n",
        "        ori = x[0]\n",
        "        gan = x[1]\n",
        "        return K.mean(K.square(g_e(ori) - encoder(gan)))\n",
        "\n",
        "    def get_output_shape_for(self, input_shape):\n",
        "        return (input_shape[0][0], 1)\n",
        "    \n",
        "# model for training\n",
        "input_layer = layers.Input(name='input', shape=(height, width, channels))\n",
        "gan = g(input_layer) # g(x)\n",
        "\n",
        "adv_loss = AdvLoss(name='adv_loss')([input_layer, gan])\n",
        "cnt_loss = CntLoss(name='cnt_loss')([input_layer, gan])\n",
        "enc_loss = EncLoss(name='enc_loss')([input_layer, gan])\n",
        "\n",
        "gan_trainer = keras.models.Model(input_layer, [adv_loss, cnt_loss, enc_loss])\n",
        "\n",
        "# loss function\n",
        "def loss(yt, yp):\n",
        "    return yp\n",
        "\n",
        "losses = {\n",
        "    'adv_loss': loss,\n",
        "    'cnt_loss': loss,\n",
        "    'enc_loss': loss,\n",
        "}\n",
        "\n",
        "lossWeights = {'cnt_loss': 20.0, 'adv_loss': 1.0, 'enc_loss': 1.0}\n",
        "\n",
        "# compile\n",
        "gan_trainer.compile(optimizer = 'adam', loss=losses, loss_weights=lossWeights)"
      ],
      "execution_count": 7,
      "outputs": []
    },
    {
      "cell_type": "code",
      "metadata": {
        "id": "6YlrDrqZUfJG",
        "colab_type": "code",
        "colab": {
          "base_uri": "https://localhost:8080/",
          "height": 382
        },
        "outputId": "f33d162b-bcd8-48da-c6a5-9ed420cb02ff"
      },
      "source": [
        "gan_trainer.summary()"
      ],
      "execution_count": 8,
      "outputs": [
        {
          "output_type": "stream",
          "text": [
            "Model: \"model_5\"\n",
            "__________________________________________________________________________________________________\n",
            "Layer (type)                    Output Shape         Param #     Connected to                     \n",
            "==================================================================================================\n",
            "input (InputLayer)              (None, 64, 64, 1)    0                                            \n",
            "__________________________________________________________________________________________________\n",
            "model_2 (Model)                 (None, 64, 64, 1)    1538689     input[0][0]                      \n",
            "__________________________________________________________________________________________________\n",
            "adv_loss (AdvLoss)              [(None, 64, 64, 1),  0           input[0][0]                      \n",
            "                                                                 model_2[1][0]                    \n",
            "__________________________________________________________________________________________________\n",
            "cnt_loss (CntLoss)              [(None, 64, 64, 1),  0           input[0][0]                      \n",
            "                                                                 model_2[1][0]                    \n",
            "__________________________________________________________________________________________________\n",
            "enc_loss (EncLoss)              [(None, 64, 64, 1),  0           input[0][0]                      \n",
            "                                                                 model_2[1][0]                    \n",
            "==================================================================================================\n",
            "Total params: 1,538,689\n",
            "Trainable params: 1,538,049\n",
            "Non-trainable params: 640\n",
            "__________________________________________________________________________________________________\n"
          ],
          "name": "stdout"
        }
      ]
    },
    {
      "cell_type": "markdown",
      "metadata": {
        "id": "pWWVBPizZctk",
        "colab_type": "text"
      },
      "source": [
        "## discriminator"
      ]
    },
    {
      "cell_type": "code",
      "metadata": {
        "id": "xcJdjTerZbMN",
        "colab_type": "code",
        "colab": {
          "base_uri": "https://localhost:8080/",
          "height": 295
        },
        "outputId": "048cbc4f-94f9-492f-f553-34c28d82470c"
      },
      "source": [
        "input_layer = layers.Input(name='input', shape=(height, width, channels))\n",
        "\n",
        "f = feature_extractor(input_layer)\n",
        "\n",
        "d = layers.GlobalAveragePooling2D(name='glb_avg')(f)\n",
        "d = layers.Dense(1, activation='sigmoid', name='d_out')(d)\n",
        "    \n",
        "d = keras.models.Model(input_layer, d)\n",
        "d.summary()"
      ],
      "execution_count": 9,
      "outputs": [
        {
          "output_type": "stream",
          "text": [
            "Model: \"model_6\"\n",
            "_________________________________________________________________\n",
            "Layer (type)                 Output Shape              Param #   \n",
            "=================================================================\n",
            "input (InputLayer)           (None, 64, 64, 1)         0         \n",
            "_________________________________________________________________\n",
            "model_4 (Model)              (None, 8, 8, 128)         242048    \n",
            "_________________________________________________________________\n",
            "glb_avg (GlobalAveragePoolin (None, 128)               0         \n",
            "_________________________________________________________________\n",
            "d_out (Dense)                (None, 1)                 129       \n",
            "=================================================================\n",
            "Total params: 242,177\n",
            "Trainable params: 241,537\n",
            "Non-trainable params: 640\n",
            "_________________________________________________________________\n"
          ],
          "name": "stdout"
        }
      ]
    },
    {
      "cell_type": "code",
      "metadata": {
        "id": "W6d91GYncIGT",
        "colab_type": "code",
        "colab": {}
      },
      "source": [
        "d.compile(optimizer='adam', loss='binary_crossentropy')"
      ],
      "execution_count": 10,
      "outputs": []
    },
    {
      "cell_type": "markdown",
      "metadata": {
        "id": "x6f6m8x7bDUX",
        "colab_type": "text"
      },
      "source": [
        "# Load Data"
      ]
    },
    {
      "cell_type": "code",
      "metadata": {
        "id": "oniqQC4ZbN06",
        "colab_type": "code",
        "colab": {}
      },
      "source": [
        "from keras.datasets import mnist\n",
        "import cv2\n",
        "import numpy as np\n",
        "\n",
        "(x_train, y_train), (x_test, y_test) = mnist.load_data()\n",
        "x_ok = x_train[y_train == 1] # 6742 筆\n",
        "x_test = x_test[(y_test == 7) | (y_test == 1)] # 1135 筆 \"1\", 1028 筆 \"7\"\n",
        "y_test = y_test[(y_test == 7) | (y_test == 1)]\n",
        "\n",
        "def reshape_x(x):\n",
        "    new_x = np.empty((len(x), width, height))\n",
        "    for i, e in enumerate(x):\n",
        "        new_x[i] = cv2.resize(e, (width, height))\n",
        "    return np.expand_dims(new_x, axis=-1) / 127 - 1\n",
        "  \n",
        "x_ok = reshape_x(x_ok)\n",
        "x_test = reshape_x(x_test)"
      ],
      "execution_count": 11,
      "outputs": []
    },
    {
      "cell_type": "code",
      "metadata": {
        "id": "eEX22tJD7DUW",
        "colab_type": "code",
        "colab": {
          "base_uri": "https://localhost:8080/",
          "height": 34
        },
        "outputId": "87f8bf50-1097-48ae-e8c5-f20cc4c13593"
      },
      "source": [
        "y_test"
      ],
      "execution_count": 12,
      "outputs": [
        {
          "output_type": "execute_result",
          "data": {
            "text/plain": [
              "array([7, 1, 1, ..., 1, 7, 1], dtype=uint8)"
            ]
          },
          "metadata": {
            "tags": []
          },
          "execution_count": 12
        }
      ]
    },
    {
      "cell_type": "code",
      "metadata": {
        "id": "cSHS5Mul7DFg",
        "colab_type": "code",
        "colab": {}
      },
      "source": [
        ""
      ],
      "execution_count": 12,
      "outputs": []
    },
    {
      "cell_type": "code",
      "metadata": {
        "id": "GvxWqaXtbTS4",
        "colab_type": "code",
        "colab": {
          "base_uri": "https://localhost:8080/",
          "height": 34
        },
        "outputId": "362c3ca5-d035-4705-e945-5c43abfd26f2"
      },
      "source": [
        "x_ok.max()"
      ],
      "execution_count": 13,
      "outputs": [
        {
          "output_type": "execute_result",
          "data": {
            "text/plain": [
              "1.0078740157480315"
            ]
          },
          "metadata": {
            "tags": []
          },
          "execution_count": 13
        }
      ]
    },
    {
      "cell_type": "markdown",
      "metadata": {
        "id": "dxPzCEC1bFMR",
        "colab_type": "text"
      },
      "source": [
        "# Training"
      ]
    },
    {
      "cell_type": "code",
      "metadata": {
        "id": "jDYFHg6Iboh4",
        "colab_type": "code",
        "colab": {}
      },
      "source": [
        "niter = 10000\n",
        "bz = 32"
      ],
      "execution_count": 14,
      "outputs": []
    },
    {
      "cell_type": "code",
      "metadata": {
        "id": "53rLCTe3a8LY",
        "colab_type": "code",
        "colab": {}
      },
      "source": [
        "def get_data_generator(data, batch_size=32):\n",
        "    datalen = len(data)\n",
        "    cnt = 0\n",
        "    while True:\n",
        "        idxes = np.arange(datalen)\n",
        "        np.random.shuffle(idxes)\n",
        "        cnt += 1\n",
        "        for i in range(int(np.ceil(datalen/batch_size))):\n",
        "            train_x = np.take(data, idxes[i*batch_size: (i+1) * batch_size], axis=0)\n",
        "            y = np.ones(len(train_x))\n",
        "            yield train_x, [y, y, y]"
      ],
      "execution_count": 15,
      "outputs": []
    },
    {
      "cell_type": "code",
      "metadata": {
        "id": "fHQxiAHia_5J",
        "colab_type": "code",
        "colab": {}
      },
      "source": [
        "train_data_generator = get_data_generator(x_ok, bz)"
      ],
      "execution_count": 16,
      "outputs": []
    },
    {
      "cell_type": "code",
      "metadata": {
        "id": "TJz5cAo_7d8U",
        "colab_type": "code",
        "colab": {}
      },
      "source": [
        ""
      ],
      "execution_count": 16,
      "outputs": []
    },
    {
      "cell_type": "code",
      "metadata": {
        "id": "OKkjwML7bjqg",
        "colab_type": "code",
        "colab": {
          "base_uri": "https://localhost:8080/",
          "height": 1000
        },
        "outputId": "b12f50fd-d8d7-426e-9caa-2035d47fd880"
      },
      "source": [
        "for i in range(niter):\n",
        "    \n",
        "    ### get batch x, y ###\n",
        "    x, y = train_data_generator.__next__()\n",
        "    ### train disciminator ###\n",
        "    d.trainable = True\n",
        "    fake_x = g.predict(x)\n",
        "    d_x = np.concatenate([x, fake_x], axis=0)\n",
        "    d_y = np.concatenate([np.zeros(len(x)), np.ones(len(fake_x))], axis=0)\n",
        "    d_loss = d.train_on_batch(d_x, d_y)\n",
        "    ### train generator ###\n",
        "    d.trainable = False \n",
        "    g_loss = gan_trainer.train_on_batch(x, y)\n",
        "\n",
        "    if i % 50 == 0:\n",
        "        print(f'niter: {i+1}, g_loss: {g_loss}, d_loss: {d_loss}')"
      ],
      "execution_count": 17,
      "outputs": [
        {
          "output_type": "stream",
          "text": [
            "niter: 1, g_loss: [25.01359, 0.8479528, 0.950878, 0.007632983], d_loss: 3.3414711952209473\n",
            "niter: 51, g_loss: [4.133384, 0.35018554, 0.10085177, 0.012972855], d_loss: 1.1394522190093994\n",
            "niter: 101, g_loss: [2.328932, 0.20116547, 0.06320417, 0.042561952], d_loss: 0.516382098197937\n",
            "niter: 151, g_loss: [2.1299517, 0.2617591, 0.06476632, 0.030910823], d_loss: 0.3014366626739502\n",
            "niter: 201, g_loss: [1.8925446, 0.23132345, 0.06155479, 0.029375222], d_loss: 0.15676666796207428\n",
            "niter: 251, g_loss: [1.5407001, 0.16188483, 0.05115443, 0.024921117], d_loss: 0.09083641320466995\n",
            "niter: 301, g_loss: [1.752663, 0.354279, 0.053075016, 0.030884864], d_loss: 0.08213090896606445\n",
            "niter: 351, g_loss: [1.4375085, 0.13986018, 0.049927868, 0.023932064], d_loss: 0.05556882172822952\n",
            "niter: 401, g_loss: [1.4471173, 0.19527024, 0.048662677, 0.029472897], d_loss: 0.21667850017547607\n",
            "niter: 451, g_loss: [1.4671489, 0.19740096, 0.050135992, 0.027699148], d_loss: 0.09063361585140228\n",
            "niter: 501, g_loss: [1.7083298, 0.23586923, 0.061140906, 0.027838157], d_loss: 0.15148763358592987\n",
            "niter: 551, g_loss: [1.5190612, 0.34701848, 0.046343684, 0.021512184], d_loss: 0.20246490836143494\n",
            "niter: 601, g_loss: [1.5464329, 0.3116492, 0.04842369, 0.03865843], d_loss: 0.2529364228248596\n",
            "niter: 651, g_loss: [1.4218193, 0.21320456, 0.04771586, 0.025085295], d_loss: 0.3772585093975067\n",
            "niter: 701, g_loss: [1.524372, 0.29789937, 0.049349725, 0.029645555], d_loss: 0.1437162458896637\n",
            "niter: 751, g_loss: [1.5028628, 0.2203427, 0.052114822, 0.025727874], d_loss: 0.8499720692634583\n",
            "niter: 801, g_loss: [1.4844246, 0.31328088, 0.04695116, 0.023295593], d_loss: 0.40429461002349854\n",
            "niter: 851, g_loss: [1.4664521, 0.38203272, 0.042340115, 0.027663812], d_loss: 0.354741632938385\n",
            "niter: 901, g_loss: [1.4252723, 0.4314812, 0.038302857, 0.025011389], d_loss: 0.2552814483642578\n",
            "niter: 951, g_loss: [1.3670101, 0.31491396, 0.041336216, 0.025975408], d_loss: 0.09346821904182434\n",
            "niter: 1001, g_loss: [1.4073691, 0.30774713, 0.04394915, 0.026678111], d_loss: 0.44188392162323\n",
            "niter: 1051, g_loss: [1.4130086, 0.3502561, 0.041994207, 0.022277985], d_loss: 1.2367401123046875\n",
            "niter: 1101, g_loss: [1.4451224, 0.14232099, 0.053502537, 0.021694306], d_loss: 1.2157083749771118\n",
            "niter: 1151, g_loss: [1.4665885, 0.19982854, 0.051887996, 0.020429377], d_loss: 0.38317227363586426\n",
            "niter: 1201, g_loss: [1.1938422, 0.18160391, 0.03925526, 0.023664363], d_loss: 0.9502272605895996\n",
            "niter: 1251, g_loss: [1.2046494, 0.15335116, 0.04160758, 0.021982318], d_loss: 0.49018263816833496\n",
            "niter: 1301, g_loss: [1.3043615, 0.28461796, 0.039720524, 0.020117868], d_loss: 0.7284331917762756\n",
            "niter: 1351, g_loss: [1.4702206, 0.3875686, 0.043130312, 0.025934773], d_loss: 0.38965481519699097\n",
            "niter: 1401, g_loss: [1.4842751, 0.30875635, 0.047740236, 0.028022904], d_loss: 0.3333105742931366\n",
            "niter: 1451, g_loss: [1.4598235, 0.3117854, 0.046334825, 0.022841515], d_loss: 0.7962210774421692\n",
            "niter: 1501, g_loss: [1.4260566, 0.34297085, 0.04320015, 0.024196964], d_loss: 0.37030988931655884\n",
            "niter: 1551, g_loss: [1.1921263, 0.27071488, 0.03533438, 0.0201683], d_loss: 0.2168964147567749\n",
            "niter: 1601, g_loss: [1.1811285, 0.17617495, 0.039107967, 0.0200886], d_loss: 0.5173033475875854\n",
            "niter: 1651, g_loss: [1.5593346, 0.45089442, 0.044036925, 0.025716256], d_loss: 0.17410582304000854\n",
            "niter: 1701, g_loss: [1.3524978, 0.26149392, 0.04291013, 0.0213029], d_loss: 0.24677062034606934\n",
            "niter: 1751, g_loss: [1.5207223, 0.32185972, 0.048119474, 0.022805411], d_loss: 0.2258596569299698\n",
            "niter: 1801, g_loss: [1.1892169, 0.2295595, 0.03582976, 0.021076377], d_loss: 0.3879258632659912\n",
            "niter: 1851, g_loss: [1.3534567, 0.34108508, 0.038972966, 0.02364944], d_loss: 0.16918626427650452\n",
            "niter: 1901, g_loss: [1.4122951, 0.3791559, 0.040033065, 0.020588312], d_loss: 0.12835408747196198\n",
            "niter: 1951, g_loss: [1.6342661, 0.52746844, 0.04331945, 0.026569404], d_loss: 0.12745067477226257\n",
            "niter: 2001, g_loss: [1.242302, 0.2825374, 0.036302295, 0.021248877], d_loss: 0.2055029571056366\n",
            "niter: 2051, g_loss: [1.3349237, 0.34945282, 0.03766203, 0.02212324], d_loss: 0.1394559144973755\n",
            "niter: 2101, g_loss: [1.4236042, 0.3570735, 0.041385178, 0.021641683], d_loss: 0.11348363012075424\n",
            "niter: 2151, g_loss: [1.2351308, 0.26660034, 0.036004115, 0.019813677], d_loss: 0.12872043251991272\n",
            "niter: 2201, g_loss: [1.427419, 0.34333497, 0.042394847, 0.021178022], d_loss: 0.10246184468269348\n",
            "niter: 2251, g_loss: [1.3702049, 0.3518425, 0.038939767, 0.022090612], d_loss: 0.10328630357980728\n",
            "niter: 2301, g_loss: [1.2860757, 0.29268748, 0.03779477, 0.0222639], d_loss: 0.41018152236938477\n",
            "niter: 2351, g_loss: [1.5097363, 0.35617816, 0.04589224, 0.024989013], d_loss: 0.15535968542099\n",
            "niter: 2401, g_loss: [1.2922237, 0.2994659, 0.038495775, 0.019529698], d_loss: 0.23048073053359985\n",
            "niter: 2451, g_loss: [1.2350385, 0.31303853, 0.034950566, 0.024246996], d_loss: 0.42192161083221436\n",
            "niter: 2501, g_loss: [1.2873217, 0.36644357, 0.03435927, 0.023072392], d_loss: 0.7465155124664307\n",
            "niter: 2551, g_loss: [1.2404637, 0.34899735, 0.033220828, 0.021489557], d_loss: 0.19617636501789093\n",
            "niter: 2601, g_loss: [1.4361358, 0.44274363, 0.037684, 0.025445165], d_loss: 0.12924306094646454\n",
            "niter: 2651, g_loss: [1.4654514, 0.3931107, 0.0417649, 0.022486173], d_loss: 0.1704929769039154\n",
            "niter: 2701, g_loss: [1.2243289, 0.29259178, 0.035191014, 0.019166095], d_loss: 0.28507956862449646\n",
            "niter: 2751, g_loss: [1.3033994, 0.41761827, 0.03326191, 0.01830896], d_loss: 0.11339009553194046\n",
            "niter: 2801, g_loss: [1.2286592, 0.30114084, 0.03500033, 0.022655653], d_loss: 0.33291012048721313\n",
            "niter: 2851, g_loss: [1.3096066, 0.42244902, 0.032917522, 0.023020327], d_loss: 0.11093857139348984\n",
            "niter: 2901, g_loss: [1.2748662, 0.44260454, 0.030214146, 0.020688394], d_loss: 0.13248823583126068\n",
            "niter: 2951, g_loss: [1.42055, 0.3916296, 0.040186714, 0.021691894], d_loss: 0.14859172701835632\n",
            "niter: 3001, g_loss: [1.1430833, 0.27544072, 0.031603158, 0.020444185], d_loss: 0.11174789816141129\n",
            "niter: 3051, g_loss: [1.1911844, 0.35653865, 0.030241897, 0.016085805], d_loss: 0.154348686337471\n",
            "niter: 3101, g_loss: [1.118794, 0.3199074, 0.02865886, 0.019025985], d_loss: 0.114065021276474\n",
            "niter: 3151, g_loss: [1.3752693, 0.3913098, 0.038026657, 0.018938433], d_loss: 0.09824888408184052\n",
            "niter: 3201, g_loss: [1.3183211, 0.37543434, 0.03550208, 0.021775363], d_loss: 0.10266360640525818\n",
            "niter: 3251, g_loss: [1.1912577, 0.30553392, 0.0331681, 0.016981097], d_loss: 0.07651259005069733\n",
            "niter: 3301, g_loss: [1.2344092, 0.25315022, 0.03790998, 0.018950325], d_loss: 0.25316566228866577\n",
            "niter: 3351, g_loss: [1.2348752, 0.24720977, 0.03839598, 0.016822647], d_loss: 0.1508924514055252\n",
            "niter: 3401, g_loss: [1.3399787, 0.46595505, 0.032676168, 0.02081648], d_loss: 0.13114331662654877\n",
            "niter: 3451, g_loss: [1.1719033, 0.31341597, 0.03214639, 0.01875709], d_loss: 0.13230031728744507\n",
            "niter: 3501, g_loss: [1.2479925, 0.37415603, 0.032930985, 0.01767629], d_loss: 0.07244507223367691\n",
            "niter: 3551, g_loss: [1.2511662, 0.32920298, 0.035232257, 0.020289302], d_loss: 0.12787994742393494\n",
            "niter: 3601, g_loss: [1.1446885, 0.24902302, 0.033481415, 0.018774517], d_loss: 0.09087628871202469\n",
            "niter: 3651, g_loss: [1.1065525, 0.23346883, 0.032833833, 0.017987473], d_loss: 0.1257885843515396\n",
            "niter: 3701, g_loss: [1.163089, 0.28347725, 0.032993484, 0.02104609], d_loss: 0.14855419099330902\n",
            "niter: 3751, g_loss: [1.2681925, 0.31498876, 0.03712088, 0.01720824], d_loss: 0.1426612287759781\n",
            "niter: 3801, g_loss: [1.2432752, 0.38433638, 0.032210782, 0.018897884], d_loss: 0.1158548891544342\n",
            "niter: 3851, g_loss: [1.2309434, 0.3841629, 0.031478535, 0.019905802], d_loss: 0.1779097318649292\n",
            "niter: 3901, g_loss: [1.2877647, 0.38618124, 0.034275673, 0.017084854], d_loss: 0.0874401107430458\n",
            "niter: 3951, g_loss: [1.246363, 0.37179947, 0.032756317, 0.016036615], d_loss: 0.07305292785167694\n",
            "niter: 4001, g_loss: [1.2856216, 0.3839649, 0.03399051, 0.019630702], d_loss: 0.06203698366880417\n",
            "niter: 4051, g_loss: [1.2528951, 0.24751376, 0.039706178, 0.017140832], d_loss: 0.1012161523103714\n",
            "niter: 4101, g_loss: [0.9664419, 0.20182155, 0.027693072, 0.016856883], d_loss: 0.08726538717746735\n",
            "niter: 4151, g_loss: [1.1091957, 0.2711239, 0.031416602, 0.015302047], d_loss: 0.07494434714317322\n",
            "niter: 4201, g_loss: [1.0721891, 0.27098995, 0.029496836, 0.017216554], d_loss: 0.1375134140253067\n",
            "niter: 4251, g_loss: [1.2642093, 0.30571684, 0.037313472, 0.015987394], d_loss: 0.22865523397922516\n",
            "niter: 4301, g_loss: [1.1113952, 0.29189566, 0.030550057, 0.018943448], d_loss: 0.09762929379940033\n",
            "niter: 4351, g_loss: [1.0801693, 0.25399578, 0.031130321, 0.017328028], d_loss: 0.0933234840631485\n",
            "niter: 4401, g_loss: [1.1452204, 0.35262945, 0.029417854, 0.017236305], d_loss: 0.1898667961359024\n",
            "niter: 4451, g_loss: [1.1053953, 0.30178326, 0.030081041, 0.018763687], d_loss: 0.07186012715101242\n",
            "niter: 4501, g_loss: [1.0701712, 0.29145467, 0.028860815, 0.017133582], d_loss: 0.05249520763754845\n",
            "niter: 4551, g_loss: [1.4230951, 0.3355896, 0.04397793, 0.018836362], d_loss: 0.1231192946434021\n",
            "niter: 4601, g_loss: [1.2238805, 0.41170496, 0.03041918, 0.017431151], d_loss: 0.09022143483161926\n",
            "niter: 4651, g_loss: [1.1303405, 0.34105682, 0.029161705, 0.016550334], d_loss: 0.09038232266902924\n",
            "niter: 4701, g_loss: [1.2210587, 0.3789733, 0.031716943, 0.017808761], d_loss: 0.08220422267913818\n",
            "niter: 4751, g_loss: [1.0769744, 0.26470765, 0.030413195, 0.016962826], d_loss: 0.07017155736684799\n",
            "niter: 4801, g_loss: [1.1680712, 0.3452929, 0.030673072, 0.017513826], d_loss: 0.09492845833301544\n",
            "niter: 4851, g_loss: [1.2275668, 0.36158285, 0.032925677, 0.017043648], d_loss: 0.10393089056015015\n",
            "niter: 4901, g_loss: [1.24205, 0.42205215, 0.03068398, 0.018570472], d_loss: 0.05913691967725754\n",
            "niter: 4951, g_loss: [1.1037741, 0.29190415, 0.03062372, 0.01680836], d_loss: 0.10338973999023438\n",
            "niter: 5001, g_loss: [1.2879742, 0.3622544, 0.03602688, 0.017792966], d_loss: 0.10535579919815063\n",
            "niter: 5051, g_loss: [1.0745404, 0.27058935, 0.030132366, 0.015148056], d_loss: 0.10782164335250854\n",
            "niter: 5101, g_loss: [1.1589305, 0.2538039, 0.035101816, 0.01586021], d_loss: 0.08370610326528549\n",
            "niter: 5151, g_loss: [1.1976273, 0.29348478, 0.035071954, 0.014213763], d_loss: 0.12252825498580933\n",
            "niter: 5201, g_loss: [1.1322927, 0.28602746, 0.03205163, 0.017620482], d_loss: 0.06101645901799202\n",
            "niter: 5251, g_loss: [1.1390495, 0.27145374, 0.033517018, 0.018947672], d_loss: 0.08794897794723511\n",
            "niter: 5301, g_loss: [1.213305, 0.455616, 0.027811438, 0.019308394], d_loss: 0.04896954074501991\n",
            "niter: 5351, g_loss: [1.1882105, 0.3643404, 0.031201359, 0.018306838], d_loss: 0.07542470097541809\n",
            "niter: 5401, g_loss: [1.1842418, 0.32727665, 0.032666266, 0.017302182], d_loss: 0.05191275477409363\n",
            "niter: 5451, g_loss: [1.3364295, 0.35718915, 0.038885243, 0.017740456], d_loss: 0.03683677688241005\n",
            "niter: 5501, g_loss: [1.0811574, 0.32989818, 0.027757611, 0.017615013], d_loss: 0.07636633515357971\n",
            "niter: 5551, g_loss: [1.023017, 0.32698023, 0.024801495, 0.017942399], d_loss: 0.08795354515314102\n",
            "niter: 5601, g_loss: [1.0577544, 0.34701523, 0.025568916, 0.017434059], d_loss: 0.05944202095270157\n",
            "niter: 5651, g_loss: [1.2482058, 0.28569323, 0.038334604, 0.017779162], d_loss: 0.10927639156579971\n",
            "niter: 5701, g_loss: [1.0093137, 0.31079498, 0.025288548, 0.014541689], d_loss: 0.05845062434673309\n",
            "niter: 5751, g_loss: [1.1203974, 0.4117739, 0.025796816, 0.016384404], d_loss: 0.1723558008670807\n",
            "niter: 5801, g_loss: [1.3701963, 0.40166974, 0.038342796, 0.021205777], d_loss: 0.09974420070648193\n",
            "niter: 5851, g_loss: [1.2645086, 0.4318434, 0.031558212, 0.022853518], d_loss: 0.06358244270086288\n",
            "niter: 5901, g_loss: [1.2189374, 0.42199618, 0.029860564, 0.02155757], d_loss: 0.05625094100832939\n",
            "niter: 5951, g_loss: [1.3607589, 0.45495862, 0.035297737, 0.020490922], d_loss: 0.05314275994896889\n",
            "niter: 6001, g_loss: [1.2404246, 0.32878125, 0.035875425, 0.017677553], d_loss: 0.1415027529001236\n",
            "niter: 6051, g_loss: [0.9067781, 0.23842606, 0.023804229, 0.0154118035], d_loss: 0.09027088433504105\n",
            "niter: 6101, g_loss: [1.218433, 0.379795, 0.03242562, 0.016870225], d_loss: 0.1222250759601593\n",
            "niter: 6151, g_loss: [1.2237191, 0.43072847, 0.029713295, 0.01988648], d_loss: 0.1331249326467514\n",
            "niter: 6201, g_loss: [1.0031868, 0.2973289, 0.02556989, 0.01426523], d_loss: 0.06091389060020447\n",
            "niter: 6251, g_loss: [1.1134633, 0.32345855, 0.029973686, 0.014987633], d_loss: 0.050785329192876816\n",
            "niter: 6301, g_loss: [1.1682701, 0.37391979, 0.029828425, 0.018459167], d_loss: 0.1357879638671875\n",
            "niter: 6351, g_loss: [1.0052685, 0.29124886, 0.02607041, 0.016575066], d_loss: 0.15386967360973358\n",
            "niter: 6401, g_loss: [1.0628872, 0.2978583, 0.028571568, 0.016381618], d_loss: 0.07616090774536133\n",
            "niter: 6451, g_loss: [1.162097, 0.35365692, 0.030948598, 0.016315093], d_loss: 0.052713170647621155\n",
            "niter: 6501, g_loss: [1.1157118, 0.35540026, 0.028465012, 0.016551463], d_loss: 0.04842256382107735\n",
            "niter: 6551, g_loss: [1.1039673, 0.38196826, 0.026473677, 0.017180564], d_loss: 0.18416261672973633\n",
            "niter: 6601, g_loss: [1.3373425, 0.45558435, 0.03457852, 0.01684762], d_loss: 0.07299382984638214\n",
            "niter: 6651, g_loss: [1.3077618, 0.52420735, 0.029570132, 0.01708908], d_loss: 0.04484584182500839\n",
            "niter: 6701, g_loss: [1.1975266, 0.39468533, 0.030410577, 0.016637633], d_loss: 0.06703789532184601\n",
            "niter: 6751, g_loss: [1.4088641, 0.41921645, 0.03948282, 0.01707032], d_loss: 0.06227519363164902\n",
            "niter: 6801, g_loss: [1.2449347, 0.4172874, 0.03158323, 0.016227916], d_loss: 0.036862120032310486\n",
            "niter: 6851, g_loss: [1.2538544, 0.4308012, 0.03132565, 0.01736678], d_loss: 0.03496858850121498\n",
            "niter: 6901, g_loss: [1.1097649, 0.34570754, 0.028741904, 0.015571288], d_loss: 0.0289875827729702\n",
            "niter: 6951, g_loss: [1.2128152, 0.42859015, 0.029503401, 0.017459514], d_loss: 0.11283225566148758\n",
            "niter: 7001, g_loss: [1.2494937, 0.43675268, 0.030987084, 0.015326349], d_loss: 0.1645687073469162\n",
            "niter: 7051, g_loss: [1.2012823, 0.43847448, 0.028517682, 0.01739874], d_loss: 0.07515443116426468\n",
            "niter: 7101, g_loss: [1.1210786, 0.4090746, 0.025994092, 0.017343905], d_loss: 0.06830713152885437\n",
            "niter: 7151, g_loss: [1.1039144, 0.37462002, 0.026742464, 0.016644634], d_loss: 0.05533965304493904\n",
            "niter: 7201, g_loss: [1.2058219, 0.4328878, 0.02873028, 0.01731537], d_loss: 0.10609248280525208\n",
            "niter: 7251, g_loss: [1.2082114, 0.44914818, 0.028133541, 0.018234342], d_loss: 0.06908796727657318\n",
            "niter: 7301, g_loss: [1.1800232, 0.4324124, 0.027963512, 0.015970182], d_loss: 0.0644821971654892\n",
            "niter: 7351, g_loss: [1.3272957, 0.41473675, 0.036176972, 0.01791285], d_loss: 0.1792450100183487\n",
            "niter: 7401, g_loss: [1.0963643, 0.3636685, 0.027019922, 0.015430429], d_loss: 0.12441015988588333\n",
            "niter: 7451, g_loss: [1.1365252, 0.3754522, 0.02853036, 0.017817324], d_loss: 0.09470141679048538\n",
            "niter: 7501, g_loss: [1.2958915, 0.37122628, 0.036846638, 0.016332231], d_loss: 0.11139961332082748\n",
            "niter: 7551, g_loss: [1.2051679, 0.4356599, 0.028963469, 0.015418243], d_loss: 0.054973818361759186\n",
            "niter: 7601, g_loss: [1.4545523, 0.49538797, 0.038210273, 0.017749708], d_loss: 0.06529808044433594\n",
            "niter: 7651, g_loss: [1.0842354, 0.33586964, 0.02799416, 0.01403129], d_loss: 0.08751923590898514\n",
            "niter: 7701, g_loss: [1.1887196, 0.4182608, 0.029060913, 0.01642373], d_loss: 0.07178981602191925\n",
            "niter: 7751, g_loss: [1.0825839, 0.2755276, 0.03088912, 0.014304879], d_loss: 0.2944194972515106\n",
            "niter: 7801, g_loss: [1.560217, 0.5669896, 0.03969868, 0.020673182], d_loss: 0.06808188557624817\n",
            "niter: 7851, g_loss: [1.0469623, 0.3502296, 0.025506856, 0.013162535], d_loss: 0.04251375421881676\n",
            "niter: 7901, g_loss: [1.0450581, 0.37826836, 0.02408339, 0.014829317], d_loss: 0.1090761199593544\n",
            "niter: 7951, g_loss: [1.2369701, 0.45783925, 0.029538393, 0.016487246], d_loss: 0.07173376530408859\n",
            "niter: 8001, g_loss: [1.0590225, 0.26656646, 0.03001428, 0.01663977], d_loss: 0.05271823704242706\n",
            "niter: 8051, g_loss: [1.2703185, 0.41370642, 0.0330917, 0.01891264], d_loss: 0.04264155402779579\n",
            "niter: 8101, g_loss: [1.0743665, 0.33801055, 0.027465824, 0.01633918], d_loss: 0.0355166420340538\n",
            "niter: 8151, g_loss: [0.9527449, 0.292413, 0.023565825, 0.014993112], d_loss: 0.035538703203201294\n",
            "niter: 8201, g_loss: [1.1605713, 0.32745594, 0.032236643, 0.014332462], d_loss: 0.036036547273397446\n",
            "niter: 8251, g_loss: [1.2835122, 0.4173148, 0.033742882, 0.017283613], d_loss: 0.09572181850671768\n",
            "niter: 8301, g_loss: [1.1880754, 0.28586128, 0.035593066, 0.01868575], d_loss: 0.09119807183742523\n",
            "niter: 8351, g_loss: [1.1552815, 0.3847527, 0.02918663, 0.018046372], d_loss: 0.3353777527809143\n",
            "niter: 8401, g_loss: [1.0981078, 0.27191085, 0.03211461, 0.014075179], d_loss: 0.3220440745353699\n",
            "niter: 8451, g_loss: [1.0993, 0.41714725, 0.025042411, 0.015037268], d_loss: 0.090619295835495\n",
            "niter: 8501, g_loss: [1.0179434, 0.25672504, 0.029002994, 0.014615937], d_loss: 0.29876601696014404\n",
            "niter: 8551, g_loss: [1.0979412, 0.34383088, 0.028736562, 0.015697993], d_loss: 0.30644381046295166\n",
            "niter: 8601, g_loss: [1.0621749, 0.32864398, 0.027725901, 0.017753934], d_loss: 0.14730463922023773\n",
            "niter: 8651, g_loss: [1.0598271, 0.31693652, 0.028543072, 0.012974706], d_loss: 0.25935208797454834\n",
            "niter: 8701, g_loss: [1.0542624, 0.32980072, 0.027508808, 0.013487408], d_loss: 0.1972351372241974\n",
            "niter: 8751, g_loss: [1.0756282, 0.3439435, 0.027667515, 0.015143783], d_loss: 0.12272141128778458\n",
            "niter: 8801, g_loss: [1.1726649, 0.3628502, 0.031312358, 0.017022923], d_loss: 0.19892799854278564\n",
            "niter: 8851, g_loss: [1.1318669, 0.32398435, 0.031188432, 0.018679652], d_loss: 0.11148282140493393\n",
            "niter: 8901, g_loss: [0.92452145, 0.21957552, 0.026254151, 0.014264528], d_loss: 0.09379463642835617\n",
            "niter: 8951, g_loss: [1.127374, 0.36994404, 0.028793192, 0.016713334], d_loss: 0.07497969269752502\n",
            "niter: 9001, g_loss: [1.0915546, 0.37480015, 0.026542306, 0.0160318], d_loss: 0.0895407423377037\n",
            "niter: 9051, g_loss: [1.1017869, 0.3810072, 0.026970945, 0.015911534], d_loss: 0.08896933495998383\n",
            "niter: 9101, g_loss: [1.4440984, 0.5134568, 0.037300117, 0.018436015], d_loss: 0.11298492550849915\n",
            "niter: 9151, g_loss: [1.047915, 0.3286639, 0.02689685, 0.016242053], d_loss: 0.05239807069301605\n",
            "niter: 9201, g_loss: [1.1665058, 0.42778102, 0.027748073, 0.017093776], d_loss: 0.04256325960159302\n",
            "niter: 9251, g_loss: [1.2348813, 0.45044845, 0.029969826, 0.0153004015], d_loss: 0.05815374478697777\n",
            "niter: 9301, g_loss: [1.0565208, 0.3245579, 0.027646687, 0.015215851], d_loss: 0.04417317733168602\n",
            "niter: 9351, g_loss: [1.240919, 0.32836092, 0.03664492, 0.016669149], d_loss: 0.03636162355542183\n",
            "niter: 9401, g_loss: [1.2597045, 0.41829047, 0.033033233, 0.015232244], d_loss: 0.03864765912294388\n",
            "niter: 9451, g_loss: [1.1942303, 0.37823442, 0.03179039, 0.015355432], d_loss: 0.03896903619170189\n",
            "niter: 9501, g_loss: [1.2155334, 0.46029145, 0.028664447, 0.016856674], d_loss: 0.03399241343140602\n",
            "niter: 9551, g_loss: [1.1533448, 0.3143372, 0.03296932, 0.014543558], d_loss: 0.03535591438412666\n",
            "niter: 9601, g_loss: [1.0094033, 0.331879, 0.025070941, 0.013056887], d_loss: 0.035917624831199646\n",
            "niter: 9651, g_loss: [1.3840914, 0.4957268, 0.035674233, 0.014566021], d_loss: 0.07932096719741821\n",
            "niter: 9701, g_loss: [1.1690667, 0.36155707, 0.03150174, 0.015314], d_loss: 0.06455917656421661\n",
            "niter: 9751, g_loss: [1.1102121, 0.3674767, 0.028496977, 0.01448274], d_loss: 0.03881252929568291\n",
            "niter: 9801, g_loss: [1.0666217, 0.29695103, 0.029822428, 0.014377331], d_loss: 0.03949474170804024\n",
            "niter: 9851, g_loss: [1.243523, 0.50234014, 0.02836105, 0.016999487], d_loss: 0.03256698325276375\n",
            "niter: 9901, g_loss: [1.056994, 0.3331187, 0.027340438, 0.0157269], d_loss: 0.04093000665307045\n",
            "niter: 9951, g_loss: [1.2284839, 0.4003148, 0.032631338, 0.015230384], d_loss: 0.028044765815138817\n"
          ],
          "name": "stdout"
        }
      ]
    },
    {
      "cell_type": "markdown",
      "metadata": {
        "id": "0cHDcccacdST",
        "colab_type": "text"
      },
      "source": [
        "# Evaluation"
      ]
    },
    {
      "cell_type": "code",
      "metadata": {
        "id": "UXAufnuIbuvF",
        "colab_type": "code",
        "colab": {}
      },
      "source": [
        "encoded = g_e.predict(x_test)\n",
        "gan_x = g.predict(x_test)\n",
        "encoded_gan = g_e.predict(gan_x)\n",
        "score = np.sum(np.absolute(encoded - encoded_gan), axis=-1)\n",
        "score = (score - np.min(score)) / (np.max(score) - np.min(score)) # map to 0~1"
      ],
      "execution_count": 18,
      "outputs": []
    },
    {
      "cell_type": "code",
      "metadata": {
        "id": "-k8DiAAZdeZS",
        "colab_type": "code",
        "colab": {
          "base_uri": "https://localhost:8080/",
          "height": 337
        },
        "outputId": "2469b0f3-a00b-4f62-fc37-9a702722175d"
      },
      "source": [
        "from matplotlib import pyplot as plt\n",
        "from pylab import rcParams\n",
        "rcParams['figure.figsize'] = 14, 5\n",
        "plt.scatter(range(len(x_test)), score, c=['skyblue' if x == 1 else 'pink' for x in y_test])\n"
      ],
      "execution_count": 19,
      "outputs": [
        {
          "output_type": "execute_result",
          "data": {
            "text/plain": [
              "<matplotlib.collections.PathCollection at 0x7fef983da630>"
            ]
          },
          "metadata": {
            "tags": []
          },
          "execution_count": 19
        },
        {
          "output_type": "display_data",
          "data": {
            "image/png": "[encoded data removed]",
            "text/plain": [
              "<Figure size 1008x360 with 1 Axes>"
            ]
          },
          "metadata": {
            "tags": [],
            "needs_background": "light"
          }
        }
      ]
    },
    {
      "cell_type": "code",
      "metadata": {
        "id": "IYQMuvTsWeyN",
        "colab_type": "code",
        "colab": {}
      },
      "source": [
        ""
      ],
      "execution_count": null,
      "outputs": []
    },
    {
      "cell_type": "code",
      "metadata": {
        "id": "_Bb4LMQCWevp",
        "colab_type": "code",
        "colab": {}
      },
      "source": [
        "i=4\n",
        "y_test[i:i+1]"
      ],
      "execution_count": 31,
      "outputs": []
    },
    {
      "cell_type": "code",
      "metadata": {
        "id": "-XCo0uU0WenB",
        "colab_type": "code",
        "colab": {
          "base_uri": "https://localhost:8080/",
          "height": 34
        },
        "outputId": "2dab5852-f810-4ae4-e9d0-e0e5ae6ceec4"
      },
      "source": [
        ""
      ],
      "execution_count": 32,
      "outputs": [
        {
          "output_type": "execute_result",
          "data": {
            "text/plain": [
              "array([4], dtype=uint8)"
            ]
          },
          "metadata": {
            "tags": []
          },
          "execution_count": 32
        }
      ]
    },
    {
      "cell_type": "code",
      "metadata": {
        "id": "T4RTuE-Ud8k9",
        "colab_type": "code",
        "colab": {
          "base_uri": "https://localhost:8080/",
          "height": 339
        },
        "outputId": "31d3395f-a448-4c4c-8bfb-fec8dec94a27"
      },
      "source": [
        "\n",
        "image = np.reshape(gan_x[i:i+1], (64, 64))\n",
        "image = image * 127 + 127\n",
        "plt.imshow(image.astype(np.uint8), cmap='gray')"
      ],
      "execution_count": 20,
      "outputs": [
        {
          "output_type": "execute_result",
          "data": {
            "text/plain": [
              "<matplotlib.image.AxesImage at 0x7fef96a0db38>"
            ]
          },
          "metadata": {
            "tags": []
          },
          "execution_count": 20
        },
        {
          "output_type": "display_data",
          "data": {
            "image/png": "[encoded data removed]",
            "text/plain": [
              "<Figure size 1008x360 with 1 Axes>"
            ]
          },
          "metadata": {
            "tags": [],
            "needs_background": "light"
          }
        }
      ]
    },
    {
      "cell_type": "code",
      "metadata": {
        "id": "zToWEVgjgfkH",
        "colab_type": "code",
        "colab": {
          "base_uri": "https://localhost:8080/",
          "height": 339
        },
        "outputId": "fb867fab-60a6-43ca-deaa-bf16f5f24c2a"
      },
      "source": [
        "image = np.reshape(x_test[i:i+1], (64, 64))\n",
        "image = image * 127 + 127\n",
        "plt.imshow(image.astype(np.uint8), cmap='gray')"
      ],
      "execution_count": 23,
      "outputs": [
        {
          "output_type": "execute_result",
          "data": {
            "text/plain": [
              "<matplotlib.image.AxesImage at 0x7fef9698f048>"
            ]
          },
          "metadata": {
            "tags": []
          },
          "execution_count": 23
        },
        {
          "output_type": "display_data",
          "data": {
            "image/png": "[encoded data removed]",
            "text/plain": [
              "<Figure size 1008x360 with 1 Axes>"
            ]
          },
          "metadata": {
            "tags": [],
            "needs_background": "light"
          }
        }
      ]
    },
    {
      "cell_type": "code",
      "metadata": {
        "id": "eYPlM_WbXS_H",
        "colab_type": "code",
        "colab": {}
      },
      "source": [
        ""
      ],
      "execution_count": null,
      "outputs": []
    },
    {
      "cell_type": "code",
      "metadata": {
        "id": "pL_aOfNoXS7Z",
        "colab_type": "code",
        "colab": {}
      },
      "source": [
        "i=1\n",
        "y_test[i:i+1]"
      ],
      "execution_count": null,
      "outputs": []
    },
    {
      "cell_type": "code",
      "metadata": {
        "id": "je4Qa6nBXS4l",
        "colab_type": "code",
        "colab": {}
      },
      "source": [
        "image = np.reshape(gan_x[i:i+1], (64, 64))\n",
        "image = image * 127 + 127\n",
        "plt.imshow(image.astype(np.uint8), cmap='gray')"
      ],
      "execution_count": null,
      "outputs": []
    },
    {
      "cell_type": "code",
      "metadata": {
        "id": "yqdaqOr4XS2e",
        "colab_type": "code",
        "colab": {}
      },
      "source": [
        "image = np.reshape(x_test[i:i+1], (64, 64))\n",
        "image = image * 127 + 127\n",
        "plt.imshow(image.astype(np.uint8), cmap='gray')"
      ],
      "execution_count": null,
      "outputs": []
    },
    {
      "cell_type": "code",
      "metadata": {
        "id": "faJ2chwbXSzC",
        "colab_type": "code",
        "colab": {}
      },
      "source": [
        ""
      ],
      "execution_count": null,
      "outputs": []
    },
    {
      "cell_type": "code",
      "metadata": {
        "id": "Vr3nLb5ZXLKy",
        "colab_type": "code",
        "colab": {}
      },
      "source": [
        ""
      ],
      "execution_count": null,
      "outputs": []
    },
    {
      "cell_type": "code",
      "metadata": {
        "id": "F86rRcE6XLId",
        "colab_type": "code",
        "colab": {}
      },
      "source": [
        "#x_ok = x_train[y_train == 1]\n",
        "\n",
        "(x_train2, y_train2), (x_test2, y_test2) = mnist.load_data()\n",
        "\n",
        "x_test_7 = x_test2[y_test2 == 7]\n",
        "x_test_7 = reshape_x(x_test_7)\n",
        "\n",
        "x_test_1 = x_test2[y_test2 == 1]\n",
        "x_test_1 = reshape_x(x_test_1)\n",
        "\n",
        "y_test_7 = y_test2[y_test2 == 7]\n",
        "y_test_1 = y_test2[y_test2 == 1]"
      ],
      "execution_count": null,
      "outputs": []
    },
    {
      "cell_type": "code",
      "metadata": {
        "id": "A2jWaF0wXLF1",
        "colab_type": "code",
        "colab": {}
      },
      "source": [
        ""
      ],
      "execution_count": null,
      "outputs": []
    },
    {
      "cell_type": "code",
      "metadata": {
        "id": "rMX1nec8XLC_",
        "colab_type": "code",
        "colab": {}
      },
      "source": [
        "encoded = g_e.predict(x_test_7)\n",
        "gan_x = g.predict(x_test_7)\n",
        "encoded_gan = g_e.predict(gan_x)\n",
        "score = np.sum(np.absolute(encoded - encoded_gan), axis=-1)\n",
        "score = (score - np.min(score)) / (np.max(score) - np.min(score)) # map to 0~1"
      ],
      "execution_count": null,
      "outputs": []
    },
    {
      "cell_type": "code",
      "metadata": {
        "id": "WUHM2iUvXLAd",
        "colab_type": "code",
        "colab": {}
      },
      "source": [
        "score_7=score"
      ],
      "execution_count": null,
      "outputs": []
    },
    {
      "cell_type": "code",
      "metadata": {
        "id": "FbQ-mfaqXK-h",
        "colab_type": "code",
        "colab": {}
      },
      "source": [
        "encoded = g_e.predict(x_test_1)\n",
        "gan_x = g.predict(x_test_1)\n",
        "encoded_gan = g_e.predict(gan_x)\n",
        "score = np.sum(np.absolute(encoded - encoded_gan), axis=-1)\n",
        "score = (score - np.min(score)) / (np.max(score) - np.min(score)) # map to 0~1"
      ],
      "execution_count": null,
      "outputs": []
    },
    {
      "cell_type": "code",
      "metadata": {
        "id": "cdXtiRTgXK7-",
        "colab_type": "code",
        "colab": {}
      },
      "source": [
        "score_ok_1=score"
      ],
      "execution_count": null,
      "outputs": []
    },
    {
      "cell_type": "code",
      "metadata": {
        "id": "EJv0Ks4UXK4o",
        "colab_type": "code",
        "colab": {}
      },
      "source": [
        "\n",
        "\n",
        "sns.set()\n",
        "sns.set_style('whitegrid')\n",
        "sns.set_palette('Set1')\n",
        "\n",
        "fig = plt.figure()\n",
        "ax = fig.add_subplot(1, 1, 1)\n",
        "\n",
        "labels = ['lab_ok_1', 'lab_7']\n",
        "ax.hist(score_ok_1, bins=50, alpha=0.6,label=labels[0])\n",
        "ax.hist(score_7, bins=50, alpha=0.6,label=labels[1])\n",
        "ax.set_xlabel('length [cm]')\n",
        "\n",
        "plt.legend()\n",
        "plt.show()"
      ],
      "execution_count": null,
      "outputs": []
    },
    {
      "cell_type": "code",
      "metadata": {
        "id": "OsU_YFsX07u5",
        "colab_type": "code",
        "colab": {}
      },
      "source": [
        ""
      ],
      "execution_count": 23,
      "outputs": []
    },
    {
      "cell_type": "code",
      "metadata": {
        "id": "cpxnvyhb07nR",
        "colab_type": "code",
        "colab": {}
      },
      "source": [
        "#x_ok = x_train[y_train == 1]\n",
        "\n",
        "(x_train2, y_train2), (x_test2, y_test2) = mnist.load_data()\n",
        "\n",
        "x_test_5 = x_test2[y_test2 == 5]\n",
        "x_test_5 = reshape_x(x_test_5)\n",
        "\n",
        "x_test_1 = x_test2[y_test2 == 1]\n",
        "x_test_1 = reshape_x(x_test_1)\n",
        "\n",
        "y_test_5 = y_test2[y_test2 == 5]\n",
        "y_test_1 = y_test2[y_test2 == 1]"
      ],
      "execution_count": 25,
      "outputs": []
    },
    {
      "cell_type": "code",
      "metadata": {
        "id": "sG6_Vdh507kj",
        "colab_type": "code",
        "colab": {}
      },
      "source": [
        ""
      ],
      "execution_count": 25,
      "outputs": []
    },
    {
      "cell_type": "code",
      "metadata": {
        "id": "p_boAOiF07iC",
        "colab_type": "code",
        "colab": {}
      },
      "source": [
        "encoded = g_e.predict(x_test_5)\n",
        "gan_x = g.predict(x_test_5)\n",
        "encoded_gan = g_e.predict(gan_x)\n",
        "score = np.sum(np.absolute(encoded - encoded_gan), axis=-1)\n",
        "score = (score - np.min(score)) / (np.max(score) - np.min(score)) # map to 0~1"
      ],
      "execution_count": 26,
      "outputs": []
    },
    {
      "cell_type": "code",
      "metadata": {
        "id": "lzInw5ntIoTU",
        "colab_type": "code",
        "colab": {}
      },
      "source": [
        "score_5=score"
      ],
      "execution_count": 27,
      "outputs": []
    },
    {
      "cell_type": "code",
      "metadata": {
        "id": "YKFExEaFItQU",
        "colab_type": "code",
        "colab": {}
      },
      "source": [
        "encoded = g_e.predict(x_test_1)\n",
        "gan_x = g.predict(x_test_1)\n",
        "encoded_gan = g_e.predict(gan_x)\n",
        "score = np.sum(np.absolute(encoded - encoded_gan), axis=-1)\n",
        "score = (score - np.min(score)) / (np.max(score) - np.min(score)) # map to 0~1"
      ],
      "execution_count": 28,
      "outputs": []
    },
    {
      "cell_type": "code",
      "metadata": {
        "id": "46WdK58yItFn",
        "colab_type": "code",
        "colab": {}
      },
      "source": [
        "score_1=score"
      ],
      "execution_count": 29,
      "outputs": []
    },
    {
      "cell_type": "code",
      "metadata": {
        "id": "5eX6OVBHW2hQ",
        "colab_type": "code",
        "colab": {}
      },
      "source": [
        ""
      ],
      "execution_count": null,
      "outputs": []
    },
    {
      "cell_type": "code",
      "metadata": {
        "id": "wkfV6d038xJG",
        "colab_type": "code",
        "colab": {
          "base_uri": "https://localhost:8080/",
          "height": 374
        },
        "outputId": "5fad6c54-e9a9-4646-fabb-eb1e7b9e5428"
      },
      "source": [
        "\n",
        "import seaborn as sns\n",
        "\n",
        "sns.set()\n",
        "sns.set_style('whitegrid')\n",
        "sns.set_palette('Set1')\n",
        "\n",
        "fig = plt.figure()\n",
        "ax = fig.add_subplot(1, 1, 1)\n",
        "\n",
        "labels = ['lab_1', 'lab_5']\n",
        "ax.hist(score_1, bins=50, alpha=0.6,label=labels[0])\n",
        "ax.hist(score_5, bins=50, alpha=0.6,label=labels[1])\n",
        "ax.set_xlabel('length [cm]')\n",
        "\n",
        "plt.legend()\n",
        "plt.show()"
      ],
      "execution_count": 30,
      "outputs": [
        {
          "output_type": "stream",
          "text": [
            "/usr/local/lib/python3.6/dist-packages/statsmodels/tools/_testing.py:19: FutureWarning: pandas.util.testing is deprecated. Use the functions in the public API at pandas.testing instead.\n",
            "  import pandas.util.testing as tm\n"
          ],
          "name": "stderr"
        },
        {
          "output_type": "display_data",
          "data": {
            "image/png": "[encoded data removed]",
            "text/plain": [
              "<Figure size 1008x360 with 1 Axes>"
            ]
          },
          "metadata": {
            "tags": []
          }
        }
      ]
    },
    {
      "cell_type": "code",
      "metadata": {
        "id": "IJSryTBz8xGi",
        "colab_type": "code",
        "colab": {}
      },
      "source": [
        ""
      ],
      "execution_count": 30,
      "outputs": []
    },
    {
      "cell_type": "code",
      "metadata": {
        "id": "bmM88bMV8xDq",
        "colab_type": "code",
        "colab": {}
      },
      "source": [
        "g.save_weights('g.h5')"
      ],
      "execution_count": 33,
      "outputs": []
    },
    {
      "cell_type": "code",
      "metadata": {
        "id": "kWmzUU1h8wsn",
        "colab_type": "code",
        "colab": {}
      },
      "source": [
        "g_e.save_weights('g_e.h5')"
      ],
      "execution_count": 34,
      "outputs": []
    },
    {
      "cell_type": "code",
      "metadata": {
        "id": "wpAgajjv8wpw",
        "colab_type": "code",
        "colab": {}
      },
      "source": [
        ""
      ],
      "execution_count": 30,
      "outputs": []
    },
    {
      "cell_type": "code",
      "metadata": {
        "id": "LUofLBaeYfV0",
        "colab_type": "code",
        "colab": {}
      },
      "source": [
        ""
      ],
      "execution_count": null,
      "outputs": []
    },
    {
      "cell_type": "code",
      "metadata": {
        "id": "kbmNGaiUYfTa",
        "colab_type": "code",
        "colab": {}
      },
      "source": [
        ""
      ],
      "execution_count": null,
      "outputs": []
    },
    {
      "cell_type": "code",
      "metadata": {
        "id": "EsPEaY0tYfRE",
        "colab_type": "code",
        "colab": {}
      },
      "source": [
        ""
      ],
      "execution_count": null,
      "outputs": []
    },
    {
      "cell_type": "code",
      "metadata": {
        "id": "mz-cbZuYYfOf",
        "colab_type": "code",
        "colab": {}
      },
      "source": [
        ""
      ],
      "execution_count": null,
      "outputs": []
    },
    {
      "cell_type": "code",
      "metadata": {
        "id": "QynkGaF_YfMI",
        "colab_type": "code",
        "colab": {
          "base_uri": "https://localhost:8080/",
          "height": 52
        },
        "outputId": "0fa0479d-18ce-4088-e669-10cf7c63b477"
      },
      "source": [
        "from keras import layers\n",
        "import keras\n",
        "import keras.backend as K\n",
        "\n",
        "\n",
        "import numpy as np\n",
        "import seaborn as sns"
      ],
      "execution_count": 20,
      "outputs": [
        {
          "output_type": "stream",
          "text": [
            "/usr/local/lib/python3.6/dist-packages/statsmodels/tools/_testing.py:19: FutureWarning: pandas.util.testing is deprecated. Use the functions in the public API at pandas.testing instead.\n",
            "  import pandas.util.testing as tm\n"
          ],
          "name": "stderr"
        }
      ]
    },
    {
      "cell_type": "code",
      "metadata": {
        "id": "NASvhisDYfJo",
        "colab_type": "code",
        "colab": {}
      },
      "source": [
        "width = 64\n",
        "height = 64\n",
        "channels = 1"
      ],
      "execution_count": 21,
      "outputs": []
    },
    {
      "cell_type": "code",
      "metadata": {
        "id": "rYr7mGDpYfG7",
        "colab_type": "code",
        "colab": {}
      },
      "source": [
        "input_layer = layers.Input(name='input', shape=(height, width, channels))\n",
        "\n",
        "# Encoder\n",
        "x = layers.Conv2D(32, (5,5), strides=(1,1), padding='same', name='conv_1', kernel_regularizer = 'l2')(input_layer)\n",
        "x = layers.LeakyReLU(name='leaky_1')(x)\n",
        "\n",
        "x = layers.Conv2D(64, (3,3), strides=(2,2), padding='same', name='conv_2', kernel_regularizer = 'l2')(x)\n",
        "x = layers.BatchNormalization(name='norm_1')(x)\n",
        "x = layers.LeakyReLU(name='leaky_2')(x)\n",
        "\n",
        "\n",
        "x = layers.Conv2D(128, (3,3), strides=(2,2), padding='same', name='conv_3', kernel_regularizer = 'l2')(x)\n",
        "x = layers.BatchNormalization(name='norm_2')(x)\n",
        "x = layers.LeakyReLU(name='leaky_3')(x)\n",
        "\n",
        "\n",
        "x = layers.Conv2D(128, (3,3), strides=(2,2), padding='same', name='conv_4', kernel_regularizer = 'l2')(x)\n",
        "x = layers.BatchNormalization(name='norm_3')(x)\n",
        "x = layers.LeakyReLU(name='leaky_4')(x)\n",
        "\n",
        "x = layers.GlobalAveragePooling2D(name='g_encoder_output')(x)\n",
        "\n",
        "g_e = keras.models.Model(inputs=input_layer, outputs=x)\n",
        "\n",
        "g_e.summary()"
      ],
      "execution_count": null,
      "outputs": []
    },
    {
      "cell_type": "code",
      "metadata": {
        "id": "Ol-K6uYPYfEM",
        "colab_type": "code",
        "colab": {}
      },
      "source": [
        "input_layer = layers.Input(name='input', shape=(height, width, channels))\n",
        "\n",
        "x = g_e(input_layer)\n",
        "\n",
        "y = layers.Dense(width * width * 2, name='dense')(x) # 2 = 128 / 8 / 8\n",
        "y = layers.Reshape((width//8, width//8, 128), name='de_reshape')(y)\n",
        "\n",
        "y = layers.Conv2DTranspose(128, (3,3), strides=(2,2), padding='same', name='deconv_1', kernel_regularizer = 'l2')(y)\n",
        "y = layers.LeakyReLU(name='de_leaky_1')(y)\n",
        "\n",
        "y = layers.Conv2DTranspose(64, (3,3), strides=(2,2), padding='same', name='deconv_2', kernel_regularizer = 'l2')(y)\n",
        "y = layers.LeakyReLU(name='de_leaky_2')(y)\n",
        "\n",
        "y = layers.Conv2DTranspose(32, (3,3), strides=(2,2), padding='same', name='deconv_3', kernel_regularizer = 'l2')(y)\n",
        "y = layers.LeakyReLU(name='de_leaky_3')(y)\n",
        "\n",
        "y = layers.Conv2DTranspose(channels, (1, 1), strides=(1,1), padding='same', name='decoder_deconv_output', kernel_regularizer = 'l2', activation='tanh')(y)\n",
        "\n",
        "g = keras.models.Model(inputs=input_layer, outputs=y)\n",
        "\n",
        "g.summary()"
      ],
      "execution_count": null,
      "outputs": []
    },
    {
      "cell_type": "code",
      "metadata": {
        "id": "gXMn2bmBYfBt",
        "colab_type": "code",
        "colab": {}
      },
      "source": [
        ""
      ],
      "execution_count": null,
      "outputs": []
    },
    {
      "cell_type": "code",
      "metadata": {
        "id": "Z2sF3cdXYe_J",
        "colab_type": "code",
        "colab": {}
      },
      "source": [
        ""
      ],
      "execution_count": null,
      "outputs": []
    },
    {
      "cell_type": "code",
      "metadata": {
        "id": "kqGiycIM8wnU",
        "colab_type": "code",
        "colab": {}
      },
      "source": [
        "g.load_weights('g.h5')"
      ],
      "execution_count": 8,
      "outputs": []
    },
    {
      "cell_type": "code",
      "metadata": {
        "id": "izmrylBz8wk7",
        "colab_type": "code",
        "colab": {}
      },
      "source": [
        "g_e.load_weights('g_e.h5')"
      ],
      "execution_count": 9,
      "outputs": []
    },
    {
      "cell_type": "code",
      "metadata": {
        "id": "zPBDEdPsY9Dm",
        "colab_type": "code",
        "colab": {}
      },
      "source": [
        ""
      ],
      "execution_count": null,
      "outputs": []
    },
    {
      "cell_type": "code",
      "metadata": {
        "id": "Uu2O6o1cY9BG",
        "colab_type": "code",
        "colab": {}
      },
      "source": [
        "from keras.datasets import mnist\n",
        "import cv2\n",
        "import numpy as np\n",
        "\n"
      ],
      "execution_count": 13,
      "outputs": []
    },
    {
      "cell_type": "code",
      "metadata": {
        "id": "lBKDAQirY8-p",
        "colab_type": "code",
        "colab": {}
      },
      "source": [
        "def reshape_x(x):\n",
        "    new_x = np.empty((len(x), width, height))\n",
        "    for i, e in enumerate(x):\n",
        "        new_x[i] = cv2.resize(e, (width, height))\n",
        "    return np.expand_dims(new_x, axis=-1) / 127 - 1\n",
        "  "
      ],
      "execution_count": 14,
      "outputs": []
    },
    {
      "cell_type": "code",
      "metadata": {
        "id": "kJY3JAoa8whx",
        "colab_type": "code",
        "colab": {}
      },
      "source": [
        "\n",
        "(x_train, y_train), (x_test, y_test) = mnist.load_data()\n",
        "\n",
        "x_test_6 = x_test[y_test == 6]\n",
        "x_test_6 = reshape_x(x_test_6)\n",
        "\n",
        "x_test_1 = x_test[y_test == 1]\n",
        "x_test_1 = reshape_x(x_test_1)\n",
        "\n",
        "y_test_6 = y_test[y_test == 6]\n",
        "y_test_1 = y_test[y_test == 1]"
      ],
      "execution_count": 22,
      "outputs": []
    },
    {
      "cell_type": "code",
      "metadata": {
        "id": "WQrdbtKJ8wfL",
        "colab_type": "code",
        "colab": {}
      },
      "source": [
        "encoded = g_e.predict(x_test_6)\n",
        "gan_x = g.predict(x_test_6)\n",
        "encoded_gan = g_e.predict(gan_x)\n",
        "score = np.sum(np.absolute(encoded - encoded_gan), axis=-1)\n",
        "score = (score - np.min(score)) / (np.max(score) - np.min(score)) # map to 0~1"
      ],
      "execution_count": 23,
      "outputs": []
    },
    {
      "cell_type": "code",
      "metadata": {
        "id": "xOoPoQnQLaWd",
        "colab_type": "code",
        "colab": {}
      },
      "source": [
        "fin_weight_score_6=score"
      ],
      "execution_count": 24,
      "outputs": []
    },
    {
      "cell_type": "code",
      "metadata": {
        "id": "-8zKlY3mLaTk",
        "colab_type": "code",
        "colab": {}
      },
      "source": [
        ""
      ],
      "execution_count": 24,
      "outputs": []
    },
    {
      "cell_type": "code",
      "metadata": {
        "id": "hAeJAyjrLaRN",
        "colab_type": "code",
        "colab": {}
      },
      "source": [
        "encoded = g_e.predict(x_test_1)\n",
        "gan_x = g.predict(x_test_1)\n",
        "encoded_gan = g_e.predict(gan_x)\n",
        "score = np.sum(np.absolute(encoded - encoded_gan), axis=-1)\n",
        "score = (score - np.min(score)) / (np.max(score) - np.min(score)) # map to 0~1"
      ],
      "execution_count": 25,
      "outputs": []
    },
    {
      "cell_type": "code",
      "metadata": {
        "id": "FBU_zSJGLaN5",
        "colab_type": "code",
        "colab": {}
      },
      "source": [
        "fin_weight_score_1=score"
      ],
      "execution_count": 26,
      "outputs": []
    },
    {
      "cell_type": "code",
      "metadata": {
        "id": "5JI6ZUxhLaJA",
        "colab_type": "code",
        "colab": {}
      },
      "source": [
        ""
      ],
      "execution_count": null,
      "outputs": []
    },
    {
      "cell_type": "code",
      "metadata": {
        "id": "anfv9OexLaF_",
        "colab_type": "code",
        "colab": {
          "base_uri": "https://localhost:8080/",
          "height": 285
        },
        "outputId": "408a253b-a7b9-48a7-bb26-ac921237e131"
      },
      "source": [
        "import matplotlib.pyplot as plt\n",
        "import seaborn as sns\n",
        "\n",
        "sns.set()\n",
        "sns.set_style('whitegrid')\n",
        "sns.set_palette('Set1')\n",
        "\n",
        "fig = plt.figure()\n",
        "ax = fig.add_subplot(1, 1, 1)\n",
        "\n",
        "labels = ['fin_weight_lab_1', 'fin_weight_lab_6']\n",
        "ax.hist(fin_weight_score_1, bins=50, alpha=0.6,label=labels[0])\n",
        "ax.hist(fin_weight_score_6, bins=50, alpha=0.6,label=labels[1])\n",
        "ax.set_xlabel('length [cm]')\n",
        "\n",
        "plt.legend()\n",
        "plt.show()"
      ],
      "execution_count": 28,
      "outputs": [
        {
          "output_type": "display_data",
          "data": {
            "image/png": "[encoded data removed]",
            "text/plain": [
              "<Figure size 432x288 with 1 Axes>"
            ]
          },
          "metadata": {
            "tags": []
          }
        }
      ]
    },
    {
      "cell_type": "code",
      "metadata": {
        "id": "NBZAdWBiLaDE",
        "colab_type": "code",
        "colab": {}
      },
      "source": [
        ""
      ],
      "execution_count": null,
      "outputs": []
    }
  ]
}