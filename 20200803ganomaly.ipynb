{
  "nbformat": 4,
  "nbformat_minor": 0,
  "metadata": {
    "accelerator": "GPU",
    "colab": {
      "name": "20200803ganomaly.ipynb",
      "provenance": []
    },
    "kernelspec": {
      "display_name": "Python 3",
      "language": "python",
      "name": "python3"
    },
    "language_info": {
      "codemirror_mode": {
        "name": "ipython",
        "version": 3
      },
      "file_extension": ".py",
      "mimetype": "text/x-python",
      "name": "python",
      "nbconvert_exporter": "python",
      "pygments_lexer": "ipython3",
      "version": "3.7.3"
    }
  },
  "cells": [
    {
      "cell_type": "code",
      "metadata": {
        "colab_type": "code",
        "id": "_fOFzTCbXTfi",
        "colab": {
          "base_uri": "https://localhost:8080/",
          "height": 51
        },
        "outputId": "5dc17df1-9521-4eb6-bafe-4f806d42c852"
      },
      "source": [
        "from keras import layers\n",
        "import keras\n",
        "import keras.backend as K\n",
        "\n",
        "import numpy as np\n",
        "import seaborn as sns"
      ],
      "execution_count": 1,
      "outputs": [
        {
          "output_type": "stream",
          "text": [
            "/usr/local/lib/python3.6/dist-packages/statsmodels/tools/_testing.py:19: FutureWarning: pandas.util.testing is deprecated. Use the functions in the public API at pandas.testing instead.\n",
            "  import pandas.util.testing as tm\n"
          ],
          "name": "stderr"
        }
      ]
    },
    {
      "cell_type": "code",
      "metadata": {
        "id": "_6fu84RWgUmB",
        "colab_type": "code",
        "colab": {}
      },
      "source": [
        "#from google.colab import files\n",
        "#files.upload()"
      ],
      "execution_count": 2,
      "outputs": []
    },
    {
      "cell_type": "code",
      "metadata": {
        "id": "cO7d_vKq2S9E",
        "colab_type": "code",
        "colab": {
          "base_uri": "https://localhost:8080/",
          "height": 34
        },
        "outputId": "6b73d94c-12dd-4731-bf94-0055ebdf9849"
      },
      "source": [
        "from google.colab import drive\n",
        "drive.mount('/content/drive')"
      ],
      "execution_count": 3,
      "outputs": [
        {
          "output_type": "stream",
          "text": [
            "Drive already mounted at /content/drive; to attempt to forcibly remount, call drive.mount(\"/content/drive\", force_remount=True).\n"
          ],
          "name": "stdout"
        }
      ]
    },
    {
      "cell_type": "code",
      "metadata": {
        "id": "3uVHkgxr2S4z",
        "colab_type": "code",
        "colab": {
          "base_uri": "https://localhost:8080/",
          "height": 35
        },
        "outputId": "921d2187-713c-40cd-f727-f669d06bff23"
      },
      "source": [
        "import os\n",
        "os.getcwd()"
      ],
      "execution_count": 4,
      "outputs": [
        {
          "output_type": "execute_result",
          "data": {
            "application/vnd.google.colaboratory.intrinsic+json": {
              "type": "string"
            },
            "text/plain": [
              "'/content'"
            ]
          },
          "metadata": {
            "tags": []
          },
          "execution_count": 4
        }
      ]
    },
    {
      "cell_type": "code",
      "metadata": {
        "id": "xMnTGbQG2S1s",
        "colab_type": "code",
        "colab": {
          "base_uri": "https://localhost:8080/",
          "height": 68
        },
        "outputId": "245a8313-17a5-4a25-953a-1941e0bb077b"
      },
      "source": [
        "import glob\n",
        "\n",
        "glob.glob(\"./drive/My Drive/all_npy/*\")"
      ],
      "execution_count": 5,
      "outputs": [
        {
          "output_type": "execute_result",
          "data": {
            "text/plain": [
              "['./drive/My Drive/all_npy/ok_test.npy',\n",
              " './drive/My Drive/all_npy/anomal.npy',\n",
              " './drive/My Drive/all_npy/ok.npy']"
            ]
          },
          "metadata": {
            "tags": []
          },
          "execution_count": 5
        }
      ]
    },
    {
      "cell_type": "code",
      "metadata": {
        "id": "MHzOuq38GWBl",
        "colab_type": "code",
        "colab": {}
      },
      "source": [
        "ok=np.load('./drive/My Drive/all_npy/ok.npy')\n",
        "ano=np.load('./drive/My Drive/all_npy/anomal.npy')\n"
      ],
      "execution_count": 6,
      "outputs": []
    },
    {
      "cell_type": "code",
      "metadata": {
        "id": "Mvft4otmGV-v",
        "colab_type": "code",
        "colab": {}
      },
      "source": [
        "ok_test=np.load('./drive/My Drive/all_npy/ok_test.npy')"
      ],
      "execution_count": 7,
      "outputs": []
    },
    {
      "cell_type": "code",
      "metadata": {
        "id": "BOxgJ5skYFLT",
        "colab_type": "code",
        "colab": {
          "base_uri": "https://localhost:8080/",
          "height": 34
        },
        "outputId": "ecf0e887-fa6e-42dc-9841-b2eaed355b92"
      },
      "source": [
        "ok.shape"
      ],
      "execution_count": 8,
      "outputs": [
        {
          "output_type": "execute_result",
          "data": {
            "text/plain": [
              "(7128, 300, 114, 1)"
            ]
          },
          "metadata": {
            "tags": []
          },
          "execution_count": 8
        }
      ]
    },
    {
      "cell_type": "code",
      "metadata": {
        "id": "ldy1tfqaYFox",
        "colab_type": "code",
        "colab": {
          "base_uri": "https://localhost:8080/",
          "height": 34
        },
        "outputId": "ab9d9e78-4670-44c2-a888-d51004e7f377"
      },
      "source": [
        "ano.shape"
      ],
      "execution_count": 9,
      "outputs": [
        {
          "output_type": "execute_result",
          "data": {
            "text/plain": [
              "(28, 300, 114, 1)"
            ]
          },
          "metadata": {
            "tags": []
          },
          "execution_count": 9
        }
      ]
    },
    {
      "cell_type": "code",
      "metadata": {
        "id": "w9EUFEEXYFdf",
        "colab_type": "code",
        "colab": {}
      },
      "source": [
        ""
      ],
      "execution_count": 9,
      "outputs": []
    },
    {
      "cell_type": "code",
      "metadata": {
        "id": "67mQt7TZYk7m",
        "colab_type": "code",
        "colab": {}
      },
      "source": [
        "#A=np.concatenate((ano,ano), axis = 0) "
      ],
      "execution_count": 10,
      "outputs": []
    },
    {
      "cell_type": "code",
      "metadata": {
        "id": "UKFyl2ddYk_t",
        "colab_type": "code",
        "colab": {}
      },
      "source": [
        ""
      ],
      "execution_count": 10,
      "outputs": []
    },
    {
      "cell_type": "code",
      "metadata": {
        "id": "nt1CCanOYlCw",
        "colab_type": "code",
        "colab": {}
      },
      "source": [
        ""
      ],
      "execution_count": 10,
      "outputs": []
    },
    {
      "cell_type": "code",
      "metadata": {
        "id": "PmSCzWclgHU5",
        "colab_type": "code",
        "colab": {
          "base_uri": "https://localhost:8080/",
          "height": 51
        },
        "outputId": "f3700532-e972-4d29-f759-868f6a192edc"
      },
      "source": [
        "# ハードウェア情報取得\n",
        "import tensorflow as tf\n",
        "\n",
        "try:\n",
        "  tpu = tf.distribute.cluster_resolver.TPUClusterResolver() # TPU detection\n",
        "except ValueError:\n",
        "  tpu = None\n",
        "  gpus = tf.config.experimental.list_logical_devices(\"GPU\")\n",
        "\n",
        "if tpu:\n",
        "  tf.tpu.experimental.initialize_tpu_system(tpu)\n",
        "  strategy = tf.distribute.experimental.TPUStrategy(tpu, steps_per_run=128) # Going back and forth between TPU and host is expensive. Better to run 128 batches on the TPU before reporting back.\n",
        "  print('Running on TPU ', tpu.cluster_spec().as_dict()['worker'])\n",
        "elif len(gpus) > 1:\n",
        "  strategy = tf.distribute.MirroredStrategy([gpu.name for gpu in gpus])\n",
        "  print('Running on multiple GPUs ', [gpu.name for gpu in gpus])\n",
        "elif len(gpus) == 1:\n",
        "  strategy = tf.distribute.get_strategy() # default strategy that works on CPU and single GPU\n",
        "  print('Running on single GPU ', gpus[0].name)\n",
        "else:\n",
        "  strategy = tf.distribute.get_strategy() # default strategy that works on CPU and single GPU\n",
        "  print('Running on CPU')\n",
        "print(\"Number of accelerators: \", strategy.num_replicas_in_sync)\n",
        "\n",
        "\n",
        "# モデル作成やモデルロード、モデルコンパイル時に、with strategy.scope()で囲む\n",
        "#from tensorflow import keras\n",
        "#with strategy.scope():\n",
        "#    model = make_model()\n"
      ],
      "execution_count": 11,
      "outputs": [
        {
          "output_type": "stream",
          "text": [
            "Running on single GPU  /device:GPU:0\n",
            "Number of accelerators:  1\n"
          ],
          "name": "stdout"
        }
      ]
    },
    {
      "cell_type": "code",
      "metadata": {
        "id": "r54NZJ76gHXE",
        "colab_type": "code",
        "colab": {}
      },
      "source": [
        ""
      ],
      "execution_count": 11,
      "outputs": []
    },
    {
      "cell_type": "markdown",
      "metadata": {
        "colab_type": "text",
        "id": "jAzGntqyX583"
      },
      "source": [
        "# Models"
      ]
    },
    {
      "cell_type": "code",
      "metadata": {
        "colab_type": "code",
        "id": "lj9m8quMYrtB",
        "colab": {}
      },
      "source": [
        "width = 224\n",
        "height = 224\n",
        "channels = 1"
      ],
      "execution_count": 12,
      "outputs": []
    },
    {
      "cell_type": "markdown",
      "metadata": {
        "colab_type": "text",
        "id": "9V6k5E4HX8ns"
      },
      "source": [
        "## Generators Encoder\n"
      ]
    },
    {
      "cell_type": "code",
      "metadata": {
        "colab_type": "code",
        "id": "6SSgbWtgYFge",
        "colab": {
          "base_uri": "https://localhost:8080/",
          "height": 595
        },
        "outputId": "71f1f03e-7ccb-4095-801c-3a792afdb50e"
      },
      "source": [
        "input_layer = layers.Input(name='input', shape=(height, width, channels))\n",
        "    # Encoder\n",
        "x = layers.Conv2D(32, (5,5), strides=(1,1), padding='same', name='conv_1', kernel_regularizer = 'l2')(input_layer)\n",
        "x = layers.LeakyReLU(name='leaky_1')(x)\n",
        "\n",
        "x = layers.Conv2D(64, (3,3), strides=(2,2), padding='same', name='conv_2', kernel_regularizer = 'l2')(x)\n",
        "x = layers.BatchNormalization(name='norm_1')(x)\n",
        "x = layers.LeakyReLU(name='leaky_2')(x)\n",
        "\n",
        "x = layers.Conv2D(128, (3,3), strides=(2,2), padding='same', name='conv_3', kernel_regularizer = 'l2')(x)\n",
        "x = layers.BatchNormalization(name='norm_2')(x)\n",
        "x = layers.LeakyReLU(name='leaky_3')(x)\n",
        "\n",
        "x = layers.Conv2D(128, (3,3), strides=(2,2), padding='same', name='conv_4', kernel_regularizer = 'l2')(x)\n",
        "x = layers.BatchNormalization(name='norm_3')(x)\n",
        "x = layers.LeakyReLU(name='leaky_4')(x)\n",
        "\n",
        "x = layers.GlobalAveragePooling2D(name='g_encoder_output')(x)\n",
        "\n",
        "g_e = keras.models.Model(inputs=input_layer, outputs=x)\n",
        "\n",
        "g_e.summary()"
      ],
      "execution_count": 13,
      "outputs": [
        {
          "output_type": "stream",
          "text": [
            "Model: \"functional_1\"\n",
            "_________________________________________________________________\n",
            "Layer (type)                 Output Shape              Param #   \n",
            "=================================================================\n",
            "input (InputLayer)           [(None, 224, 224, 1)]     0         \n",
            "_________________________________________________________________\n",
            "conv_1 (Conv2D)              (None, 224, 224, 32)      832       \n",
            "_________________________________________________________________\n",
            "leaky_1 (LeakyReLU)          (None, 224, 224, 32)      0         \n",
            "_________________________________________________________________\n",
            "conv_2 (Conv2D)              (None, 112, 112, 64)      18496     \n",
            "_________________________________________________________________\n",
            "norm_1 (BatchNormalization)  (None, 112, 112, 64)      256       \n",
            "_________________________________________________________________\n",
            "leaky_2 (LeakyReLU)          (None, 112, 112, 64)      0         \n",
            "_________________________________________________________________\n",
            "conv_3 (Conv2D)              (None, 56, 56, 128)       73856     \n",
            "_________________________________________________________________\n",
            "norm_2 (BatchNormalization)  (None, 56, 56, 128)       512       \n",
            "_________________________________________________________________\n",
            "leaky_3 (LeakyReLU)          (None, 56, 56, 128)       0         \n",
            "_________________________________________________________________\n",
            "conv_4 (Conv2D)              (None, 28, 28, 128)       147584    \n",
            "_________________________________________________________________\n",
            "norm_3 (BatchNormalization)  (None, 28, 28, 128)       512       \n",
            "_________________________________________________________________\n",
            "leaky_4 (LeakyReLU)          (None, 28, 28, 128)       0         \n",
            "_________________________________________________________________\n",
            "g_encoder_output (GlobalAver (None, 128)               0         \n",
            "=================================================================\n",
            "Total params: 242,048\n",
            "Trainable params: 241,408\n",
            "Non-trainable params: 640\n",
            "_________________________________________________________________\n"
          ],
          "name": "stdout"
        }
      ]
    },
    {
      "cell_type": "markdown",
      "metadata": {
        "colab_type": "text",
        "id": "CsFGE97WYMts"
      },
      "source": [
        "## Generator"
      ]
    },
    {
      "cell_type": "code",
      "metadata": {
        "colab_type": "code",
        "id": "pivNg2CMYQwi",
        "colab": {
          "base_uri": "https://localhost:8080/",
          "height": 527
        },
        "outputId": "a7d2766e-3bc8-4928-e7ea-5be9bd1d9b88"
      },
      "source": [
        "input_layer = layers.Input(name='input', shape=(height, width, channels))\n",
        "\n",
        "x = g_e(input_layer)\n",
        "\n",
        "y = layers.Dense(width * width * 2, name='dense')(x) # 2 = 128 / 8 / 8\n",
        "y = layers.Reshape((width//8, width//8, 128), name='de_reshape')(y)\n",
        "\n",
        "y = layers.Conv2DTranspose(128, (3,3), strides=(2,2), padding='same', name='deconv_1', kernel_regularizer = 'l2')(y)\n",
        "y = layers.LeakyReLU(name='de_leaky_1')(y)\n",
        "\n",
        "y = layers.Conv2DTranspose(64, (3,3), strides=(2,2), padding='same', name='deconv_2', kernel_regularizer = 'l2')(y)\n",
        "y = layers.LeakyReLU(name='de_leaky_2')(y)\n",
        "\n",
        "y = layers.Conv2DTranspose(32, (3,3), strides=(2,2), padding='same', name='deconv_3', kernel_regularizer = 'l2')(y)\n",
        "y = layers.LeakyReLU(name='de_leaky_3')(y)\n",
        "\n",
        "y = layers.Conv2DTranspose(channels, (1, 1), strides=(1,1), padding='same', name='decoder_deconv_output', kernel_regularizer = 'l2', activation='tanh')(y)\n",
        "\n",
        "g = keras.models.Model(inputs=input_layer, outputs=y)\n",
        "\n",
        "g.summary()"
      ],
      "execution_count": 14,
      "outputs": [
        {
          "output_type": "stream",
          "text": [
            "Model: \"functional_3\"\n",
            "_________________________________________________________________\n",
            "Layer (type)                 Output Shape              Param #   \n",
            "=================================================================\n",
            "input (InputLayer)           [(None, 224, 224, 1)]     0         \n",
            "_________________________________________________________________\n",
            "functional_1 (Functional)    (None, 128)               242048    \n",
            "_________________________________________________________________\n",
            "dense (Dense)                (None, 100352)            12945408  \n",
            "_________________________________________________________________\n",
            "de_reshape (Reshape)         (None, 28, 28, 128)       0         \n",
            "_________________________________________________________________\n",
            "deconv_1 (Conv2DTranspose)   (None, 56, 56, 128)       147584    \n",
            "_________________________________________________________________\n",
            "de_leaky_1 (LeakyReLU)       (None, 56, 56, 128)       0         \n",
            "_________________________________________________________________\n",
            "deconv_2 (Conv2DTranspose)   (None, 112, 112, 64)      73792     \n",
            "_________________________________________________________________\n",
            "de_leaky_2 (LeakyReLU)       (None, 112, 112, 64)      0         \n",
            "_________________________________________________________________\n",
            "deconv_3 (Conv2DTranspose)   (None, 224, 224, 32)      18464     \n",
            "_________________________________________________________________\n",
            "de_leaky_3 (LeakyReLU)       (None, 224, 224, 32)      0         \n",
            "_________________________________________________________________\n",
            "decoder_deconv_output (Conv2 (None, 224, 224, 1)       33        \n",
            "=================================================================\n",
            "Total params: 13,427,329\n",
            "Trainable params: 13,426,689\n",
            "Non-trainable params: 640\n",
            "_________________________________________________________________\n"
          ],
          "name": "stdout"
        }
      ]
    },
    {
      "cell_type": "markdown",
      "metadata": {
        "colab_type": "text",
        "id": "6xJahMZrZReX"
      },
      "source": [
        "## Encoder"
      ]
    },
    {
      "cell_type": "code",
      "metadata": {
        "colab_type": "code",
        "id": "coa6bXCRYRG9",
        "colab": {
          "base_uri": "https://localhost:8080/",
          "height": 595
        },
        "outputId": "337e799b-1e63-4762-fa74-9918162ee70f"
      },
      "source": [
        "input_layer = layers.Input(name='input', shape=(height, width, channels))\n",
        "\n",
        "z = layers.Conv2D(32, (5,5), strides=(1,1), padding='same', name='encoder_conv_1', kernel_regularizer = 'l2')(input_layer)\n",
        "z = layers.LeakyReLU()(z)\n",
        "\n",
        "z = layers.Conv2D(64, (3,3), strides=(2,2), padding='same', name='encoder_conv_2', kernel_regularizer = 'l2')(z)\n",
        "z = layers.BatchNormalization(name='encoder_norm_1')(z)\n",
        "z = layers.LeakyReLU()(z)\n",
        "\n",
        "\n",
        "z = layers.Conv2D(128, (3,3), strides=(2,2), padding='same', name='encoder_conv_3', kernel_regularizer = 'l2')(z)\n",
        "z = layers.BatchNormalization(name='encoder_norm_2')(z)\n",
        "z = layers.LeakyReLU()(z)\n",
        "\n",
        "z = layers.Conv2D(128, (3,3), strides=(2,2), padding='same', name='conv_41', kernel_regularizer = 'l2')(z)\n",
        "z = layers.BatchNormalization(name='encoder_norm_3')(z)\n",
        "z = layers.LeakyReLU()(z)\n",
        "\n",
        "z = layers.GlobalAveragePooling2D(name='encoder_output')(z)\n",
        "\n",
        "encoder = keras.models.Model(input_layer, z)\n",
        "encoder.summary()"
      ],
      "execution_count": 15,
      "outputs": [
        {
          "output_type": "stream",
          "text": [
            "Model: \"functional_5\"\n",
            "_________________________________________________________________\n",
            "Layer (type)                 Output Shape              Param #   \n",
            "=================================================================\n",
            "input (InputLayer)           [(None, 224, 224, 1)]     0         \n",
            "_________________________________________________________________\n",
            "encoder_conv_1 (Conv2D)      (None, 224, 224, 32)      832       \n",
            "_________________________________________________________________\n",
            "leaky_re_lu (LeakyReLU)      (None, 224, 224, 32)      0         \n",
            "_________________________________________________________________\n",
            "encoder_conv_2 (Conv2D)      (None, 112, 112, 64)      18496     \n",
            "_________________________________________________________________\n",
            "encoder_norm_1 (BatchNormali (None, 112, 112, 64)      256       \n",
            "_________________________________________________________________\n",
            "leaky_re_lu_1 (LeakyReLU)    (None, 112, 112, 64)      0         \n",
            "_________________________________________________________________\n",
            "encoder_conv_3 (Conv2D)      (None, 56, 56, 128)       73856     \n",
            "_________________________________________________________________\n",
            "encoder_norm_2 (BatchNormali (None, 56, 56, 128)       512       \n",
            "_________________________________________________________________\n",
            "leaky_re_lu_2 (LeakyReLU)    (None, 56, 56, 128)       0         \n",
            "_________________________________________________________________\n",
            "conv_41 (Conv2D)             (None, 28, 28, 128)       147584    \n",
            "_________________________________________________________________\n",
            "encoder_norm_3 (BatchNormali (None, 28, 28, 128)       512       \n",
            "_________________________________________________________________\n",
            "leaky_re_lu_3 (LeakyReLU)    (None, 28, 28, 128)       0         \n",
            "_________________________________________________________________\n",
            "encoder_output (GlobalAverag (None, 128)               0         \n",
            "=================================================================\n",
            "Total params: 242,048\n",
            "Trainable params: 241,408\n",
            "Non-trainable params: 640\n",
            "_________________________________________________________________\n"
          ],
          "name": "stdout"
        }
      ]
    },
    {
      "cell_type": "markdown",
      "metadata": {
        "colab_type": "text",
        "id": "WHU8SoiCZUCH"
      },
      "source": [
        "## feature extractor"
      ]
    },
    {
      "cell_type": "code",
      "metadata": {
        "colab_type": "code",
        "id": "tovsU-1uZXzr",
        "colab": {
          "base_uri": "https://localhost:8080/",
          "height": 561
        },
        "outputId": "aad99902-d7c8-4822-a12f-7bbf3e61998d"
      },
      "source": [
        "input_layer = layers.Input(name='input', shape=(height, width, channels))\n",
        "\n",
        "f = layers.Conv2D(32, (5,5), strides=(1,1), padding='same', name='f_conv_1', kernel_regularizer = 'l2')(input_layer)\n",
        "f = layers.LeakyReLU(name='f_leaky_1')(f)\n",
        "\n",
        "f = layers.Conv2D(64, (3,3), strides=(2,2), padding='same', name='f_conv_2', kernel_regularizer = 'l2')(f)\n",
        "f = layers.BatchNormalization(name='f_norm_1')(f)\n",
        "f = layers.LeakyReLU(name='f_leaky_2')(f)\n",
        "\n",
        "\n",
        "f = layers.Conv2D(128, (3,3), strides=(2,2), padding='same', name='f_conv_3', kernel_regularizer = 'l2')(f)\n",
        "f = layers.BatchNormalization(name='f_norm_2')(f)\n",
        "f = layers.LeakyReLU(name='f_leaky_3')(f)\n",
        "\n",
        "\n",
        "f = layers.Conv2D(128, (3,3), strides=(2,2), padding='same', name='f_conv_4', kernel_regularizer = 'l2')(f)\n",
        "f = layers.BatchNormalization(name='f_norm_3')(f)\n",
        "f = layers.LeakyReLU(name='feature_output')(f)\n",
        "\n",
        "feature_extractor = keras.models.Model(input_layer, f)\n",
        "\n",
        "feature_extractor.summary()"
      ],
      "execution_count": 16,
      "outputs": [
        {
          "output_type": "stream",
          "text": [
            "Model: \"functional_7\"\n",
            "_________________________________________________________________\n",
            "Layer (type)                 Output Shape              Param #   \n",
            "=================================================================\n",
            "input (InputLayer)           [(None, 224, 224, 1)]     0         \n",
            "_________________________________________________________________\n",
            "f_conv_1 (Conv2D)            (None, 224, 224, 32)      832       \n",
            "_________________________________________________________________\n",
            "f_leaky_1 (LeakyReLU)        (None, 224, 224, 32)      0         \n",
            "_________________________________________________________________\n",
            "f_conv_2 (Conv2D)            (None, 112, 112, 64)      18496     \n",
            "_________________________________________________________________\n",
            "f_norm_1 (BatchNormalization (None, 112, 112, 64)      256       \n",
            "_________________________________________________________________\n",
            "f_leaky_2 (LeakyReLU)        (None, 112, 112, 64)      0         \n",
            "_________________________________________________________________\n",
            "f_conv_3 (Conv2D)            (None, 56, 56, 128)       73856     \n",
            "_________________________________________________________________\n",
            "f_norm_2 (BatchNormalization (None, 56, 56, 128)       512       \n",
            "_________________________________________________________________\n",
            "f_leaky_3 (LeakyReLU)        (None, 56, 56, 128)       0         \n",
            "_________________________________________________________________\n",
            "f_conv_4 (Conv2D)            (None, 28, 28, 128)       147584    \n",
            "_________________________________________________________________\n",
            "f_norm_3 (BatchNormalization (None, 28, 28, 128)       512       \n",
            "_________________________________________________________________\n",
            "feature_output (LeakyReLU)   (None, 28, 28, 128)       0         \n",
            "=================================================================\n",
            "Total params: 242,048\n",
            "Trainable params: 241,408\n",
            "Non-trainable params: 640\n",
            "_________________________________________________________________\n"
          ],
          "name": "stdout"
        }
      ]
    },
    {
      "cell_type": "markdown",
      "metadata": {
        "colab_type": "text",
        "id": "Z7HBx1GiZhm-"
      },
      "source": [
        "## gan trainer"
      ]
    },
    {
      "cell_type": "code",
      "metadata": {
        "colab_type": "code",
        "id": "bosacIf7ZkZ4",
        "colab": {}
      },
      "source": [
        "class AdvLoss(keras.layers.Layer):\n",
        "    def __init__(self, **kwargs):\n",
        "        super(AdvLoss, self).__init__(**kwargs)\n",
        "\n",
        "    def call(self, x, mask=None):\n",
        "        ori_feature = feature_extractor(x[0])\n",
        "        gan_feature = feature_extractor(x[1])\n",
        "        return K.mean(K.square(ori_feature - K.mean(gan_feature, axis=0)))\n",
        "\n",
        "    def get_output_shape_for(self, input_shape):\n",
        "        return (input_shape[0][0], 1)\n",
        "    \n",
        "class CntLoss(keras.layers.Layer):\n",
        "    def __init__(self, **kwargs):\n",
        "        super(CntLoss, self).__init__(**kwargs)\n",
        "\n",
        "    def call(self, x, mask=None):\n",
        "        ori = x[0]\n",
        "        gan = x[1]\n",
        "        return K.mean(K.abs(ori - gan))\n",
        "\n",
        "    def get_output_shape_for(self, input_shape):\n",
        "        return (input_shape[0][0], 1)\n",
        "    \n",
        "class EncLoss(keras.layers.Layer):\n",
        "    def __init__(self, **kwargs):\n",
        "        super(EncLoss, self).__init__(**kwargs)\n",
        "\n",
        "    def call(self, x, mask=None):\n",
        "        ori = x[0]\n",
        "        gan = x[1]\n",
        "        return K.mean(K.square(g_e(ori) - encoder(gan)))\n",
        "\n",
        "    def get_output_shape_for(self, input_shape):\n",
        "        return (input_shape[0][0], 1)\n",
        "    \n",
        "# model for training\n",
        "input_layer = layers.Input(name='input', shape=(height, width, channels))\n",
        "gan = g(input_layer) # g(x)\n",
        "\n",
        "adv_loss = AdvLoss(name='adv_loss')([input_layer, gan])\n",
        "cnt_loss = CntLoss(name='cnt_loss')([input_layer, gan])\n",
        "enc_loss = EncLoss(name='enc_loss')([input_layer, gan])\n",
        "\n",
        "gan_trainer = keras.models.Model(input_layer, [adv_loss, cnt_loss, enc_loss])\n",
        "\n",
        "# loss function\n",
        "def loss(yt, yp):\n",
        "    return yp\n",
        "\n",
        "losses = {\n",
        "    'adv_loss': loss,\n",
        "    'cnt_loss': loss,\n",
        "    'enc_loss': loss,\n",
        "}\n",
        "\n",
        "lossWeights = {'cnt_loss': 20.0, 'adv_loss': 1.0, 'enc_loss': 1.0}\n",
        "\n",
        "# compile\n",
        "gan_trainer.compile(optimizer = 'adam', loss=losses, loss_weights=lossWeights)"
      ],
      "execution_count": 17,
      "outputs": []
    },
    {
      "cell_type": "code",
      "metadata": {
        "colab_type": "code",
        "id": "6YlrDrqZUfJG",
        "colab": {
          "base_uri": "https://localhost:8080/",
          "height": 374
        },
        "outputId": "7d5da9cd-bce9-4f06-e4f0-59b21e21de01"
      },
      "source": [
        "gan_trainer.summary()"
      ],
      "execution_count": 18,
      "outputs": [
        {
          "output_type": "stream",
          "text": [
            "Model: \"functional_9\"\n",
            "__________________________________________________________________________________________________\n",
            "Layer (type)                    Output Shape         Param #     Connected to                     \n",
            "==================================================================================================\n",
            "input (InputLayer)              [(None, 224, 224, 1) 0                                            \n",
            "__________________________________________________________________________________________________\n",
            "functional_3 (Functional)       (None, 224, 224, 1)  13427329    input[0][0]                      \n",
            "__________________________________________________________________________________________________\n",
            "adv_loss (AdvLoss)              ()                   0           input[0][0]                      \n",
            "                                                                 functional_3[0][0]               \n",
            "__________________________________________________________________________________________________\n",
            "cnt_loss (CntLoss)              ()                   0           input[0][0]                      \n",
            "                                                                 functional_3[0][0]               \n",
            "__________________________________________________________________________________________________\n",
            "enc_loss (EncLoss)              ()                   0           input[0][0]                      \n",
            "                                                                 functional_3[0][0]               \n",
            "==================================================================================================\n",
            "Total params: 13,427,329\n",
            "Trainable params: 13,426,689\n",
            "Non-trainable params: 640\n",
            "__________________________________________________________________________________________________\n"
          ],
          "name": "stdout"
        }
      ]
    },
    {
      "cell_type": "markdown",
      "metadata": {
        "colab_type": "text",
        "id": "pWWVBPizZctk"
      },
      "source": [
        "## discriminator"
      ]
    },
    {
      "cell_type": "code",
      "metadata": {
        "colab_type": "code",
        "id": "xcJdjTerZbMN",
        "colab": {
          "base_uri": "https://localhost:8080/",
          "height": 289
        },
        "outputId": "9a958d6d-eb4e-46e4-d75b-572afd4c0709"
      },
      "source": [
        "input_layer = layers.Input(name='input', shape=(height, width, channels))\n",
        "\n",
        "f = feature_extractor(input_layer)\n",
        "\n",
        "d = layers.GlobalAveragePooling2D(name='glb_avg')(f)\n",
        "d = layers.Dense(1, activation='sigmoid', name='d_out')(d)\n",
        "    \n",
        "d = keras.models.Model(input_layer, d)\n",
        "d.summary()"
      ],
      "execution_count": 19,
      "outputs": [
        {
          "output_type": "stream",
          "text": [
            "Model: \"functional_11\"\n",
            "_________________________________________________________________\n",
            "Layer (type)                 Output Shape              Param #   \n",
            "=================================================================\n",
            "input (InputLayer)           [(None, 224, 224, 1)]     0         \n",
            "_________________________________________________________________\n",
            "functional_7 (Functional)    (None, 28, 28, 128)       242048    \n",
            "_________________________________________________________________\n",
            "glb_avg (GlobalAveragePoolin (None, 128)               0         \n",
            "_________________________________________________________________\n",
            "d_out (Dense)                (None, 1)                 129       \n",
            "=================================================================\n",
            "Total params: 242,177\n",
            "Trainable params: 241,537\n",
            "Non-trainable params: 640\n",
            "_________________________________________________________________\n"
          ],
          "name": "stdout"
        }
      ]
    },
    {
      "cell_type": "code",
      "metadata": {
        "colab_type": "code",
        "id": "W6d91GYncIGT",
        "colab": {}
      },
      "source": [
        "d.compile(optimizer='adam', loss='binary_crossentropy')"
      ],
      "execution_count": 20,
      "outputs": []
    },
    {
      "cell_type": "code",
      "metadata": {
        "id": "r6Tc4M_KgHYB",
        "colab_type": "code",
        "colab": {}
      },
      "source": [
        ""
      ],
      "execution_count": 20,
      "outputs": []
    },
    {
      "cell_type": "code",
      "metadata": {
        "id": "-6Wif43IgHYE",
        "colab_type": "code",
        "colab": {}
      },
      "source": [
        "def reshape_x(x):\n",
        "    new_x = np.empty((len(x), width, height))\n",
        "    for i, e in enumerate(x):\n",
        "        new_x[i] = cv2.resize(e, (width, height))\n",
        "    return np.expand_dims(new_x, axis=-1) / 127 - 1\n"
      ],
      "execution_count": 21,
      "outputs": []
    },
    {
      "cell_type": "code",
      "metadata": {
        "id": "t3a64l7TgHYH",
        "colab_type": "code",
        "colab": {}
      },
      "source": [
        "import cv2\n",
        "import numpy as np"
      ],
      "execution_count": 22,
      "outputs": []
    },
    {
      "cell_type": "code",
      "metadata": {
        "id": "f9RUbQTzGGf9",
        "colab_type": "code",
        "colab": {}
      },
      "source": [
        ""
      ],
      "execution_count": 22,
      "outputs": []
    },
    {
      "cell_type": "code",
      "metadata": {
        "id": "APW_RPGYGGik",
        "colab_type": "code",
        "colab": {
          "base_uri": "https://localhost:8080/",
          "height": 34
        },
        "outputId": "e1563b43-49bb-4fea-b175-7fe0ee4d6e1b"
      },
      "source": [
        "ok.shape"
      ],
      "execution_count": 23,
      "outputs": [
        {
          "output_type": "execute_result",
          "data": {
            "text/plain": [
              "(7128, 300, 114, 1)"
            ]
          },
          "metadata": {
            "tags": []
          },
          "execution_count": 23
        }
      ]
    },
    {
      "cell_type": "code",
      "metadata": {
        "id": "nSxFEWCaGGdZ",
        "colab_type": "code",
        "colab": {
          "base_uri": "https://localhost:8080/",
          "height": 34
        },
        "outputId": "754b07be-62b6-4e8b-9334-c6c5d8b70fb0"
      },
      "source": [
        "ano.shape"
      ],
      "execution_count": 24,
      "outputs": [
        {
          "output_type": "execute_result",
          "data": {
            "text/plain": [
              "(28, 300, 114, 1)"
            ]
          },
          "metadata": {
            "tags": []
          },
          "execution_count": 24
        }
      ]
    },
    {
      "cell_type": "code",
      "metadata": {
        "id": "O6GPh1bbH81S",
        "colab_type": "code",
        "colab": {
          "base_uri": "https://localhost:8080/",
          "height": 34
        },
        "outputId": "77b82797-de9d-48bf-da44-4766136aabab"
      },
      "source": [
        "ok_test.shape"
      ],
      "execution_count": 25,
      "outputs": [
        {
          "output_type": "execute_result",
          "data": {
            "text/plain": [
              "(561, 300, 114, 1)"
            ]
          },
          "metadata": {
            "tags": []
          },
          "execution_count": 25
        }
      ]
    },
    {
      "cell_type": "code",
      "metadata": {
        "id": "S50fdydFgHYK",
        "colab_type": "code",
        "colab": {}
      },
      "source": [
        "x_ok=ok-np.mean(ok)"
      ],
      "execution_count": 26,
      "outputs": []
    },
    {
      "cell_type": "code",
      "metadata": {
        "id": "Ir4RybLogHYN",
        "colab_type": "code",
        "colab": {}
      },
      "source": [
        "x_test=ano-np.mean(ano)"
      ],
      "execution_count": 27,
      "outputs": []
    },
    {
      "cell_type": "code",
      "metadata": {
        "id": "OjWtHjKnIMTF",
        "colab_type": "code",
        "colab": {}
      },
      "source": [
        "ok_test=ok_test-np.mean(ok_test)"
      ],
      "execution_count": 28,
      "outputs": []
    },
    {
      "cell_type": "code",
      "metadata": {
        "id": "L-d8tOsAIMJz",
        "colab_type": "code",
        "colab": {}
      },
      "source": [
        ""
      ],
      "execution_count": 28,
      "outputs": []
    },
    {
      "cell_type": "code",
      "metadata": {
        "id": "xnqQ45CZgHYR",
        "colab_type": "code",
        "colab": {
          "base_uri": "https://localhost:8080/",
          "height": 34
        },
        "outputId": "17cc5afc-ae96-4115-96e6-5cd74bf876c0"
      },
      "source": [
        "x_test.shape"
      ],
      "execution_count": 29,
      "outputs": [
        {
          "output_type": "execute_result",
          "data": {
            "text/plain": [
              "(28, 300, 114, 1)"
            ]
          },
          "metadata": {
            "tags": []
          },
          "execution_count": 29
        }
      ]
    },
    {
      "cell_type": "code",
      "metadata": {
        "id": "iRdVLZlogHYa",
        "colab_type": "code",
        "colab": {}
      },
      "source": [
        " re_x_ok=reshape_x(x_ok)\n",
        " re_x_test=reshape_x(x_test)"
      ],
      "execution_count": 30,
      "outputs": []
    },
    {
      "cell_type": "code",
      "metadata": {
        "id": "Y4In9kbRIT6t",
        "colab_type": "code",
        "colab": {}
      },
      "source": [
        "re_ok_test=reshape_x(ok_test)"
      ],
      "execution_count": 31,
      "outputs": []
    },
    {
      "cell_type": "code",
      "metadata": {
        "id": "tPNW9WV8HKZv",
        "colab_type": "code",
        "colab": {
          "base_uri": "https://localhost:8080/",
          "height": 34
        },
        "outputId": "d215f124-1905-4220-b3ff-c5cd3dc1990f"
      },
      "source": [
        " re_x_test.shape"
      ],
      "execution_count": 32,
      "outputs": [
        {
          "output_type": "execute_result",
          "data": {
            "text/plain": [
              "(28, 224, 224, 1)"
            ]
          },
          "metadata": {
            "tags": []
          },
          "execution_count": 32
        }
      ]
    },
    {
      "cell_type": "markdown",
      "metadata": {
        "colab_type": "text",
        "id": "x6f6m8x7bDUX"
      },
      "source": [
        "# Load Data"
      ]
    },
    {
      "cell_type": "markdown",
      "metadata": {
        "colab_type": "text",
        "id": "dxPzCEC1bFMR"
      },
      "source": [
        "# Training"
      ]
    },
    {
      "cell_type": "code",
      "metadata": {
        "colab_type": "code",
        "id": "jDYFHg6Iboh4",
        "colab": {}
      },
      "source": [
        "niter = 2000\n",
        "bz = 32"
      ],
      "execution_count": 37,
      "outputs": []
    },
    {
      "cell_type": "code",
      "metadata": {
        "colab_type": "code",
        "id": "53rLCTe3a8LY",
        "colab": {}
      },
      "source": [
        "def get_data_generator(data, batch_size=32):\n",
        "    datalen = len(data)\n",
        "    cnt = 0\n",
        "    while True:\n",
        "        idxes = np.arange(datalen)\n",
        "        np.random.shuffle(idxes)\n",
        "        cnt += 1\n",
        "        for i in range(int(np.ceil(datalen/batch_size))):\n",
        "            train_x = np.take(data, idxes[i*batch_size: (i+1) * batch_size], axis=0)\n",
        "            y = np.ones(len(train_x))\n",
        "            yield train_x, [y, y, y]"
      ],
      "execution_count": 38,
      "outputs": []
    },
    {
      "cell_type": "code",
      "metadata": {
        "colab_type": "code",
        "id": "fHQxiAHia_5J",
        "colab": {}
      },
      "source": [
        "train_data_generator = get_data_generator(re_x_ok, bz)"
      ],
      "execution_count": 39,
      "outputs": []
    },
    {
      "cell_type": "code",
      "metadata": {
        "colab_type": "code",
        "id": "OKkjwML7bjqg",
        "colab": {
          "base_uri": "https://localhost:8080/",
          "height": 697
        },
        "outputId": "1aa7562c-4562-4e9b-9585-3bac548fc9c7"
      },
      "source": [
        "for i in range(niter):\n",
        "    ### get batch x, y ###\n",
        "    x, y = train_data_generator.__next__()\n",
        "    ### train disciminator ###\n",
        "    d.trainable = True\n",
        "    fake_x = g.predict(x)\n",
        "    d_x = np.concatenate([x, fake_x], axis=0)\n",
        "    d_y = np.concatenate([np.zeros(len(x)), np.ones(len(fake_x))], axis=0)\n",
        "    d_loss = d.train_on_batch(d_x, d_y)\n",
        "    ### train generator ###\n",
        "    d.trainable = False \n",
        "    g_loss = gan_trainer.train_on_batch(x, y)\n",
        "    #g_loss include adv cnt enc loss, and what is last one ?\n",
        "\n",
        "    if i % 50 == 0:\n",
        "        print(f'niter: {i+1}, g_loss: {g_loss}, d_loss: {d_loss}')"
      ],
      "execution_count": 40,
      "outputs": [
        {
          "output_type": "stream",
          "text": [
            "niter: 1, g_loss: [25.331661224365234, 0.005492018070071936, 1.006786584854126, 0.02747754380106926], d_loss: 3.8702642917633057\n",
            "niter: 51, g_loss: [2.407402515411377, 3.6985053156968206e-05, 0.022051716223359108, 0.0031000312883406878], d_loss: 1.4882144927978516\n",
            "niter: 101, g_loss: [1.338771939277649, 7.194998761406168e-05, 0.024600837379693985, 0.00016639243403915316], d_loss: 0.9391098618507385\n",
            "niter: 151, g_loss: [0.9661574363708496, 1.1881797036039643e-05, 0.02598590776324272, 0.0019787633791565895], d_loss: 0.6377711296081543\n",
            "niter: 201, g_loss: [0.7332077622413635, 0.004943707957863808, 0.022223815321922302, 0.004886197857558727], d_loss: 0.5675918459892273\n",
            "niter: 251, g_loss: [0.6961334347724915, 0.007200116291642189, 0.023385699838399887, 0.005647266749292612], d_loss: 0.48900336027145386\n",
            "niter: 301, g_loss: [0.6480772495269775, 0.0036468522157520056, 0.022912170737981796, 0.00412960909307003], d_loss: 0.34651854634284973\n",
            "niter: 351, g_loss: [0.5915796160697937, 0.003222609870135784, 0.021480083465576172, 0.010696085169911385], d_loss: 0.25863024592399597\n",
            "niter: 401, g_loss: [0.5432043671607971, 0.0168546624481678, 0.019333241507411003, 0.009453808888792992], d_loss: 0.4531381130218506\n",
            "niter: 451, g_loss: [1.1186529397964478, 0.4619615972042084, 0.024733707308769226, 0.0017029036534950137], d_loss: 0.5779778957366943\n",
            "niter: 501, g_loss: [0.8147572875022888, 0.18391889333724976, 0.022548165172338486, 0.023258548229932785], d_loss: 0.29180312156677246\n",
            "niter: 551, g_loss: [1.754287600517273, 1.2272645235061646, 0.020573249086737633, 0.0025267270393669605], d_loss: 1.7993905544281006\n",
            "niter: 601, g_loss: [0.5483590364456177, 0.06779520958662033, 0.01878463849425316, 0.008681772276759148], d_loss: 0.4421708583831787\n",
            "niter: 651, g_loss: [1.0829483270645142, 0.5383029580116272, 0.022162530571222305, 0.004385452251881361], d_loss: 0.9692670702934265\n",
            "niter: 701, g_loss: [0.6475567817687988, 0.11557124555110931, 0.021533459424972534, 0.0072214980609714985], d_loss: 0.3303402066230774\n",
            "niter: 751, g_loss: [0.6243365406990051, 0.057276807725429535, 0.02359658107161522, 0.0020874703768640757], d_loss: 0.2707679867744446\n",
            "niter: 801, g_loss: [0.5595336556434631, 0.009857796132564545, 0.02070975862443447, 0.0054845307022333145], d_loss: 0.13580992817878723\n",
            "niter: 851, g_loss: [0.4640743136405945, 0.00188320386223495, 0.017854200676083565, 0.010220375843346119], d_loss: 0.10561111569404602\n",
            "niter: 901, g_loss: [1.4955183267593384, 0.889225423336029, 0.024231435731053352, 0.002208683406934142], d_loss: 0.3077631890773773\n",
            "niter: 951, g_loss: [9.555913925170898, 8.85816478729248, 0.024855218827724457, 0.0040642572566866875], d_loss: 1.3260657787322998\n",
            "niter: 1001, g_loss: [1.4846047163009644, 0.3348183035850525, 0.02301039732992649, 0.0009664750541560352], d_loss: 0.2803086042404175\n",
            "niter: 1051, g_loss: [1.0684497356414795, 0.10664501786231995, 0.024044349789619446, 0.00023533508647233248], d_loss: 0.155788853764534\n",
            "niter: 1101, g_loss: [0.8690405488014221, 0.010244793258607388, 0.024313466623425484, 0.00010739456774899736], d_loss: 0.10724185407161713\n",
            "niter: 1151, g_loss: [0.7957038283348083, 0.010953637771308422, 0.024265140295028687, 6.30712165730074e-05], d_loss: 0.07755175232887268\n",
            "niter: 1201, g_loss: [0.742411732673645, 0.001227012136951089, 0.024776799604296684, 3.605471647460945e-05], d_loss: 0.06504452228546143\n",
            "niter: 1251, g_loss: [0.7020403146743774, 0.00020702301117125899, 0.024869568645954132, 2.708010288188234e-05], d_loss: 0.0472392775118351\n",
            "niter: 1301, g_loss: [0.7260735034942627, 0.049231741577386856, 0.025236492976546288, 2.1295176338753663e-05], d_loss: 0.07372202724218369\n",
            "niter: 1351, g_loss: [0.6312636137008667, 0.0021158962044864893, 0.024140896275639534, 1.8838814867194742e-05], d_loss: 0.048072874546051025\n",
            "niter: 1401, g_loss: [0.612017035484314, 0.012847144156694412, 0.023683350533246994, 1.9287243048893288e-05], d_loss: 0.03640272095799446\n",
            "niter: 1451, g_loss: [0.5922040343284607, 0.006041552405804396, 0.02388155646622181, 3.5785065847449005e-05], d_loss: 0.028041677549481392\n",
            "niter: 1501, g_loss: [0.586380124092102, 0.011221618391573429, 0.02400304190814495, 0.00043016442214138806], d_loss: 0.024698080494999886\n",
            "niter: 1551, g_loss: [0.5695690512657166, 0.005756900645792484, 0.023935750126838684, 0.0010930143762379885], d_loss: 0.02055155485868454\n",
            "niter: 1601, g_loss: [7.3975114822387695, 6.847983360290527, 0.02358919195830822, 0.001983881229534745], d_loss: 0.08240127563476562\n",
            "niter: 1651, g_loss: [0.6777706742286682, 0.1358395665884018, 0.023223064839839935, 0.00834283884614706], d_loss: 0.0684816837310791\n",
            "niter: 1701, g_loss: [0.673062801361084, 0.12400494515895844, 0.023973964154720306, 0.002121939789503813], d_loss: 0.036642998456954956\n",
            "niter: 1751, g_loss: [19.617149353027344, 18.518491744995117, 0.026753172278404236, 0.001812571077607572], d_loss: 0.47078782320022583\n",
            "niter: 1801, g_loss: [1.8581434488296509, 1.1225783824920654, 0.02487996406853199, 0.0021516787819564342], d_loss: 0.25075817108154297\n",
            "niter: 1851, g_loss: [0.6584007740020752, 0.03195301443338394, 0.02379491552710533, 0.002381011610850692], d_loss: 0.15430283546447754\n",
            "niter: 1901, g_loss: [0.5987392663955688, 0.013648075982928276, 0.023396914824843407, 0.00539738591760397], d_loss: 0.09351243078708649\n",
            "niter: 1951, g_loss: [0.591921865940094, 0.0015385777223855257, 0.024515854194760323, 0.006511630490422249], d_loss: 0.12179435789585114\n"
          ],
          "name": "stdout"
        }
      ]
    },
    {
      "cell_type": "markdown",
      "metadata": {
        "colab_type": "text",
        "id": "0cHDcccacdST"
      },
      "source": [
        "# Evaluation"
      ]
    },
    {
      "cell_type": "code",
      "metadata": {
        "id": "m1fSH_LgI0q3",
        "colab_type": "code",
        "colab": {
          "base_uri": "https://localhost:8080/",
          "height": 34
        },
        "outputId": "9b0799a4-7b69-4c6c-e434-c7e11bff6039"
      },
      "source": [
        "re_x_test.shape"
      ],
      "execution_count": 33,
      "outputs": [
        {
          "output_type": "execute_result",
          "data": {
            "text/plain": [
              "(28, 224, 224, 1)"
            ]
          },
          "metadata": {
            "tags": []
          },
          "execution_count": 33
        }
      ]
    },
    {
      "cell_type": "code",
      "metadata": {
        "id": "T7c1PseaO4ir",
        "colab_type": "code",
        "colab": {
          "base_uri": "https://localhost:8080/",
          "height": 34
        },
        "outputId": "4b55b651-1e93-4cd5-fca6-525848f778e9"
      },
      "source": [
        "re_ok_test.shape"
      ],
      "execution_count": 34,
      "outputs": [
        {
          "output_type": "execute_result",
          "data": {
            "text/plain": [
              "(561, 224, 224, 1)"
            ]
          },
          "metadata": {
            "tags": []
          },
          "execution_count": 34
        }
      ]
    },
    {
      "cell_type": "code",
      "metadata": {
        "id": "JHm0CMLYI1Fx",
        "colab_type": "code",
        "colab": {}
      },
      "source": [
        "\n",
        "cat_test=np.concatenate((re_x_test,re_ok_test), axis = 0) \n",
        "\n",
        "#cat_test =np.concatenate(re_x_test,re_ok_test,0)"
      ],
      "execution_count": 35,
      "outputs": []
    },
    {
      "cell_type": "code",
      "metadata": {
        "id": "eGrbMuX9JEJU",
        "colab_type": "code",
        "colab": {}
      },
      "source": [
        "y_test = np.array([1, 0])\n",
        "y_test=np.repeat(y_test, [re_x_test.shape[0], re_ok_test.shape[0]], axis=0)"
      ],
      "execution_count": 65,
      "outputs": []
    },
    {
      "cell_type": "code",
      "metadata": {
        "colab_type": "code",
        "id": "UXAufnuIbuvF",
        "colab": {}
      },
      "source": [
        "encoded = g_e.predict(cat_test)\n",
        "gan_x = g.predict(cat_test)\n",
        "encoded_gan = g_e.predict(gan_x)\n",
        "score = np.sum(np.absolute(encoded - encoded_gan), axis=-1)\n",
        "score = (score - np.min(score)) / (np.max(score) - np.min(score)) # map to 0~1"
      ],
      "execution_count": 41,
      "outputs": []
    },
    {
      "cell_type": "code",
      "metadata": {
        "id": "wKfvgl-Zg6-G",
        "colab_type": "code",
        "colab": {
          "base_uri": "https://localhost:8080/",
          "height": 34
        },
        "outputId": "d1291a8c-1654-44cf-a2c9-535fd3b7fb6b"
      },
      "source": [
        "cat_test.shape"
      ],
      "execution_count": 44,
      "outputs": [
        {
          "output_type": "execute_result",
          "data": {
            "text/plain": [
              "(589, 224, 224, 1)"
            ]
          },
          "metadata": {
            "tags": []
          },
          "execution_count": 44
        }
      ]
    },
    {
      "cell_type": "code",
      "metadata": {
        "id": "fUIWZyqThCc7",
        "colab_type": "code",
        "colab": {
          "base_uri": "https://localhost:8080/",
          "height": 34
        },
        "outputId": "40647722-b166-4d2c-d504-6e6a86549b8e"
      },
      "source": [
        ""
      ],
      "execution_count": 45,
      "outputs": [
        {
          "output_type": "execute_result",
          "data": {
            "text/plain": [
              "28"
            ]
          },
          "metadata": {
            "tags": []
          },
          "execution_count": 45
        }
      ]
    },
    {
      "cell_type": "code",
      "metadata": {
        "id": "7aQnNnqvg2P3",
        "colab_type": "code",
        "colab": {}
      },
      "source": [
        ""
      ],
      "execution_count": 47,
      "outputs": []
    },
    {
      "cell_type": "code",
      "metadata": {
        "id": "0khKf_F6IjHR",
        "colab_type": "code",
        "colab": {}
      },
      "source": [
        ""
      ],
      "execution_count": null,
      "outputs": []
    },
    {
      "cell_type": "code",
      "metadata": {
        "colab_type": "code",
        "id": "-k8DiAAZdeZS",
        "colab": {
          "base_uri": "https://localhost:8080/",
          "height": 337
        },
        "outputId": "7ef4179a-428b-4991-9c79-0c376fcd54bd"
      },
      "source": [
        "from matplotlib import pyplot as plt\n",
        "from pylab import rcParams\n",
        "rcParams['figure.figsize'] = 14, 5\n",
        "plt.scatter(range(cat_test.shape[0]), score, c=['skyblue' if x == 1 else 'pink' for x in y_test])"
      ],
      "execution_count": 66,
      "outputs": [
        {
          "output_type": "execute_result",
          "data": {
            "text/plain": [
              "<matplotlib.collections.PathCollection at 0x7ff088426358>"
            ]
          },
          "metadata": {
            "tags": []
          },
          "execution_count": 66
        },
        {
          "output_type": "display_data",
          "data": {
            "image/png": "[encoded data removed]",
            "text/plain": [
              "<Figure size 1008x360 with 1 Axes>"
            ]
          },
          "metadata": {
            "tags": [],
            "needs_background": "light"
          }
        }
      ]
    },
    {
      "cell_type": "code",
      "metadata": {
        "id": "KeFSm9GfigKA",
        "colab_type": "code",
        "colab": {}
      },
      "source": [
        ""
      ],
      "execution_count": 66,
      "outputs": []
    },
    {
      "cell_type": "code",
      "metadata": {
        "id": "Cr_W0R7fJrrC",
        "colab_type": "code",
        "colab": {
          "base_uri": "https://localhost:8080/",
          "height": 337
        },
        "outputId": "d6099c6e-5374-46c8-b3c3-3c24c6ae6094"
      },
      "source": [
        "from matplotlib import pyplot as plt\n",
        "from pylab import rcParams\n",
        "rcParams['figure.figsize'] = 14, 5\n",
        "plt.scatter(range(60), score[0:60], c=['skyblue' if x == 1 else 'pink' for x in y_test[0:60]])"
      ],
      "execution_count": 67,
      "outputs": [
        {
          "output_type": "execute_result",
          "data": {
            "text/plain": [
              "<matplotlib.collections.PathCollection at 0x7ff088374550>"
            ]
          },
          "metadata": {
            "tags": []
          },
          "execution_count": 67
        },
        {
          "output_type": "display_data",
          "data": {
            "image/png": "[encoded data removed]",
            "text/plain": [
              "<Figure size 1008x360 with 1 Axes>"
            ]
          },
          "metadata": {
            "tags": [],
            "needs_background": "light"
          }
        }
      ]
    },
    {
      "cell_type": "code",
      "metadata": {
        "id": "iJB8f9rbCkth",
        "colab_type": "code",
        "colab": {
          "base_uri": "https://localhost:8080/",
          "height": 286
        },
        "outputId": "4a4756fb-a1fe-449c-9182-661660a076fc"
      },
      "source": [
        "o=0\n",
        "plt.imshow(np.squeeze(ano[o]))\n",
        "score[o]"
      ],
      "execution_count": 84,
      "outputs": [
        {
          "output_type": "execute_result",
          "data": {
            "text/plain": [
              "0.994474"
            ]
          },
          "metadata": {
            "tags": []
          },
          "execution_count": 84
        },
        {
          "output_type": "display_data",
          "data": {
            "image/png": "[encoded data removed]",
            "text/plain": [
              "<Figure size 432x288 with 1 Axes>"
            ]
          },
          "metadata": {
            "tags": [],
            "needs_background": "light"
          }
        }
      ]
    },
    {
      "cell_type": "code",
      "metadata": {
        "colab_type": "code",
        "id": "jnGVWtjjdtFt",
        "colab": {
          "base_uri": "https://localhost:8080/",
          "height": 1000
        },
        "outputId": "7be1f1ba-d31a-4fa4-af3e-9fc6f1613de0"
      },
      "source": [
        "niter = 9000\n",
        "bz = 32\n",
        "\n",
        "for i in range(niter):\n",
        "    ### get batch x, y ###\n",
        "    x, y = train_data_generator.__next__()\n",
        "    ### train disciminator ###\n",
        "    d.trainable = True\n",
        "    fake_x = g.predict(x)\n",
        "    d_x = np.concatenate([x, fake_x], axis=0)\n",
        "    d_y = np.concatenate([np.zeros(len(x)), np.ones(len(fake_x))], axis=0)\n",
        "    d_loss = d.train_on_batch(d_x, d_y)\n",
        "    ### train generator ###\n",
        "    d.trainable = False \n",
        "    g_loss = gan_trainer.train_on_batch(x, y)\n",
        "    #g_loss include adv cnt enc loss, and what is last one ?\n",
        "\n",
        "    if i % 50 == 0:\n",
        "        print(f'niter: {i+1}, g_loss: {g_loss}, d_loss: {d_loss}')\n"
      ],
      "execution_count": 68,
      "outputs": [
        {
          "output_type": "stream",
          "text": [
            "niter: 1, g_loss: [0.5386757254600525, 0.033427298069000244, 0.020485972985625267, 0.005052982829511166], d_loss: 0.9508447647094727\n",
            "niter: 51, g_loss: [0.5774996876716614, 0.07288149744272232, 0.021182147786021233, 0.004650312475860119], d_loss: 0.34400153160095215\n",
            "niter: 101, g_loss: [0.5630175471305847, 0.017012150958180428, 0.023816170170903206, 0.0025601584929972887], d_loss: 0.17887014150619507\n",
            "niter: 151, g_loss: [0.5080448389053345, 0.001581963850185275, 0.02184787020087242, 0.005616161972284317], d_loss: 0.8389103412628174\n",
            "niter: 201, g_loss: [0.5958223938941956, 0.005018576048314571, 0.026037460193037987, 0.008773170411586761], d_loss: 0.20858193933963776\n",
            "niter: 251, g_loss: [0.4772934913635254, 0.005303056910634041, 0.02058734931051731, 0.004717960488051176], d_loss: 0.21695050597190857\n",
            "niter: 301, g_loss: [0.4998587667942047, 0.0022313501685857773, 0.021620050072669983, 0.009008531458675861], d_loss: 0.9885870814323425\n",
            "niter: 351, g_loss: [0.5443614721298218, 0.029131658375263214, 0.022760160267353058, 0.004669458605349064], d_loss: 0.19089865684509277\n",
            "niter: 401, g_loss: [0.5202816724777222, 0.0013105740072205663, 0.022588219493627548, 0.005989989265799522], d_loss: 0.1198609247803688\n",
            "niter: 451, g_loss: [0.8020764589309692, 0.3381336033344269, 0.020018424838781357, 0.007392309606075287], d_loss: 0.6386975646018982\n",
            "niter: 501, g_loss: [0.4944467544555664, 0.013934607617557049, 0.02070806547999382, 0.008718135766685009], d_loss: 0.3143780827522278\n",
            "niter: 551, g_loss: [0.4733438789844513, 0.011785359121859074, 0.020220158621668816, 0.008818775415420532], d_loss: 0.18991154432296753\n",
            "niter: 601, g_loss: [0.48278099298477173, 0.033620528876781464, 0.019629694521427155, 0.004459449090063572], d_loss: 0.36754080653190613\n",
            "niter: 651, g_loss: [0.48366060853004456, 0.02947855554521084, 0.01977437548339367, 0.00867635477334261], d_loss: 0.10964393615722656\n",
            "niter: 701, g_loss: [0.6742027401924133, 0.21629859507083893, 0.020019445568323135, 0.0038368641398847103], d_loss: 0.437447190284729\n",
            "niter: 751, g_loss: [0.5085001587867737, 0.06136627122759819, 0.019430825486779213, 0.010236095637083054], d_loss: 0.18879786133766174\n",
            "niter: 801, g_loss: [0.4998057782649994, 0.02827172353863716, 0.01998739503324032, 0.010851612314581871], d_loss: 0.1714911162853241\n",
            "niter: 851, g_loss: [0.4795379936695099, 0.03112087957561016, 0.01965455152094364, 0.006334629375487566], d_loss: 0.7145755290985107\n",
            "niter: 901, g_loss: [0.4520007371902466, 0.007102431729435921, 0.01922886073589325, 0.009612983092665672], d_loss: 0.20895139873027802\n",
            "niter: 951, g_loss: [0.4674682319164276, 0.006572911981493235, 0.02020118199288845, 0.0083802230656147], d_loss: 0.10650433599948883\n",
            "niter: 1001, g_loss: [0.47288936376571655, 0.0004706499457824975, 0.02106325887143612, 0.006188805215060711], d_loss: 0.0553920641541481\n",
            "niter: 1051, g_loss: [0.5521926879882812, 0.0014007940189912915, 0.02456098608672619, 0.015640785917639732], d_loss: 0.4974663257598877\n",
            "niter: 1101, g_loss: [0.5931999683380127, 0.00447041867300868, 0.026309611275792122, 0.01858988031744957], d_loss: 0.4197085499763489\n",
            "niter: 1151, g_loss: [0.4523381292819977, 0.00841832160949707, 0.019579175859689713, 0.007343819364905357], d_loss: 0.09095542132854462\n",
            "niter: 1201, g_loss: [0.5293219685554504, 0.02797616459429264, 0.020002981647849083, 0.007669894956052303], d_loss: 0.2799313962459564\n",
            "niter: 1251, g_loss: [0.7792020440101624, 0.32754555344581604, 0.019316434860229492, 0.0075166295282542706], d_loss: 0.963023841381073\n",
            "niter: 1301, g_loss: [0.4524632394313812, 0.0024315975606441498, 0.019765792414546013, 0.0051779355853796005], d_loss: 0.19043587148189545\n",
            "niter: 1351, g_loss: [0.500750720500946, 0.0008153642411343753, 0.02204640582203865, 0.013695795089006424], d_loss: 0.5190781950950623\n",
            "niter: 1401, g_loss: [0.42738431692123413, 0.0002091178175760433, 0.01784883625805378, 0.008641512133181095], d_loss: 0.38693928718566895\n",
            "niter: 1451, g_loss: [0.44789329171180725, 0.013016214594244957, 0.01896577700972557, 0.0119505375623703], d_loss: 0.1699945628643036\n",
            "niter: 1501, g_loss: [0.43379709124565125, 0.010685857385396957, 0.01875203289091587, 0.006651362404227257], d_loss: 0.15793369710445404\n",
            "niter: 1551, g_loss: [0.416422039270401, 0.0020834843162447214, 0.018211694434285164, 0.009429427795112133], d_loss: 0.08672463148832321\n",
            "niter: 1601, g_loss: [0.44278034567832947, 0.013279146514832973, 0.01877249963581562, 0.006348524242639542], d_loss: 0.0797891691327095\n",
            "niter: 1651, g_loss: [0.39471864700317383, 0.00011212268145754933, 0.017481518909335136, 0.004898738581687212], d_loss: 0.050780683755874634\n",
            "niter: 1701, g_loss: [0.40024155378341675, 0.0021459516137838364, 0.017494013532996178, 0.005725863389670849], d_loss: 0.723335862159729\n",
            "niter: 1751, g_loss: [0.4395808279514313, 0.0002834229089785367, 0.019499478861689568, 0.007318485528230667], d_loss: 0.34167948365211487\n",
            "niter: 1801, g_loss: [0.525479257106781, 0.005344519857317209, 0.02372133545577526, 0.006163181737065315], d_loss: 0.44016122817993164\n",
            "niter: 1851, g_loss: [0.44454115629196167, 0.019111385568976402, 0.018930671736598015, 0.006424304563552141], d_loss: 0.5216832756996155\n",
            "niter: 1901, g_loss: [0.484226793050766, 0.0173190850764513, 0.020454494282603264, 0.007204409223049879], d_loss: 0.08475367724895477\n",
            "niter: 1951, g_loss: [0.5612400770187378, 0.06242530047893524, 0.02216525934636593, 0.01140202023088932], d_loss: 0.20022869110107422\n",
            "niter: 2001, g_loss: [0.5185761451721191, 0.08284638077020645, 0.019451366737484932, 0.00691163819283247], d_loss: 0.18219488859176636\n",
            "niter: 2051, g_loss: [0.46400073170661926, 0.0030880651902407408, 0.01978071965277195, 0.008348682895302773], d_loss: 0.479684978723526\n",
            "niter: 2101, g_loss: [0.5710818767547607, 0.0802457183599472, 0.021088959649205208, 0.01841828040778637], d_loss: 0.12026771157979965\n",
            "niter: 2151, g_loss: [0.4285597503185272, 0.0022073574364185333, 0.01891966536641121, 0.006634624674916267], d_loss: 0.057657692581415176\n",
            "niter: 2201, g_loss: [0.5386895537376404, 0.04419397935271263, 0.020187262445688248, 0.004496706649661064], d_loss: 0.6542272567749023\n",
            "niter: 2251, g_loss: [0.6068775653839111, 0.11750809848308563, 0.019803911447525024, 0.0043211085721850395], d_loss: 0.2562136650085449\n",
            "niter: 2301, g_loss: [0.43789568543434143, 0.013536397367715836, 0.018745698034763336, 0.006528844125568867], d_loss: 0.2593132257461548\n",
            "niter: 2351, g_loss: [0.46797290444374084, 0.021328052505850792, 0.019912181422114372, 0.00883758720010519], d_loss: 0.4874504506587982\n",
            "niter: 2401, g_loss: [0.44129952788352966, 0.001088352408260107, 0.01995532028377056, 0.005173802375793457], d_loss: 0.10150546580553055\n",
            "niter: 2451, g_loss: [0.40995919704437256, 0.00024105711781885475, 0.01824711449444294, 0.007726579438894987], d_loss: 0.09968982636928558\n",
            "niter: 2501, g_loss: [0.4656323194503784, 0.012212979607284069, 0.020436223596334457, 0.0033772694878280163], d_loss: 0.5143305063247681\n",
            "niter: 2551, g_loss: [0.42951494455337524, 0.00578687246888876, 0.01900189183652401, 0.005907867569476366], d_loss: 0.11323368549346924\n",
            "niter: 2601, g_loss: [0.4812469184398651, 0.03960534930229187, 0.019904103130102158, 0.005554140079766512], d_loss: 0.45872098207473755\n",
            "niter: 2651, g_loss: [0.49156618118286133, 0.05895209684967995, 0.019696000963449478, 0.00370783731341362], d_loss: 0.2714802324771881\n",
            "niter: 2701, g_loss: [0.5041704773902893, 0.052014369517564774, 0.020514074712991714, 0.005970621015876532], d_loss: 0.4275375008583069\n",
            "niter: 2751, g_loss: [0.4297718405723572, 0.0014080822002142668, 0.01906728185713291, 0.0070469263009727], d_loss: 0.7539522051811218\n",
            "niter: 2801, g_loss: [1.895573616027832, 1.410720944404602, 0.021925272420048714, 0.002999234013259411], d_loss: 1.0877691507339478\n",
            "niter: 2851, g_loss: [0.8064433336257935, 0.3032973110675812, 0.021556207910180092, 0.0055030332878232], d_loss: 0.6895598769187927\n",
            "niter: 2901, g_loss: [0.7131698131561279, 0.26736700534820557, 0.020116163417696953, 0.0035744733177125454], d_loss: 0.2571191191673279\n",
            "niter: 2951, g_loss: [1.1626756191253662, 0.6826015114784241, 0.0216416846960783, 0.0034165470860898495], d_loss: 0.25122109055519104\n",
            "niter: 3001, g_loss: [0.44107532501220703, 0.00826219655573368, 0.019355759024620056, 0.008573157712817192], d_loss: 0.6566223502159119\n",
            "niter: 3051, g_loss: [0.4030137062072754, 0.0014226182829588652, 0.017922254279255867, 0.005565689876675606], d_loss: 0.4393841326236725\n",
            "niter: 3101, g_loss: [0.3920624554157257, 0.0023755007423460484, 0.017196666449308395, 0.005077675450593233], d_loss: 0.5412687659263611\n",
            "niter: 3151, g_loss: [1.4509021043777466, 0.9806122779846191, 0.020948713645339012, 0.0028411864768713713], d_loss: 0.3548334836959839\n",
            "niter: 3201, g_loss: [0.9337390661239624, 0.044005509465932846, 0.02509184181690216, 0.002046403707936406], d_loss: 0.3092995584011078\n",
            "niter: 3251, g_loss: [0.6364200115203857, 0.061811357736587524, 0.01950935646891594, 0.017309948801994324], d_loss: 0.971100926399231\n",
            "niter: 3301, g_loss: [0.45567384362220764, 0.0006263417308218777, 0.01927652396261692, 0.0043874988332390785], d_loss: 0.1911526322364807\n",
            "niter: 3351, g_loss: [0.7876889705657959, 0.34343424439430237, 0.01946430839598179, 0.005436547100543976], d_loss: 0.20624765753746033\n",
            "niter: 3401, g_loss: [0.46792495250701904, 0.0107682254165411, 0.020103614777326584, 0.008336370810866356], d_loss: 0.3868456780910492\n",
            "niter: 3451, g_loss: [0.43046435713768005, 0.0007060744101181626, 0.019293107092380524, 0.0046537574380636215], d_loss: 0.06387926638126373\n",
            "niter: 3501, g_loss: [0.4595120847225189, 0.00037024018820375204, 0.020452560856938362, 0.012221156619489193], d_loss: 1.096835970878601\n",
            "niter: 3551, g_loss: [0.4433920085430145, 0.004687207285314798, 0.019449852406978607, 0.010743711143732071], d_loss: 0.7269698977470398\n",
            "niter: 3601, g_loss: [0.45308369398117065, 0.0046443999744951725, 0.02018779329955578, 0.005385225638747215], d_loss: 0.7357378005981445\n",
            "niter: 3651, g_loss: [0.491446316242218, 0.015418510884046555, 0.021347306668758392, 0.006426252890378237], d_loss: 0.5366268754005432\n",
            "niter: 3701, g_loss: [1.047734260559082, 0.5907816886901855, 0.020844385027885437, 0.0027952250093221664], d_loss: 0.28565698862075806\n",
            "niter: 3751, g_loss: [0.46658095717430115, 0.006547331344336271, 0.020858170464634895, 0.006566648371517658], d_loss: 0.6012903451919556\n",
            "niter: 3801, g_loss: [0.4235488474369049, 0.0035831553395837545, 0.018940510228276253, 0.0030723796226084232], d_loss: 0.13007374107837677\n",
            "niter: 3851, g_loss: [0.5017887949943542, 0.09034386277198792, 0.018381493166089058, 0.007600044831633568], d_loss: 0.17568686604499817\n",
            "niter: 3901, g_loss: [0.5148965716362, 0.11681678146123886, 0.017765359953045845, 0.003812814597040415], d_loss: 0.11510595679283142\n",
            "niter: 3951, g_loss: [0.4253292381763458, 0.016129566356539726, 0.018536122515797615, 0.00515876617282629], d_loss: 0.3943163752555847\n",
            "niter: 4001, g_loss: [0.43707481026649475, 0.0020986960735172033, 0.019773676991462708, 0.006337759550660849], d_loss: 0.3897828459739685\n",
            "niter: 4051, g_loss: [0.4563283920288086, 0.018711315467953682, 0.0191473588347435, 0.0061873444356024265], d_loss: 0.6523526310920715\n",
            "niter: 4101, g_loss: [0.5224447250366211, 0.10171420127153397, 0.01841014437377453, 0.008571263402700424], d_loss: 0.3634887933731079\n",
            "niter: 4151, g_loss: [0.49258241057395935, 0.06236770749092102, 0.01921449601650238, 0.008475841954350471], d_loss: 0.1728767305612564\n",
            "niter: 4201, g_loss: [0.8022899031639099, 0.3274282217025757, 0.02163480967283249, 0.003791830036789179], d_loss: 0.4276842176914215\n",
            "niter: 4251, g_loss: [0.46124812960624695, 0.016848618164658546, 0.02029937319457531, 0.006688430905342102], d_loss: 0.4032600522041321\n",
            "niter: 4301, g_loss: [0.4432750940322876, 0.014739719219505787, 0.019427968189120293, 0.005215030629187822], d_loss: 0.42872387170791626\n",
            "niter: 4351, g_loss: [0.4066866338253021, 0.013620435260236263, 0.01775514893233776, 0.004980725701898336], d_loss: 0.3652595579624176\n",
            "niter: 4401, g_loss: [0.5153247117996216, 0.09707707911729813, 0.01910524256527424, 0.002958376193419099], d_loss: 0.2268075793981552\n",
            "niter: 4451, g_loss: [1.7661458253860474, 1.0688729286193848, 0.025155305862426758, 0.000778854126110673], d_loss: 0.2819867730140686\n",
            "niter: 4501, g_loss: [0.89935302734375, 0.2899980843067169, 0.025665966793894768, 0.00029030771111138165], d_loss: 0.13629268109798431\n",
            "niter: 4551, g_loss: [0.6205283403396606, 0.061514727771282196, 0.02444947510957718, 0.00010960433428408578], d_loss: 0.07886840403079987\n",
            "niter: 4601, g_loss: [0.5643497109413147, 0.0003714305639732629, 0.025407632812857628, 0.0003803118015639484], d_loss: 0.05400196462869644\n",
            "niter: 4651, g_loss: [3.698683023452759, 3.128147602081299, 0.025315219536423683, 0.002537667751312256], d_loss: 0.3959386944770813\n",
            "niter: 4701, g_loss: [0.710930347442627, 0.2334938794374466, 0.021391240879893303, 0.005861608311533928], d_loss: 0.18915341794490814\n",
            "niter: 4751, g_loss: [0.5725150108337402, 0.07719908654689789, 0.022511878982186317, 0.005936009343713522], d_loss: 0.09609516710042953\n",
            "niter: 4801, g_loss: [0.47091755270957947, 0.041185732930898666, 0.019264597445726395, 0.007223078981041908], d_loss: 0.06845074146986008\n",
            "niter: 4851, g_loss: [1.252406120300293, 0.6978837847709656, 0.0234847255051136, 0.0035194531083106995], d_loss: 0.125955730676651\n",
            "niter: 4901, g_loss: [0.7932683825492859, 0.12662458419799805, 0.024206779897212982, 0.0009602887439541519], d_loss: 0.25323525071144104\n",
            "niter: 4951, g_loss: [0.5036363005638123, 0.0160195492208004, 0.021535402163863182, 0.0038906282279640436], d_loss: 0.11045834422111511\n",
            "niter: 5001, g_loss: [0.42104431986808777, 0.013969211839139462, 0.0180171187967062, 0.006522567942738533], d_loss: 0.0681096613407135\n",
            "niter: 5051, g_loss: [0.5103739500045776, 0.0664607584476471, 0.02025451511144638, 0.006256187334656715], d_loss: 0.36021241545677185\n",
            "niter: 5101, g_loss: [1.0070366859436035, 0.5161482095718384, 0.021376244723796844, 0.0052563343197107315], d_loss: 1.1593341827392578\n",
            "niter: 5151, g_loss: [1.7883217334747314, 1.3182239532470703, 0.021168343722820282, 0.003958912566304207], d_loss: 0.48747313022613525\n",
            "niter: 5201, g_loss: [0.8394356966018677, 0.37644702196121216, 0.02018149197101593, 0.008129327557981014], d_loss: 0.2762751579284668\n",
            "niter: 5251, g_loss: [0.5733374953269958, 0.13567544519901276, 0.019964952021837234, 0.004751511849462986], d_loss: 0.3634597659111023\n",
            "niter: 5301, g_loss: [0.6646680235862732, 0.22932566702365875, 0.019655898213386536, 0.0056673153303563595], d_loss: 0.28155338764190674\n",
            "niter: 5351, g_loss: [0.4521964192390442, 0.010990900918841362, 0.020170889794826508, 0.005647371523082256], d_loss: 0.6324055790901184\n",
            "niter: 5401, g_loss: [0.4664124548435211, 0.03423519432544708, 0.019730661064386368, 0.006667165085673332], d_loss: 0.7009047269821167\n",
            "niter: 5451, g_loss: [0.47192907333374023, 0.031011825427412987, 0.020272264257073402, 0.004526777658611536], d_loss: 0.29487842321395874\n",
            "niter: 5501, g_loss: [0.4337036609649658, 0.0005506351008079946, 0.01977062039077282, 0.005504772998392582], d_loss: 0.14921294152736664\n",
            "niter: 5551, g_loss: [0.44095176458358765, 0.0004758620052598417, 0.020328611135482788, 0.0038454169407486916], d_loss: 0.099433533847332\n",
            "niter: 5601, g_loss: [0.449150949716568, 0.0004575883795041591, 0.020527783781290054, 0.007724647410213947], d_loss: 0.0738515630364418\n",
            "niter: 5651, g_loss: [0.46279826760292053, 0.0009454202954657376, 0.021150851622223854, 0.007544205989688635], d_loss: 0.05848761647939682\n",
            "niter: 5701, g_loss: [0.35604020953178406, 0.0012792323250323534, 0.01582215167582035, 0.009671785868704319], d_loss: 0.04767712578177452\n",
            "niter: 5751, g_loss: [0.38360947370529175, 0.0018115718849003315, 0.017304878681898117, 0.007650256156921387], d_loss: 0.0400814563035965\n",
            "niter: 5801, g_loss: [0.41506513953208923, 0.001128063420765102, 0.019028231501579285, 0.005898587871342897], d_loss: 0.0344402901828289\n",
            "niter: 5851, g_loss: [1.5106943845748901, 1.00424063205719, 0.023055458441376686, 0.009770604781806469], d_loss: 0.06916037201881409\n",
            "niter: 5901, g_loss: [7.312875747680664, 2.403118133544922, 0.022501207888126373, 0.004614639561623335], d_loss: 1.7990390062332153\n",
            "niter: 5951, g_loss: [5.164834499359131, 0.03987618535757065, 0.023523444309830666, 0.004993507172912359], d_loss: 0.3447345793247223\n",
            "niter: 6001, g_loss: [4.900696754455566, 0.021469222381711006, 0.02382839471101761, 0.005041175056248903], d_loss: 0.2839260697364807\n",
            "niter: 6051, g_loss: [4.689249038696289, 0.009725414216518402, 0.024217206984758377, 0.00521933613345027], d_loss: 0.1706385314464569\n",
            "niter: 6101, g_loss: [4.508391857147217, 0.001783180283382535, 0.024346794933080673, 0.005219459533691406], d_loss: 0.12010051310062408\n",
            "niter: 6151, g_loss: [4.347174644470215, 0.0011351649882271886, 0.02392277494072914, 0.004998055752366781], d_loss: 0.09211885929107666\n",
            "niter: 6201, g_loss: [4.245475769042969, 0.0004925514804199338, 0.025536879897117615, 0.005328277125954628], d_loss: 0.07309330999851227\n",
            "niter: 6251, g_loss: [4.1220293045043945, 0.005395120475441217, 0.02508378028869629, 0.005250757560133934], d_loss: 0.06732725352048874\n",
            "niter: 6301, g_loss: [4.018472194671631, 0.011696521192789078, 0.024969233199954033, 0.005126046482473612], d_loss: 0.07367648184299469\n",
            "niter: 6351, g_loss: [3.915736675262451, 0.001066973665729165, 0.02524273283779621, 0.005223730579018593], d_loss: 0.05376023054122925\n",
            "niter: 6401, g_loss: [3.8185510635375977, 0.004572822246700525, 0.024688059464097023, 0.0050704581663012505], d_loss: 0.04405669867992401\n",
            "niter: 6451, g_loss: [3.7352285385131836, 0.017560111358761787, 0.02400229126214981, 0.004895754158496857], d_loss: 0.043770939111709595\n",
            "niter: 6501, g_loss: [3.6204769611358643, 0.0018707290291786194, 0.02287992462515831, 0.004651344381272793], d_loss: 0.034621693193912506\n",
            "niter: 6551, g_loss: [3.588594675064087, 0.0004874685255344957, 0.024890383705496788, 0.00503313634544611], d_loss: 0.03004767745733261\n",
            "niter: 6601, g_loss: [6.255220890045166, 2.7561352252960205, 0.023770449683070183, 0.004894355311989784], d_loss: 0.058934491127729416\n",
            "niter: 6651, g_loss: [3.9656693935394287, 0.09980983287096024, 0.02362484112381935, 0.014366409741342068], d_loss: 0.3704220652580261\n",
            "niter: 6701, g_loss: [3.963855743408203, 0.14402031898498535, 0.025560785084962845, 0.013407555408775806], d_loss: 0.30126953125\n",
            "niter: 6751, g_loss: [3.733107566833496, 0.026783380657434464, 0.024466849863529205, 0.011161541566252708], d_loss: 0.15330912172794342\n",
            "niter: 6801, g_loss: [3.619297981262207, 0.0028338474221527576, 0.02393939532339573, 0.009758556261658669], d_loss: 0.09372531622648239\n",
            "niter: 6851, g_loss: [3.5812721252441406, 0.0009355848887935281, 0.02558659017086029, 0.010288872756063938], d_loss: 0.06731098145246506\n",
            "niter: 6901, g_loss: [3.506887435913086, 0.018157538026571274, 0.024246644228696823, 0.009287654422223568], d_loss: 0.08835315704345703\n",
            "niter: 6951, g_loss: [3.4601807594299316, 0.0025762757286429405, 0.025634214282035828, 0.009714978747069836], d_loss: 0.04977073520421982\n",
            "niter: 7001, g_loss: [3.3681466579437256, 0.0005198242724873126, 0.02396119385957718, 0.008627353236079216], d_loss: 0.03603211045265198\n",
            "niter: 7051, g_loss: [5.948261737823486, 2.611370086669922, 0.025027861818671227, 0.008935238234698772], d_loss: 0.1964663863182068\n",
            "niter: 7101, g_loss: [3.473283290863037, 0.16709952056407928, 0.02596411108970642, 0.009862403385341167], d_loss: 0.17743834853172302\n",
            "niter: 7151, g_loss: [3.2245588302612305, 0.005105817224830389, 0.02406686171889305, 0.0074291955679655075], d_loss: 0.08638198673725128\n",
            "niter: 7201, g_loss: [3.203824996948242, 0.0016075378516688943, 0.025415485724806786, 0.00764391478151083], d_loss: 0.05286303907632828\n",
            "niter: 7251, g_loss: [3.1430060863494873, 0.0004448305699042976, 0.02458982542157173, 0.007286359556019306], d_loss: 0.037560127675533295\n",
            "niter: 7301, g_loss: [3.1049163341522217, 0.004987399093806744, 0.024518458172678947, 0.007162047084420919], d_loss: 0.0332924947142601\n",
            "niter: 7351, g_loss: [3.04068660736084, 0.0002351610455662012, 0.023539775982499123, 0.006715970113873482], d_loss: 0.024308031424880028\n",
            "niter: 7401, g_loss: [12.231611251831055, 9.172480583190918, 0.025928888469934464, 0.01062373910099268], d_loss: 0.1796722114086151\n",
            "niter: 7451, g_loss: [3.261542320251465, 0.2681092917919159, 0.024412067607045174, 0.010422952473163605], d_loss: 0.09521345049142838\n",
            "niter: 7501, g_loss: [3.144575357437134, 0.1911165714263916, 0.024420516565442085, 0.006749339401721954], d_loss: 0.06273186951875687\n",
            "niter: 7551, g_loss: [5.22144079208374, 2.2950446605682373, 0.024827951565384865, 0.006301074288785458], d_loss: 0.13152456283569336\n",
            "niter: 7601, g_loss: [2.917401075363159, 0.021801063790917397, 0.024967344477772713, 0.006463422905653715], d_loss: 0.08301243931055069\n",
            "niter: 7651, g_loss: [2.8489742279052734, 0.0031033328268676996, 0.02411876805126667, 0.0060335504822432995], d_loss: 0.04275088757276535\n",
            "niter: 7701, g_loss: [2.822551727294922, 0.007206083741039038, 0.024166684597730637, 0.005864231381565332], d_loss: 0.02831967920064926\n",
            "niter: 7751, g_loss: [2.794823408126831, 0.007285591214895248, 0.024300016462802887, 0.005711355246603489], d_loss: 0.022169413045048714\n",
            "niter: 7801, g_loss: [2.749112606048584, 0.0056683337315917015, 0.023574788123369217, 0.0055608442053198814], d_loss: 0.024900199845433235\n",
            "niter: 7851, g_loss: [2.7141451835632324, 0.0015117600560188293, 0.02347501367330551, 0.005332582164555788], d_loss: 0.018274961039423943\n",
            "niter: 7901, g_loss: [2.6926770210266113, 0.00271200411953032, 0.02372189611196518, 0.005511564202606678], d_loss: 0.013163121417164803\n",
            "niter: 7951, g_loss: [2.66611909866333, 0.000815724371932447, 0.02384033240377903, 0.005482234060764313], d_loss: 0.011376362293958664\n",
            "niter: 8001, g_loss: [10.62155818939209, 7.974701404571533, 0.02423139289021492, 0.005565380211919546], d_loss: 0.07175850868225098\n",
            "niter: 8051, g_loss: [3.5398120880126953, 0.9079099297523499, 0.024595187976956367, 0.006180500146001577], d_loss: 0.037913281470537186\n",
            "niter: 8101, g_loss: [2.937654495239258, 0.33575302362442017, 0.024369284510612488, 0.006412548013031483], d_loss: 0.021414179354906082\n",
            "niter: 8151, g_loss: [2.6227128505706787, 0.02840430662035942, 0.025261085480451584, 0.005807849578559399], d_loss: 0.015108274295926094\n",
            "niter: 8201, g_loss: [2.5566444396972656, 0.00019380734011065215, 0.024581100791692734, 0.0055858418345451355], d_loss: 0.010599706321954727\n",
            "niter: 8251, g_loss: [2.519977569580078, 0.0006882583256810904, 0.023896973580121994, 0.005462250672280788], d_loss: 0.00977490283548832\n",
            "niter: 8301, g_loss: [2.5083394050598145, 0.004017774015665054, 0.024289149791002274, 0.005392300896346569], d_loss: 0.008388415910303593\n",
            "niter: 8351, g_loss: [6.305201530456543, 3.7667479515075684, 0.026545604690909386, 0.013904285617172718], d_loss: 0.17312631011009216\n",
            "niter: 8401, g_loss: [5.873789310455322, 3.374844551086426, 0.024953803047537804, 0.0055449772626161575], d_loss: 0.2933793067932129\n",
            "niter: 8451, g_loss: [2.5577688217163086, 0.09263541549444199, 0.02468913421034813, 0.005569259636104107], d_loss: 0.12739631533622742\n",
            "niter: 8501, g_loss: [2.479949474334717, 0.025351407006382942, 0.02542240358889103, 0.005672413390129805], d_loss: 0.07882668077945709\n",
            "niter: 8551, g_loss: [2.4543683528900146, 0.040594566613435745, 0.024551639333367348, 0.005509200971573591], d_loss: 0.0492417998611927\n",
            "niter: 8601, g_loss: [2.437671422958374, 0.014931531623005867, 0.026084981858730316, 0.005709423217922449], d_loss: 0.042772796005010605\n",
            "niter: 8651, g_loss: [2.3506929874420166, 0.0017720350297167897, 0.023461103439331055, 0.005276411771774292], d_loss: 0.027908621355891228\n",
            "niter: 8701, g_loss: [2.363497257232666, 0.0018276965711265802, 0.02509722113609314, 0.005424343980848789], d_loss: 0.021940333768725395\n",
            "niter: 8751, g_loss: [3.9272427558898926, 1.5695703029632568, 0.025704557076096535, 0.008187200874090195], d_loss: 0.25562989711761475\n",
            "niter: 8801, g_loss: [2.4700424671173096, 0.13400709629058838, 0.02569027617573738, 0.00576405692845583], d_loss: 0.13334816694259644\n",
            "niter: 8851, g_loss: [2.29228138923645, 0.015011881478130817, 0.02370278909802437, 0.005277847871184349], d_loss: 0.08692339062690735\n",
            "niter: 8901, g_loss: [2.3066205978393555, 0.040751226246356964, 0.024040479212999344, 0.00515988701954484], d_loss: 0.07798179239034653\n",
            "niter: 8951, g_loss: [2.269937753677368, 0.010364842601120472, 0.024603484198451042, 0.005171339027583599], d_loss: 0.05398641154170036\n"
          ],
          "name": "stdout"
        }
      ]
    },
    {
      "cell_type": "code",
      "metadata": {
        "id": "g15kI_qpixan",
        "colab_type": "code",
        "colab": {
          "base_uri": "https://localhost:8080/",
          "height": 337
        },
        "outputId": "756804c9-486d-435b-a825-02ae6c450c6e"
      },
      "source": [
        "from matplotlib import pyplot as plt\n",
        "from pylab import rcParams\n",
        "rcParams['figure.figsize'] = 14, 5\n",
        "plt.scatter(range(cat_test.shape[0]), score, c=['skyblue' if x == 1 else 'pink' for x in y_test])"
      ],
      "execution_count": 70,
      "outputs": [
        {
          "output_type": "execute_result",
          "data": {
            "text/plain": [
              "<matplotlib.collections.PathCollection at 0x7ff0888e7d68>"
            ]
          },
          "metadata": {
            "tags": []
          },
          "execution_count": 70
        },
        {
          "output_type": "display_data",
          "data": {
            "image/png": "[encoded data removed]",
            "text/plain": [
              "<Figure size 1008x360 with 1 Axes>"
            ]
          },
          "metadata": {
            "tags": [],
            "needs_background": "light"
          }
        }
      ]
    },
    {
      "cell_type": "code",
      "metadata": {
        "id": "XdPuv52YippV",
        "colab_type": "code",
        "colab": {
          "base_uri": "https://localhost:8080/",
          "height": 337
        },
        "outputId": "d96466cc-7bc6-4232-e3a0-4be3e19c4ad7"
      },
      "source": [
        "from matplotlib import pyplot as plt\n",
        "from pylab import rcParams\n",
        "rcParams['figure.figsize'] = 14, 5\n",
        "plt.scatter(range(60), score[0:60], c=['skyblue' if x == 1 else 'pink' for x in y_test[0:60]])"
      ],
      "execution_count": 69,
      "outputs": [
        {
          "output_type": "execute_result",
          "data": {
            "text/plain": [
              "<matplotlib.collections.PathCollection at 0x7ff08a7d95c0>"
            ]
          },
          "metadata": {
            "tags": []
          },
          "execution_count": 69
        },
        {
          "output_type": "display_data",
          "data": {
            "image/png": "[encoded data removed]",
            "text/plain": [
              "<Figure size 1008x360 with 1 Axes>"
            ]
          },
          "metadata": {
            "tags": [],
            "needs_background": "light"
          }
        }
      ]
    },
    {
      "cell_type": "code",
      "metadata": {
        "id": "7RgGPxS9ips9",
        "colab_type": "code",
        "colab": {}
      },
      "source": [
        ""
      ],
      "execution_count": null,
      "outputs": []
    },
    {
      "cell_type": "code",
      "metadata": {
        "id": "mSs8eoHHipmO",
        "colab_type": "code",
        "colab": {}
      },
      "source": [
        ""
      ],
      "execution_count": null,
      "outputs": []
    },
    {
      "cell_type": "code",
      "metadata": {
        "id": "yTLi26vzizMQ",
        "colab_type": "code",
        "colab": {}
      },
      "source": [
        ""
      ],
      "execution_count": null,
      "outputs": []
    },
    {
      "cell_type": "code",
      "metadata": {
        "id": "1vP5j7VtizRH",
        "colab_type": "code",
        "colab": {}
      },
      "source": [
        ""
      ],
      "execution_count": null,
      "outputs": []
    },
    {
      "cell_type": "code",
      "metadata": {
        "id": "gYYrEFZrizIw",
        "colab_type": "code",
        "colab": {}
      },
      "source": [
        ""
      ],
      "execution_count": null,
      "outputs": []
    },
    {
      "cell_type": "code",
      "metadata": {
        "colab_type": "code",
        "id": "NZGNIltydtAw",
        "colab": {}
      },
      "source": [
        "niter = 10000\n",
        "bz = 32\n",
        "\n",
        "for i in range(niter):\n",
        "    ### get batch x, y ###\n",
        "    x, y = train_data_generator.__next__()\n",
        "    ### train disciminator ###\n",
        "    d.trainable = True\n",
        "    fake_x = g.predict(x)\n",
        "    d_x = np.concatenate([x, fake_x], axis=0)\n",
        "    d_y = np.concatenate([np.zeros(len(x)), np.ones(len(fake_x))], axis=0)\n",
        "    d_loss = d.train_on_batch(d_x, d_y)\n",
        "    ### train generator ###\n",
        "    d.trainable = False \n",
        "    g_loss = gan_trainer.train_on_batch(x, y)\n",
        "    #g_loss include adv cnt enc loss, and what is last one ?\n",
        "\n",
        "    if i % 50 == 0:\n",
        "        print(f'niter: {i+1}, g_loss: {g_loss}, d_loss: {d_loss}')\n",
        "\n",
        "encoded = g_e.predict(x_test)\n",
        "gan_x = g.predict(x_test)\n",
        "encoded_gan = g_e.predict(gan_x)\n",
        "score = np.sum(np.absolute(encoded - encoded_gan), axis=-1)\n",
        "score = (score - np.min(score)) / (np.max(score) - np.min(score)) # map to 0~1\n",
        "\n",
        "from matplotlib import pyplot as plt\n",
        "from pylab import rcParams\n",
        "rcParams['figure.figsize'] = 14, 5\n",
        "plt.scatter(range(len(x_test)), score, c=['skyblue' if x == 1 else 'pink' for x in y_test])\n",
        "\n",
        "#sum 20000"
      ],
      "execution_count": null,
      "outputs": []
    },
    {
      "cell_type": "code",
      "metadata": {
        "colab_type": "code",
        "id": "4tQ7UT26ds_O",
        "colab": {}
      },
      "source": [
        ""
      ],
      "execution_count": null,
      "outputs": []
    },
    {
      "cell_type": "code",
      "metadata": {
        "colab_type": "code",
        "id": "AO_QbKNwds72",
        "colab": {}
      },
      "source": [
        "niter = 80000\n",
        "bz = 32\n",
        "\n",
        "for i in range(niter):\n",
        "    ### get batch x, y ###\n",
        "    x, y = train_data_generator.__next__()\n",
        "    ### train disciminator ###\n",
        "    d.trainable = True\n",
        "    fake_x = g.predict(x)\n",
        "    d_x = np.concatenate([x, fake_x], axis=0)\n",
        "    d_y = np.concatenate([np.zeros(len(x)), np.ones(len(fake_x))], axis=0)\n",
        "    d_loss = d.train_on_batch(d_x, d_y)\n",
        "    ### train generator ###\n",
        "    d.trainable = False \n",
        "    g_loss = gan_trainer.train_on_batch(x, y)\n",
        "    #g_loss include adv cnt enc loss, and what is last one ?\n",
        "\n",
        "    if i % 50 == 0:\n",
        "        print(f'niter: {i+1}, g_loss: {g_loss}, d_loss: {d_loss}')\n",
        "\n",
        "encoded = g_e.predict(x_test)\n",
        "gan_x = g.predict(x_test)\n",
        "encoded_gan = g_e.predict(gan_x)\n",
        "score = np.sum(np.absolute(encoded - encoded_gan), axis=-1)\n",
        "score = (score - np.min(score)) / (np.max(score) - np.min(score)) # map to 0~1\n",
        "\n",
        "from matplotlib import pyplot as plt\n",
        "from pylab import rcParams\n",
        "rcParams['figure.figsize'] = 14, 5\n",
        "plt.scatter(range(len(x_test)), score, c=['skyblue' if x == 1 else 'pink' for x in y_test])\n",
        "\n",
        "#sum 100000"
      ],
      "execution_count": null,
      "outputs": []
    },
    {
      "cell_type": "code",
      "metadata": {
        "colab_type": "code",
        "id": "rnEXAj3wds5l",
        "colab": {}
      },
      "source": [
        ""
      ],
      "execution_count": null,
      "outputs": []
    },
    {
      "cell_type": "code",
      "metadata": {
        "colab_type": "code",
        "id": "H37xz2Svds3I",
        "colab": {}
      },
      "source": [
        "niter = 400000\n",
        "bz = 32\n",
        "\n",
        "for i in range(niter):\n",
        "    ### get batch x, y ###\n",
        "    x, y = train_data_generator.__next__()\n",
        "    ### train disciminator ###\n",
        "    d.trainable = True\n",
        "    fake_x = g.predict(x)\n",
        "    d_x = np.concatenate([x, fake_x], axis=0)\n",
        "    d_y = np.concatenate([np.zeros(len(x)), np.ones(len(fake_x))], axis=0)\n",
        "    d_loss = d.train_on_batch(d_x, d_y)\n",
        "    ### train generator ###\n",
        "    d.trainable = False \n",
        "    g_loss = gan_trainer.train_on_batch(x, y)\n",
        "    #g_loss include adv cnt enc loss, and what is last one ?\n",
        "\n",
        "    if i % 50 == 0:\n",
        "        print(f'niter: {i+1}, g_loss: {g_loss}, d_loss: {d_loss}')\n",
        "\n",
        "encoded = g_e.predict(x_test)\n",
        "gan_x = g.predict(x_test)\n",
        "encoded_gan = g_e.predict(gan_x)\n",
        "score = np.sum(np.absolute(encoded - encoded_gan), axis=-1)\n",
        "score = (score - np.min(score)) / (np.max(score) - np.min(score)) # map to 0~1\n",
        "\n",
        "from matplotlib import pyplot as plt\n",
        "from pylab import rcParams\n",
        "rcParams['figure.figsize'] = 14, 5\n",
        "plt.scatter(range(len(x_test)), score, c=['skyblue' if x == 1 else 'pink' for x in y_test])\n",
        "\n",
        "##sum 500000"
      ],
      "execution_count": null,
      "outputs": []
    },
    {
      "cell_type": "code",
      "metadata": {
        "colab_type": "code",
        "id": "9oXtlu5Yds0p",
        "colab": {}
      },
      "source": [
        ""
      ],
      "execution_count": null,
      "outputs": []
    },
    {
      "cell_type": "code",
      "metadata": {
        "colab_type": "code",
        "id": "2l525foydsx2",
        "colab": {}
      },
      "source": [
        ""
      ],
      "execution_count": null,
      "outputs": []
    },
    {
      "cell_type": "code",
      "metadata": {
        "colab_type": "code",
        "id": "i2I0rCBOdsvc",
        "colab": {}
      },
      "source": [
        ""
      ],
      "execution_count": null,
      "outputs": []
    },
    {
      "cell_type": "code",
      "metadata": {
        "colab_type": "code",
        "id": "T1BJTYardssn",
        "colab": {}
      },
      "source": [
        ""
      ],
      "execution_count": null,
      "outputs": []
    },
    {
      "cell_type": "code",
      "metadata": {
        "colab_type": "code",
        "id": "_aqZd2TXdsqV",
        "colab": {}
      },
      "source": [
        ""
      ],
      "execution_count": null,
      "outputs": []
    },
    {
      "cell_type": "code",
      "metadata": {
        "colab_type": "code",
        "id": "IYQMuvTsWeyN",
        "colab": {}
      },
      "source": [
        ""
      ],
      "execution_count": null,
      "outputs": []
    },
    {
      "cell_type": "code",
      "metadata": {
        "colab_type": "code",
        "id": "_Bb4LMQCWevp",
        "colab": {}
      },
      "source": [
        "i=4\n",
        "y_test[i:i+1]"
      ],
      "execution_count": null,
      "outputs": []
    },
    {
      "cell_type": "code",
      "metadata": {
        "colab_type": "code",
        "id": "T4RTuE-Ud8k9",
        "colab": {}
      },
      "source": [
        "image = np.reshape(gan_x[i:i+1], (64, 64))\n",
        "image = image * 127 + 127\n",
        "plt.imshow(image.astype(np.uint8), cmap='gray')"
      ],
      "execution_count": null,
      "outputs": []
    },
    {
      "cell_type": "code",
      "metadata": {
        "colab_type": "code",
        "id": "zToWEVgjgfkH",
        "colab": {}
      },
      "source": [
        "image = np.reshape(x_test[i:i+1], (64, 64))\n",
        "image = image * 127 + 127\n",
        "plt.imshow(image.astype(np.uint8), cmap='gray')"
      ],
      "execution_count": null,
      "outputs": []
    },
    {
      "cell_type": "code",
      "metadata": {
        "colab_type": "code",
        "id": "eYPlM_WbXS_H",
        "colab": {}
      },
      "source": [
        ""
      ],
      "execution_count": null,
      "outputs": []
    },
    {
      "cell_type": "code",
      "metadata": {
        "colab_type": "code",
        "id": "pL_aOfNoXS7Z",
        "colab": {}
      },
      "source": [
        "i=1\n",
        "y_test[i:i+1]"
      ],
      "execution_count": null,
      "outputs": []
    },
    {
      "cell_type": "code",
      "metadata": {
        "colab_type": "code",
        "id": "je4Qa6nBXS4l",
        "colab": {}
      },
      "source": [
        "image = np.reshape(gan_x[i:i+1], (64, 64))\n",
        "image = image * 127 + 127\n",
        "plt.imshow(image.astype(np.uint8), cmap='gray')"
      ],
      "execution_count": null,
      "outputs": []
    },
    {
      "cell_type": "code",
      "metadata": {
        "colab_type": "code",
        "id": "yqdaqOr4XS2e",
        "colab": {}
      },
      "source": [
        "image = np.reshape(x_test[i:i+1], (64, 64))\n",
        "image = image * 127 + 127\n",
        "plt.imshow(image.astype(np.uint8), cmap='gray')"
      ],
      "execution_count": null,
      "outputs": []
    },
    {
      "cell_type": "code",
      "metadata": {
        "colab_type": "code",
        "id": "Vr3nLb5ZXLKy",
        "colab": {}
      },
      "source": [
        ""
      ],
      "execution_count": null,
      "outputs": []
    },
    {
      "cell_type": "code",
      "metadata": {
        "colab_type": "code",
        "id": "F86rRcE6XLId",
        "colab": {}
      },
      "source": [
        "#x_ok = x_train[y_train == 1]\n",
        "\n",
        "(x_train2, y_train2), (x_test2, y_test2) = mnist.load_data()\n",
        "\n",
        "x_test_7 = x_test2[y_test2 == 7]\n",
        "x_test_7 = reshape_x(x_test_7)\n",
        "\n",
        "x_test_1 = x_test2[y_test2 == 1]\n",
        "x_test_1 = reshape_x(x_test_1)\n",
        "\n",
        "y_test_7 = y_test2[y_test2 == 7]\n",
        "y_test_1 = y_test2[y_test2 == 1]"
      ],
      "execution_count": null,
      "outputs": []
    },
    {
      "cell_type": "code",
      "metadata": {
        "colab_type": "code",
        "id": "A2jWaF0wXLF1",
        "colab": {}
      },
      "source": [
        ""
      ],
      "execution_count": null,
      "outputs": []
    },
    {
      "cell_type": "code",
      "metadata": {
        "colab_type": "code",
        "id": "rMX1nec8XLC_",
        "colab": {}
      },
      "source": [
        "encoded = g_e.predict(x_test_7)\n",
        "gan_x = g.predict(x_test_7)\n",
        "encoded_gan = g_e.predict(gan_x)\n",
        "score = np.sum(np.absolute(encoded - encoded_gan), axis=-1)\n",
        "score = (score - np.min(score)) / (np.max(score) - np.min(score)) # map to 0~1"
      ],
      "execution_count": null,
      "outputs": []
    },
    {
      "cell_type": "code",
      "metadata": {
        "colab_type": "code",
        "id": "WUHM2iUvXLAd",
        "colab": {}
      },
      "source": [
        "score_7=score"
      ],
      "execution_count": null,
      "outputs": []
    },
    {
      "cell_type": "code",
      "metadata": {
        "colab_type": "code",
        "id": "FbQ-mfaqXK-h",
        "colab": {}
      },
      "source": [
        "encoded = g_e.predict(x_test_1)\n",
        "gan_x = g.predict(x_test_1)\n",
        "encoded_gan = g_e.predict(gan_x)\n",
        "score = np.sum(np.absolute(encoded - encoded_gan), axis=-1)\n",
        "score = (score - np.min(score)) / (np.max(score) - np.min(score)) # map to 0~1"
      ],
      "execution_count": null,
      "outputs": []
    },
    {
      "cell_type": "code",
      "metadata": {
        "colab_type": "code",
        "id": "cdXtiRTgXK7-",
        "colab": {}
      },
      "source": [
        "score_ok_1=score"
      ],
      "execution_count": null,
      "outputs": []
    },
    {
      "cell_type": "code",
      "metadata": {
        "colab_type": "code",
        "id": "EJv0Ks4UXK4o",
        "colab": {}
      },
      "source": [
        "\n",
        "\n",
        "sns.set()\n",
        "sns.set_style('whitegrid')\n",
        "sns.set_palette('Set1')\n",
        "\n",
        "fig = plt.figure()\n",
        "ax = fig.add_subplot(1, 1, 1)\n",
        "\n",
        "labels = ['lab_ok_1', 'lab_7']\n",
        "ax.hist(score_ok_1, bins=50, alpha=0.6,label=labels[0])\n",
        "ax.hist(score_7, bins=50, alpha=0.6,label=labels[1])\n",
        "ax.set_xlabel('length [cm]')\n",
        "\n",
        "plt.legend()\n",
        "plt.show()"
      ],
      "execution_count": null,
      "outputs": []
    },
    {
      "cell_type": "code",
      "metadata": {
        "colab_type": "code",
        "id": "OsU_YFsX07u5",
        "colab": {}
      },
      "source": [
        ""
      ],
      "execution_count": null,
      "outputs": []
    },
    {
      "cell_type": "code",
      "metadata": {
        "colab_type": "code",
        "id": "cpxnvyhb07nR",
        "colab": {}
      },
      "source": [
        "#x_ok = x_train[y_train == 1]\n",
        "\n",
        "(x_train2, y_train2), (x_test2, y_test2) = mnist.load_data()\n",
        "\n",
        "x_test_5 = x_test2[y_test2 == 5]\n",
        "x_test_5 = reshape_x(x_test_5)\n",
        "\n",
        "x_test_1 = x_test2[y_test2 == 1]\n",
        "x_test_1 = reshape_x(x_test_1)\n",
        "\n",
        "y_test_5 = y_test2[y_test2 == 5]\n",
        "y_test_1 = y_test2[y_test2 == 1]"
      ],
      "execution_count": null,
      "outputs": []
    },
    {
      "cell_type": "code",
      "metadata": {
        "colab_type": "code",
        "id": "sG6_Vdh507kj",
        "colab": {}
      },
      "source": [
        ""
      ],
      "execution_count": null,
      "outputs": []
    },
    {
      "cell_type": "code",
      "metadata": {
        "colab_type": "code",
        "id": "p_boAOiF07iC",
        "colab": {}
      },
      "source": [
        "encoded = g_e.predict(x_test_5)\n",
        "gan_x = g.predict(x_test_5)\n",
        "encoded_gan = g_e.predict(gan_x)\n",
        "score = np.sum(np.absolute(encoded - encoded_gan), axis=-1)\n",
        "score = (score - np.min(score)) / (np.max(score) - np.min(score)) # map to 0~1"
      ],
      "execution_count": null,
      "outputs": []
    },
    {
      "cell_type": "code",
      "metadata": {
        "colab_type": "code",
        "id": "lzInw5ntIoTU",
        "colab": {}
      },
      "source": [
        "score_5=score"
      ],
      "execution_count": null,
      "outputs": []
    },
    {
      "cell_type": "code",
      "metadata": {
        "colab_type": "code",
        "id": "YKFExEaFItQU",
        "colab": {}
      },
      "source": [
        "encoded = g_e.predict(x_test_1)\n",
        "gan_x = g.predict(x_test_1)\n",
        "encoded_gan = g_e.predict(gan_x)\n",
        "score = np.sum(np.absolute(encoded - encoded_gan), axis=-1)\n",
        "score = (score - np.min(score)) / (np.max(score) - np.min(score)) # map to 0~1"
      ],
      "execution_count": null,
      "outputs": []
    },
    {
      "cell_type": "code",
      "metadata": {
        "colab_type": "code",
        "id": "46WdK58yItFn",
        "colab": {}
      },
      "source": [
        "score_1=score"
      ],
      "execution_count": null,
      "outputs": []
    },
    {
      "cell_type": "code",
      "metadata": {
        "colab_type": "code",
        "id": "5eX6OVBHW2hQ",
        "colab": {}
      },
      "source": [
        ""
      ],
      "execution_count": null,
      "outputs": []
    },
    {
      "cell_type": "code",
      "metadata": {
        "colab_type": "code",
        "id": "wkfV6d038xJG",
        "colab": {}
      },
      "source": [
        "\n",
        "import seaborn as sns\n",
        "\n",
        "sns.set()\n",
        "sns.set_style('whitegrid')\n",
        "sns.set_palette('Set1')\n",
        "\n",
        "fig = plt.figure()\n",
        "ax = fig.add_subplot(1, 1, 1)\n",
        "\n",
        "labels = ['lab_1', 'lab_5']\n",
        "ax.hist(score_1, bins=50, alpha=0.6,label=labels[0])\n",
        "ax.hist(score_5, bins=50, alpha=0.6,label=labels[1])\n",
        "ax.set_xlabel('length [cm]')\n",
        "\n",
        "plt.legend()\n",
        "plt.show()"
      ],
      "execution_count": null,
      "outputs": []
    },
    {
      "cell_type": "code",
      "metadata": {
        "colab_type": "code",
        "id": "IJSryTBz8xGi",
        "colab": {}
      },
      "source": [
        "#学習回数が少なすぎると1の画像が正規分布しない\n",
        "#何回学習したら綺麗に分かれるのか上で検証してみる"
      ],
      "execution_count": null,
      "outputs": []
    },
    {
      "cell_type": "code",
      "metadata": {
        "colab_type": "code",
        "id": "bmM88bMV8xDq",
        "colab": {}
      },
      "source": [
        "g.save_weights('g.h5')"
      ],
      "execution_count": null,
      "outputs": []
    },
    {
      "cell_type": "code",
      "metadata": {
        "colab_type": "code",
        "id": "kWmzUU1h8wsn",
        "colab": {}
      },
      "source": [
        "g_e.save_weights('g_e.h5')"
      ],
      "execution_count": null,
      "outputs": []
    },
    {
      "cell_type": "code",
      "metadata": {
        "colab_type": "code",
        "id": "wpAgajjv8wpw",
        "colab": {}
      },
      "source": [
        ""
      ],
      "execution_count": null,
      "outputs": []
    },
    {
      "cell_type": "code",
      "metadata": {
        "colab_type": "code",
        "id": "LUofLBaeYfV0",
        "colab": {}
      },
      "source": [
        ""
      ],
      "execution_count": null,
      "outputs": []
    },
    {
      "cell_type": "code",
      "metadata": {
        "colab_type": "code",
        "id": "kbmNGaiUYfTa",
        "colab": {}
      },
      "source": [
        ""
      ],
      "execution_count": null,
      "outputs": []
    },
    {
      "cell_type": "code",
      "metadata": {
        "colab_type": "code",
        "id": "EsPEaY0tYfRE",
        "colab": {}
      },
      "source": [
        ""
      ],
      "execution_count": null,
      "outputs": []
    },
    {
      "cell_type": "code",
      "metadata": {
        "colab_type": "code",
        "id": "mz-cbZuYYfOf",
        "colab": {}
      },
      "source": [
        ""
      ],
      "execution_count": null,
      "outputs": []
    },
    {
      "cell_type": "code",
      "metadata": {
        "colab_type": "code",
        "id": "QynkGaF_YfMI",
        "colab": {}
      },
      "source": [
        "from keras import layers\n",
        "import keras\n",
        "import keras.backend as K\n",
        "\n",
        "\n",
        "import numpy as np\n",
        "import seaborn as sns"
      ],
      "execution_count": null,
      "outputs": []
    },
    {
      "cell_type": "code",
      "metadata": {
        "colab_type": "code",
        "id": "NASvhisDYfJo",
        "colab": {}
      },
      "source": [
        "width = 64\n",
        "height = 64\n",
        "channels = 1"
      ],
      "execution_count": null,
      "outputs": []
    },
    {
      "cell_type": "code",
      "metadata": {
        "colab_type": "code",
        "id": "rYr7mGDpYfG7",
        "colab": {}
      },
      "source": [
        "input_layer = layers.Input(name='input', shape=(height, width, channels))\n",
        "\n",
        "# Encoder\n",
        "x = layers.Conv2D(32, (5,5), strides=(1,1), padding='same', name='conv_1', kernel_regularizer = 'l2')(input_layer)\n",
        "x = layers.LeakyReLU(name='leaky_1')(x)\n",
        "\n",
        "x = layers.Conv2D(64, (3,3), strides=(2,2), padding='same', name='conv_2', kernel_regularizer = 'l2')(x)\n",
        "x = layers.BatchNormalization(name='norm_1')(x)\n",
        "x = layers.LeakyReLU(name='leaky_2')(x)\n",
        "\n",
        "\n",
        "x = layers.Conv2D(128, (3,3), strides=(2,2), padding='same', name='conv_3', kernel_regularizer = 'l2')(x)\n",
        "x = layers.BatchNormalization(name='norm_2')(x)\n",
        "x = layers.LeakyReLU(name='leaky_3')(x)\n",
        "\n",
        "\n",
        "x = layers.Conv2D(128, (3,3), strides=(2,2), padding='same', name='conv_4', kernel_regularizer = 'l2')(x)\n",
        "x = layers.BatchNormalization(name='norm_3')(x)\n",
        "x = layers.LeakyReLU(name='leaky_4')(x)\n",
        "\n",
        "x = layers.GlobalAveragePooling2D(name='g_encoder_output')(x)\n",
        "\n",
        "g_e = keras.models.Model(inputs=input_layer, outputs=x)\n",
        "\n",
        "g_e.summary()"
      ],
      "execution_count": null,
      "outputs": []
    },
    {
      "cell_type": "code",
      "metadata": {
        "colab_type": "code",
        "id": "Ol-K6uYPYfEM",
        "colab": {}
      },
      "source": [
        "input_layer = layers.Input(name='input', shape=(height, width, channels))\n",
        "\n",
        "x = g_e(input_layer)\n",
        "\n",
        "y = layers.Dense(width * width * 2, name='dense')(x) # 2 = 128 / 8 / 8\n",
        "y = layers.Reshape((width//8, width//8, 128), name='de_reshape')(y)\n",
        "\n",
        "y = layers.Conv2DTranspose(128, (3,3), strides=(2,2), padding='same', name='deconv_1', kernel_regularizer = 'l2')(y)\n",
        "y = layers.LeakyReLU(name='de_leaky_1')(y)\n",
        "\n",
        "y = layers.Conv2DTranspose(64, (3,3), strides=(2,2), padding='same', name='deconv_2', kernel_regularizer = 'l2')(y)\n",
        "y = layers.LeakyReLU(name='de_leaky_2')(y)\n",
        "\n",
        "y = layers.Conv2DTranspose(32, (3,3), strides=(2,2), padding='same', name='deconv_3', kernel_regularizer = 'l2')(y)\n",
        "y = layers.LeakyReLU(name='de_leaky_3')(y)\n",
        "\n",
        "y = layers.Conv2DTranspose(channels, (1, 1), strides=(1,1), padding='same', name='decoder_deconv_output', kernel_regularizer = 'l2', activation='tanh')(y)\n",
        "\n",
        "g = keras.models.Model(inputs=input_layer, outputs=y)\n",
        "\n",
        "g.summary()"
      ],
      "execution_count": null,
      "outputs": []
    },
    {
      "cell_type": "code",
      "metadata": {
        "colab_type": "code",
        "id": "gXMn2bmBYfBt",
        "colab": {}
      },
      "source": [
        ""
      ],
      "execution_count": null,
      "outputs": []
    },
    {
      "cell_type": "code",
      "metadata": {
        "colab_type": "code",
        "id": "Z2sF3cdXYe_J",
        "colab": {}
      },
      "source": [
        ""
      ],
      "execution_count": null,
      "outputs": []
    },
    {
      "cell_type": "code",
      "metadata": {
        "colab_type": "code",
        "id": "kqGiycIM8wnU",
        "colab": {}
      },
      "source": [
        "g.load_weights('g.h5')"
      ],
      "execution_count": null,
      "outputs": []
    },
    {
      "cell_type": "code",
      "metadata": {
        "colab_type": "code",
        "id": "izmrylBz8wk7",
        "colab": {}
      },
      "source": [
        "g_e.load_weights('g_e.h5')"
      ],
      "execution_count": null,
      "outputs": []
    },
    {
      "cell_type": "code",
      "metadata": {
        "colab_type": "code",
        "id": "zPBDEdPsY9Dm",
        "colab": {}
      },
      "source": [
        ""
      ],
      "execution_count": null,
      "outputs": []
    },
    {
      "cell_type": "code",
      "metadata": {
        "colab_type": "code",
        "id": "Uu2O6o1cY9BG",
        "colab": {}
      },
      "source": [
        "from keras.datasets import mnist\n",
        "import cv2\n",
        "import numpy as np\n",
        "\n"
      ],
      "execution_count": null,
      "outputs": []
    },
    {
      "cell_type": "code",
      "metadata": {
        "colab_type": "code",
        "id": "lBKDAQirY8-p",
        "colab": {}
      },
      "source": [
        "def reshape_x(x):\n",
        "    new_x = np.empty((len(x), width, height))\n",
        "    for i, e in enumerate(x):\n",
        "        new_x[i] = cv2.resize(e, (width, height))\n",
        "    return np.expand_dims(new_x, axis=-1) / 127 - 1\n",
        "  "
      ],
      "execution_count": null,
      "outputs": []
    },
    {
      "cell_type": "code",
      "metadata": {
        "colab_type": "code",
        "id": "kJY3JAoa8whx",
        "colab": {}
      },
      "source": [
        "\n",
        "(x_train, y_train), (x_test, y_test) = mnist.load_data()\n",
        "\n",
        "x_test_6 = x_test[y_test == 6]\n",
        "x_test_6 = reshape_x(x_test_6)\n",
        "\n",
        "x_test_1 = x_test[y_test == 1]\n",
        "x_test_1 = reshape_x(x_test_1)\n",
        "\n",
        "y_test_6 = y_test[y_test == 6]\n",
        "y_test_1 = y_test[y_test == 1]"
      ],
      "execution_count": null,
      "outputs": []
    },
    {
      "cell_type": "code",
      "metadata": {
        "colab_type": "code",
        "id": "WQrdbtKJ8wfL",
        "colab": {}
      },
      "source": [
        "encoded = g_e.predict(x_test_6)\n",
        "gan_x = g.predict(x_test_6)\n",
        "encoded_gan = g_e.predict(gan_x)\n",
        "score = np.sum(np.absolute(encoded - encoded_gan), axis=-1)\n",
        "score = (score - np.min(score)) / (np.max(score) - np.min(score)) # map to 0~1"
      ],
      "execution_count": null,
      "outputs": []
    },
    {
      "cell_type": "code",
      "metadata": {
        "colab_type": "code",
        "id": "xOoPoQnQLaWd",
        "colab": {}
      },
      "source": [
        "fin_weight_score_6=score"
      ],
      "execution_count": null,
      "outputs": []
    },
    {
      "cell_type": "code",
      "metadata": {
        "colab_type": "code",
        "id": "-8zKlY3mLaTk",
        "colab": {}
      },
      "source": [
        ""
      ],
      "execution_count": null,
      "outputs": []
    },
    {
      "cell_type": "code",
      "metadata": {
        "colab_type": "code",
        "id": "hAeJAyjrLaRN",
        "colab": {}
      },
      "source": [
        "encoded = g_e.predict(x_test_1)\n",
        "gan_x = g.predict(x_test_1)\n",
        "encoded_gan = g_e.predict(gan_x)\n",
        "score = np.sum(np.absolute(encoded - encoded_gan), axis=-1)\n",
        "score = (score - np.min(score)) / (np.max(score) - np.min(score)) # map to 0~1"
      ],
      "execution_count": null,
      "outputs": []
    },
    {
      "cell_type": "code",
      "metadata": {
        "colab_type": "code",
        "id": "FBU_zSJGLaN5",
        "colab": {}
      },
      "source": [
        "fin_weight_score_1=score"
      ],
      "execution_count": null,
      "outputs": []
    },
    {
      "cell_type": "code",
      "metadata": {
        "colab_type": "code",
        "id": "5JI6ZUxhLaJA",
        "colab": {}
      },
      "source": [
        ""
      ],
      "execution_count": null,
      "outputs": []
    },
    {
      "cell_type": "code",
      "metadata": {
        "colab_type": "code",
        "id": "anfv9OexLaF_",
        "colab": {}
      },
      "source": [
        "import matplotlib.pyplot as plt\n",
        "import seaborn as sns\n",
        "\n",
        "sns.set()\n",
        "sns.set_style('whitegrid')\n",
        "sns.set_palette('Set1')\n",
        "\n",
        "fig = plt.figure()\n",
        "ax = fig.add_subplot(1, 1, 1)\n",
        "\n",
        "labels = ['fin_weight_lab_1', 'fin_weight_lab_6']\n",
        "ax.hist(fin_weight_score_1, bins=50, alpha=0.6,label=labels[0])\n",
        "ax.hist(fin_weight_score_6, bins=50, alpha=0.6,label=labels[1])\n",
        "ax.set_xlabel('length [cm]')\n",
        "\n",
        "plt.legend()\n",
        "plt.show()"
      ],
      "execution_count": null,
      "outputs": []
    },
    {
      "cell_type": "code",
      "metadata": {
        "colab_type": "code",
        "id": "NBZAdWBiLaDE",
        "colab": {}
      },
      "source": [
        ""
      ],
      "execution_count": null,
      "outputs": []
    }
  ]
}